{
 "cells": [
  {
   "cell_type": "code",
   "execution_count": 4,
   "metadata": {
    "collapsed": true
   },
   "outputs": [],
   "source": [
    "import urllib2\n",
    "import pandas as pd"
   ]
  },
  {
   "cell_type": "code",
   "execution_count": 1,
   "metadata": {
    "collapsed": true
   },
   "outputs": [],
   "source": [
    "url_1 = 'http://blogs.sandiegozoo.org/blog/wp-content/uploads/2006/06/bat-eared_fox_kit.jpg'"
   ]
  },
  {
   "cell_type": "code",
   "execution_count": 8,
   "metadata": {
    "collapsed": false
   },
   "outputs": [],
   "source": [
    "csv_filepath = '/Users/babasarala/Desktop/evaluation/image_url_files/bad_urls/1000.csv'\n",
    "df = pd.read_csv(csv_filepath)\n",
    "img_urls = list(df['img_url'].values)"
   ]
  },
  {
   "cell_type": "code",
   "execution_count": 10,
   "metadata": {
    "collapsed": false
   },
   "outputs": [
    {
     "name": "stdout",
     "output_type": "stream",
     "text": [
      "http://cybermusicalinstruments.com/images/products/na84banss2.jpg\n",
      "http://g.sheetmusicplus.com/Look-Inside/covers/5097252.jpg\n",
      "http://bp2.blogger.com/_5lujDxaR4xk/R-u64fnYtdI/AAAAAAAAAMA/oT5t_iGVywQ/s400/mezzosoprano+sax.jpg\n",
      "http://www.stockshot.nl/makingmusic/images/sax6.jpg\n",
      "http://www.musiclandia.eu.com/images/altosaxhome1.jpg\n",
      "http://www.nickdowns.freeola.com/images/Bass%2001.JPG\n",
      "http://www.bestbrass.jp/en/sound-t/img/esax/pho_tenor.jpg\n",
      "http://www.jazzcapital.net/artists/photos/Ze%20Luis2.jpg\n",
      "http://www.joolsband.com/design/images/profile-nick-lunt.jpg\n",
      "http://www.adolphesax.com/saxantiqua/jpg/HPIM0130.jpg\n",
      "http://img.quebarato.com.br/photos/big/8/8/ECA88_1.jpg\n",
      "http://www.stonepick.com/cotizaciones/cliente/generarimagen.php3?id=1086\n",
      "http://img488.imageshack.us/img488/5743/99dd6.jpg\n",
      "http://www.danielpicazo.com/fotos/kiko.jpg\n",
      "http://www.lpnicholas.com/images/lauren_hr.JPG\n",
      "http://www.decibeles.cl/media/1256BEX_SelmerUSA_saxofon_baritono_Eb_Signet.jpg\n",
      "http://cybermusicalinstruments.com/images/products/altosax77-sa-sc.jpg\n",
      "http://www.musica90.net/manifestazioni/m90/m90XIIIa_img/besh.jpg\n",
      "http://bp0.blogger.com/_5lujDxaR4xk/R-u64_nYteI/AAAAAAAAAMI/J2ak-a_lyls/s400/saxcontrabajo.jpg\n",
      "http://www.gcnews.com/news/2006/0113/School/019p8_lg.jpg\n",
      "http://www.unionmusicalelamotte.com/images%20union/instruments/saxophones.jpg\n",
      "http://www.anunciototal.com/fotos/171634_1.jpg\n",
      "http://www.stagepass.com/images/item_gif/00000234.gif\n",
      "http://www.magictails.com/abydos/images/saxophone/large/alto_saxophone_nickel_roset.jpg\n",
      "http://www.martinezz.com/ojodigital/saxoduciel.jpg\n",
      "http://corporateartists.com/images/branscomberenegadeposse.jpg\n",
      "http://www.saxophones.co.uk/yas62s3.jpg\n",
      "http://www.decibeles.cl/media/AS300EX_SelmerUSA_saxofon_alto_Eb_Signet.jpg\n",
      "http://www.balvanyosensemble.hu/jutkabio2.jpg\n",
      "http://www.esmucomtat.com/Cursos/CursosJuliol/SAXOFON.jpg\n",
      "http://www.mikestern.org/images/ItSb.jpg\n",
      "http://www.garcia-cid.com/images/TYPHOON%20Black.jpg\n",
      "http://www.quartettoberlioz.com/images/1.jpg\n",
      "http://www.nelsonmusicspain.com/blas/Blas%20foto.jpg\n",
      "http://bp0.blogger.com/_sTtlvz0A6yk/SDMBfcjSyLI/AAAAAAAAAgs/r8e4vpRxu_4/s400/saxophone-5.jpg\n",
      "http://www.oboes.us/sell/images/lg_sax_pierret.jpg\n",
      "http://www.cdcc.sc.usp.br/ciencia/artigos/art_25/musicaimagem/sax%20baritono.gif\n",
      "http://www.musicked.com/musicked/pages/software/lessons/concepts/_images/Soprano-Saxophone.png\n",
      "http://byfiles.storage.live.com/y1po-h3jySHYrTL-3EPGmRfaVcYWwJeDnE-RGnEwPP6r5sbCF9r8S9j_3XBA-Vs26HBDGuAfepRwCI\n",
      "http://padovacultura.padovanet.it/homepage-6.0/Duo-AndreoseZanellato.jpg\n",
      "http://www.musicalwarehouse.co.uk/bethtsax.JPG\n",
      "http://www.carolenoakes.co.uk/albums/woodwind/images/Alto%20Saxophone_JPG.jpg\n",
      "http://www.rmcb.net/rmcb/members/woodwind/woodwind.jpg\n",
      "http://instrumentos.viento.com.es/shop/images/TENOR_YAMAHA_YTS_275_S.jpg\n",
      "http://www.fech.cl/files/images/collao&mesko.jpg\n",
      "http://www.antiguawinds.com/instruments/a545lq.jpg\n",
      "http://www.joseluisgaliana.com/wp-content/uploads/2007/11/eiquatre-dos151105.jpg\n",
      "http://deviazionispappolate.com/gcsm_foto/giancarlo1_%20small.jpg\n",
      "http://bp3.blogger.com/_5lujDxaR4xk/R9MiMBye7zI/AAAAAAAAAEg/pF_PuataXFI/s400/jean-yves+fourmeau.gif\n",
      "http://www.durc.com.mx/data/images/yts23.jpg\n",
      "http://www.catalogo.tv/prd/prar254017_1.jpg\n",
      "http://www.consolatdemar.com/imagenes/saxos/SAJF01.JPG\n",
      "http://www.accademiasuperiorecmt.com/DOCENTI/classica/gaetano_di_bacco/Gaetano_di_bacco.jpg\n",
      "http://instrumentos.viento.com.es/shop/images/TENOR_KEILWERTH_3101_8.jpg\n",
      "http://www.ravennafestival.org/binary/ravennafestival/comunicati/Saxophoniagrande.8435_1719_2.jpg\n",
      "http://it.advisto.com/user_images/66533_1753_sax.jpg\n",
      "http://www.ericmarienthal.com/equip_gfx/selmer_tenor_sax400.gif\n",
      "http://www.cricksoft.com/us/images/clicker/saxophone.gif\n",
      "http://www.saxophones.co.uk/tubax.gif\n",
      "http://www.stonepick.com/cotizaciones/cliente/generarimagen.php3?id=1088\n",
      "http://www.20thcenturymarks.co.uk/images/m/157.jpg\n",
      "http://www.rf7.it/wp-content/uploads/2008/05/sassofono.gif\n",
      "http://img.adoosimg.com/cae7de52a48fbf24fc6c7befcb5c-1-3.jpg\n",
      "http://www.garcia-cid.com/images/saxo%20alto%20typhoon%20plata.jpg\n",
      "http://www.misionesmusicales.org.ar/grillosinfonico/biblioteca/instruMusicales/ima/saxofon_alto.jpg\n",
      "http://www.millerssaxshop.com/catalog/images/893SG.jpg\n",
      "http://www.sonido3.es/assets/images/fotos/clasico-saxofon.jpg\n",
      "http://www.elthamwoodwind.com.au/yanagisawa/images/y_tenp.jpg\n",
      "http://www.lcsd.gov.hk/CE/CulturalService/MusicOffice/MusicTool/western/saxophone/saxophone.jpg\n",
      "http://www.wisedude.com/images/saxophone.jpg\n",
      "http://www.jamesgoffbigband.com/images/sax1ab.jpg\n",
      "http://www.palatinousa.com/fileadmin/Palatino/Images_Big/WI-PBW-119A-Big.jpg\n",
      "http://cybermusicalinstruments.com/images/products/TSTS672.jpg\n",
      "http://ima.dada.net/image/halfcol/3163224.jpg\n",
      "http://www.ovidiomolina.com/blog/wp-content/uploads/2007/09/dsc00624.JPG\n",
      "http://instrumentos.viento.com.es/shop/images/TENOR_SELMER_1.jpg\n",
      "http://www.decibeles.cl/media/SSIIIPG_SelmerParis_Saxofon_alto_mod_super_action80.jpg\n",
      "http://www.anunciototal.com/fotos/171634_2.jpg\n",
      "http://www.durc.com.mx/data/images/Silvertone111-3abk.jpg\n",
      "http://ulu.co.uk/files/minisites/123/sax%20line.jpg\n",
      "http://www.distele.com/zen/images/medium/imagenes/c492_MED.jpg\n",
      "http://www.durc.com.mx/data/images/silvertone-200nm.jpg\n",
      "http://www.yamahapiano.com.tw/YTS-475_Enlarged.jpg\n",
      "http://www.giannimicheli.eu/blog/wp-content/uploads/2008/02/08-02-13-classe-sassofoni.jpg\n",
      "http://a1259.g.akamai.net/f/1259/5586/5d/images.art.com/images/-/A-Cromwell/Saxophone--C10287556.jpeg\n",
      "http://images.ciao.com/ide/images/products/normal/486/product-1435486.jpg\n",
      "http://www.osterialacortedeimiracoli.net/public/UserFiles/Image/garzone.JPG\n",
      "http://www.consolatdemar.com/imagenes/saxos/SACA.jpg\n",
      "http://www.saxforum.it/sito/Articoli/ten-cmel-alto.JPG\n",
      "http://www.musik-service.de/images/Content/000000101i00.jpg\n",
      "http://static1.mundoanuncio.com/img/2007/3/14/11519127942.jpg\n",
      "http://www.todo100.com/images/SAXOFON%20ALTO-musical-INSTRUMENTOS002.jpg\n",
      "http://www.topmusicstore.it/tenor_st90_150_0000.jpg\n",
      "http://www.edpeffermusic.com/saxophone_opt.jpg\n",
      "http://www.musicked.com/musicked/pages/software/lessons/concepts/_images/Baritone-Saxophone.png\n",
      "http://www.strumhollow.com/images/instrument_replicas/saxophone_replica.gif\n",
      "http://www.mikejorgensen.com/images/Saxophone.JPG\n",
      "http://www.spiri.ch/grafik/angebot_holz/sax/yamaha_bariton_sax.jpg\n",
      "http://www.interstatemusic.com/wcsstore/InterstateMusic/ims/ipf/BTSYTS475.jpg\n",
      "http://www.tardomusic.com/ProdImages/sax%20jupiter%20565-big.jpg\n"
     ]
    }
   ],
   "source": [
    "bad_urls = []\n",
    "for img_url in img_urls:\n",
    "    print img_url\n",
    "    try:\n",
    "        urllib2.urlopen(img_url)\n",
    "    except:\n",
    "        bad_urls.append(img_url)"
   ]
  },
  {
   "cell_type": "code",
   "execution_count": 11,
   "metadata": {
    "collapsed": false
   },
   "outputs": [
    {
     "name": "stdout",
     "output_type": "stream",
     "text": [
      "98\n"
     ]
    }
   ],
   "source": []
  },
  {
   "cell_type": "code",
   "execution_count": null,
   "metadata": {
    "collapsed": true
   },
   "outputs": [],
   "source": []
  }
 ],
 "metadata": {
  "kernelspec": {
   "display_name": "Python 2",
   "language": "python",
   "name": "python2"
  },
  "language_info": {
   "codemirror_mode": {
    "name": "ipython",
    "version": 2
   },
   "file_extension": ".py",
   "mimetype": "text/x-python",
   "name": "python",
   "nbconvert_exporter": "python",
   "pygments_lexer": "ipython2",
   "version": "2.7.12"
  }
 },
 "nbformat": 4,
 "nbformat_minor": 0
}
