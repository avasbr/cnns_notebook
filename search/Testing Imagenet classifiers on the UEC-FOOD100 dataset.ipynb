{
 "cells": [
  {
   "cell_type": "code",
   "execution_count": 7,
   "metadata": {
    "collapsed": true
   },
   "outputs": [],
   "source": [
    "from cnns.core import LasagneGoogLeNetInceptionV3 as inceptv3\n",
    "import lasagne\n",
    "import numpy as np\n",
    "import pickle as pkl\n",
    "import theano\n",
    "import theano.tensor as T\n",
    "import skimage.io as io\n",
    "from cnns.utils import cnn_utils as cu\n",
    "import sys\n",
    "import os\n",
    "sys.path.insert(1, os.environ['CAFFE_HOME'] + '/python')\n",
    "import caffe\n",
    "import urllib2\n",
    "from skimage import img_as_float\n",
    "from PIL import Image\n",
    "import StringIO\n",
    "from cnns.utils import imagenet_utils as imu\n",
    "import glob"
   ]
  },
  {
   "cell_type": "code",
   "execution_count": null,
   "metadata": {
    "collapsed": false
   },
   "outputs": [],
   "source": [
    "%load_ext autoreload\n",
    "%autoreload 2"
   ]
  },
  {
   "cell_type": "code",
   "execution_count": 4,
   "metadata": {
    "collapsed": true
   },
   "outputs": [],
   "source": [
    "results_dir = '/Users/babasarala/Desktop/evaluation/results/UECFOOD100'"
   ]
  },
  {
   "cell_type": "code",
   "execution_count": 20,
   "metadata": {
    "collapsed": true
   },
   "outputs": [],
   "source": [
    "# Combine all the pickle files\n",
    "def combine_checkpoint_results(results_path):\n",
    "    pattern = '%s/*.p' % (results_path)\n",
    "    \n",
    "    def merge_dicts(d1, d2):\n",
    "        d2_mod = {mem_id: cu.combine_probabilities(\n",
    "            [(tup[0], tup[1]) for tup in tup_list]) for mem_id, tup_list in d2.iteritems()}\n",
    "        assert len(set(d2_mod).intersection(set(d1))) == 0\n",
    "        d1.update(d2_mod)\n",
    "\n",
    "    merged_mem_cats = {}\n",
    "    for f in glob.glob(pattern):\n",
    "        merge_dicts(merged_mem_cats, pkl.load(open(f, \"rb\")))\n",
    "\n",
    "    return merged_mem_cats"
   ]
  },
  {
   "cell_type": "code",
   "execution_count": 23,
   "metadata": {
    "collapsed": false
   },
   "outputs": [],
   "source": [
    "pred_labels = combine_checkpoint_results(results_dir)"
   ]
  },
  {
   "cell_type": "code",
   "execution_count": 31,
   "metadata": {
    "collapsed": false
   },
   "outputs": [],
   "source": [
    "N = len(pred_labels)\n",
    "label_counts = {}\n",
    "for _, pred_label in pred_labels.iteritems():\n",
    "    l,p = max(pred_label, key=lambda x: x[1])\n",
    "    if l not in label_counts:\n",
    "        label_counts[l] = 0\n",
    "    label_counts[l] += 1\n",
    "for k in label_counts.keys():\n",
    "    label_counts[k] /= 1.*N"
   ]
  },
  {
   "cell_type": "code",
   "execution_count": 32,
   "metadata": {
    "collapsed": false
   },
   "outputs": [
    {
     "data": {
      "text/plain": [
       "{u'devices': 7.874015748031496e-05,\n",
       " u'food': 0.6737007874015748,\n",
       " u'furry_friends': 7.874015748031496e-05,\n",
       " u'other': 0.3098425196850394,\n",
       " u'wildlife': 0.016299212598425195}"
      ]
     },
     "execution_count": 32,
     "metadata": {},
     "output_type": "execute_result"
    }
   ],
   "source": [
    "label_counts"
   ]
  }
 ],
 "metadata": {
  "kernelspec": {
   "display_name": "Python 2",
   "language": "python",
   "name": "python2"
  },
  "language_info": {
   "codemirror_mode": {
    "name": "ipython",
    "version": 2
   },
   "file_extension": ".py",
   "mimetype": "text/x-python",
   "name": "python",
   "nbconvert_exporter": "python",
   "pygments_lexer": "ipython2",
   "version": "2.7.10"
  }
 },
 "nbformat": 4,
 "nbformat_minor": 0
}
