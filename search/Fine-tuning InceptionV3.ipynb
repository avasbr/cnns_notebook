{
 "cells": [
  {
   "cell_type": "code",
   "execution_count": 16,
   "metadata": {
    "collapsed": false
   },
   "outputs": [],
   "source": [
    "from lasagne.layers import InputLayer\n",
    "from lasagne.nonlinearities import softmax\n",
    "from lasagne.utils import floatX\n",
    "from cnns.utils import cnn_utils as cu\n",
    "from cnns.utils import classify_utils as clu\n",
    "import lasagne\n",
    "import theano.tensor as T\n",
    "import theano\n",
    "import numpy as np"
   ]
  },
  {
   "cell_type": "code",
   "execution_count": 2,
   "metadata": {
    "collapsed": true
   },
   "outputs": [],
   "source": [
    "%load_ext autoreload\n",
    "%autoreload 2"
   ]
  },
  {
   "cell_type": "code",
   "execution_count": 4,
   "metadata": {
    "collapsed": true
   },
   "outputs": [],
   "source": [
    "config_dirpath = '/Users/babasarala/repos/cnns/config'\n",
    "settings_filename = 'settings_v1.6.ini'\n",
    "model_dirpath = '/Users/babasarala/repos/cnns/models'\n",
    "inceptv3, _, _, config = clu.init_model_and_config(config_dirpath, \n",
    "                                                   settings_filename, \n",
    "                                                   model_dirpath)"
   ]
  },
  {
   "cell_type": "markdown",
   "metadata": {},
   "source": [
    "Fine-tuning the Inceptionv3 model in Lasagne"
   ]
  },
  {
   "cell_type": "code",
   "execution_count": null,
   "metadata": {
    "collapsed": true
   },
   "outputs": [],
   "source": [
    "NUM_CLASSES = 7\n",
    "\n",
    "# replace the imagenet final layer with a custom layer\n",
    "inceptv3.net['softmax'] = DenseLayer(inceptv3.net['pool3'], num_units=7, nonlinearity=softmax)"
   ]
  },
  {
   "cell_type": "code",
   "execution_count": 11,
   "metadata": {
    "collapsed": false
   },
   "outputs": [],
   "source": [
    "# define loss function and metrics\n",
    "X_sym = T.tensor4()\n",
    "y_sym = T.ivector()\n",
    "\n",
    "pred = lasagne.layers.get_output(inceptv3.net['softmax'], X_sym)\n",
    "loss = lasagne.objectives.categorical_crossentropy(pred, y_sym)\n",
    "loss = loss.mean()\n",
    "\n",
    "acc = T.mean(T.eq(T.argmax(pred, axis=1), y_sym), dtype=theano.config.floatX)\n",
    "params = lasagne.layers.get_all_params(inceptv3.net['softmax'], trainable=True)\n",
    "updates = lasagne.updates.nesterov_momentum(loss, params, learning_rate=0.0001, momentum=0.9)"
   ]
  },
  {
   "cell_type": "code",
   "execution_count": 13,
   "metadata": {
    "collapsed": true
   },
   "outputs": [],
   "source": [
    "# compile functions for training, validation and prediction\n",
    "train_fcn = theano.function([X_sym, y_sym], loss, updates=updates)\n",
    "val_fcn = theano.function([X_sym, y_sym], [loss, acc])\n",
    "pred_fcn = theano.function([X_sym], pred)"
   ]
  },
  {
   "cell_type": "code",
   "execution_count": 27,
   "metadata": {
    "collapsed": true
   },
   "outputs": [],
   "source": [
    "def generate_next_idx_batch(idx_iterable, batch_size):\n",
    "    batch = []\n",
    "    for idx in idx_iterable:\n",
    "        batch.append(idx)\n",
    "        if len(batch) == batch_size:\n",
    "            yield batch\n",
    "            batch = []\n",
    "    if batch:\n",
    "        yield batch\n",
    "\n",
    "def process_batch(f, img_filepath_batch, enum_cats):\n",
    "    ''' given a processing function f and alist of image filepaths, \n",
    "    constructs a data matrix '''\n",
    "    X = []\n",
    "    y = []\n",
    "    for img_filepath, enum_cat in enumerate(img_filepath_batch, enum_cats):\n",
    "        X.append(f(img_filepath, src='local'))\n",
    "        y.append(enum_cat)\n",
    "    X = np.concatenate(X)\n",
    "    y = np.array(y).astype('int32')\n",
    "    return X, y"
   ]
  },
  {
   "cell_type": "code",
   "execution_count": null,
   "metadata": {
    "collapsed": true
   },
   "outputs": [],
   "source": [
    "for epoch in range(num_epochs):\n",
    "    idx_iterable = "
   ]
  },
  {
   "cell_type": "code",
   "execution_count": 25,
   "metadata": {
    "collapsed": false
   },
   "outputs": [],
   "source": [
    "idx_iterable = np.random.permutation(range(1253))"
   ]
  },
  {
   "cell_type": "code",
   "execution_count": 26,
   "metadata": {
    "collapsed": false
   },
   "outputs": [
    {
     "name": "stdout",
     "output_type": "stream",
     "text": [
      "100\n",
      "100\n",
      "100\n",
      "100\n",
      "100\n",
      "100\n",
      "100\n",
      "100\n",
      "100\n",
      "100\n",
      "100\n",
      "100\n",
      "53\n"
     ]
    }
   ],
   "source": [
    "for batch in generate_next_batch(idx_iterable, 100):\n",
    "    print len(batch)"
   ]
  },
  {
   "cell_type": "code",
   "execution_count": null,
   "metadata": {
    "collapsed": true
   },
   "outputs": [],
   "source": []
  }
 ],
 "metadata": {
  "kernelspec": {
   "display_name": "Python 2",
   "language": "python",
   "name": "python2"
  },
  "language_info": {
   "codemirror_mode": {
    "name": "ipython",
    "version": 2
   },
   "file_extension": ".py",
   "mimetype": "text/x-python",
   "name": "python",
   "nbconvert_exporter": "python",
   "pygments_lexer": "ipython2",
   "version": "2.7.12"
  }
 },
 "nbformat": 4,
 "nbformat_minor": 0
}
