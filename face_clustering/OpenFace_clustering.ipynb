{
 "cells": [
  {
   "cell_type": "code",
   "execution_count": 15,
   "metadata": {
    "collapsed": true
   },
   "outputs": [],
   "source": [
    "from cnns.core import TorchOpenFace as tof\n",
    "from cnns.utils import cnn_utils as cu\n",
    "import cv2\n",
    "import numpy as np\n",
    "import pandas as pd\n",
    "from cnns.core import SOMClusterer as scl\n",
    "from sklearn.metrics.cluster import homogeneity_completeness_v_measure\n",
    "from cnns.utils import clustering_utils as clu\n",
    "import pickle as pkl\n",
    "import matplotlib.pyplot as plt\n",
    "from sklearn.metrics import silhouette_samples"
   ]
  },
  {
   "cell_type": "code",
   "execution_count": 16,
   "metadata": {
    "collapsed": false
   },
   "outputs": [
    {
     "name": "stdout",
     "output_type": "stream",
     "text": [
      "The autoreload extension is already loaded. To reload it, use:\n",
      "  %reload_ext autoreload\n"
     ]
    }
   ],
   "source": [
    "%load_ext autoreload\n",
    "%autoreload 2\n",
    "%matplotlib inline"
   ]
  },
  {
   "cell_type": "markdown",
   "metadata": {},
   "source": [
    "Playground"
   ]
  },
  {
   "cell_type": "code",
   "execution_count": 7,
   "metadata": {
    "collapsed": false
   },
   "outputs": [],
   "source": [
    "cluster_stats = scl_.compute_cluster_stats(cluster_df)"
   ]
  },
  {
   "cell_type": "code",
   "execution_count": 9,
   "metadata": {
    "collapsed": false
   },
   "outputs": [
    {
     "data": {
      "text/plain": [
       "Index([u'avg_euclid_dist', u'cluster_idx', u'size', u'var'], dtype='object')"
      ]
     },
     "execution_count": 9,
     "metadata": {},
     "output_type": "execute_result"
    }
   ],
   "source": [
    "cluster_stats.columns"
   ]
  },
  {
   "cell_type": "code",
   "execution_count": 10,
   "metadata": {
    "collapsed": true
   },
   "outputs": [],
   "source": [
    "sorted_cluster_stats = cluster_stats.sort(columns=['avg_euclid_dist'])"
   ]
  },
  {
   "cell_type": "code",
   "execution_count": 14,
   "metadata": {
    "collapsed": false
   },
   "outputs": [
    {
     "data": {
      "text/plain": [
       "Index([u'f0', u'f1', u'f2', u'f3', u'f4', u'f5', u'f6', u'f7', u'f8', u'f9', \n",
       "       ...\n",
       "       u'f120', u'f121', u'f122', u'f123', u'f124', u'f125', u'f126', u'f127',\n",
       "       u'face_url', u'cluster_idx'],\n",
       "      dtype='object', length=130)"
      ]
     },
     "execution_count": 14,
     "metadata": {},
     "output_type": "execute_result"
    }
   ],
   "source": [
    "cluster_df.columns"
   ]
  },
  {
   "cell_type": "code",
   "execution_count": 16,
   "metadata": {
    "collapsed": false
   },
   "outputs": [],
   "source": [
    "cluster_map = clu.get_map_from_dataframe(cluster_df, 'face_url', 'cluster_idx')\n",
    "clu.visualize_clusters(cluster_map, '/Users/babasarala/Desktop/face_clustering/openface/%i_visualization.html'%user_id)"
   ]
  },
  {
   "cell_type": "code",
   "execution_count": 23,
   "metadata": {
    "collapsed": false
   },
   "outputs": [
    {
     "data": {
      "text/html": [
       "<div>\n",
       "<table border=\"1\" class=\"dataframe\">\n",
       "  <thead>\n",
       "    <tr style=\"text-align: right;\">\n",
       "      <th></th>\n",
       "      <th>avg_euclid_dist</th>\n",
       "      <th>cluster_idx</th>\n",
       "      <th>size</th>\n",
       "      <th>var</th>\n",
       "    </tr>\n",
       "  </thead>\n",
       "  <tbody>\n",
       "    <tr>\n",
       "      <th>4</th>\n",
       "      <td>0.468043</td>\n",
       "      <td>4</td>\n",
       "      <td>43</td>\n",
       "      <td>0.111799</td>\n",
       "    </tr>\n",
       "    <tr>\n",
       "      <th>34</th>\n",
       "      <td>0.597210</td>\n",
       "      <td>34</td>\n",
       "      <td>14</td>\n",
       "      <td>0.176826</td>\n",
       "    </tr>\n",
       "    <tr>\n",
       "      <th>28</th>\n",
       "      <td>0.639599</td>\n",
       "      <td>28</td>\n",
       "      <td>13</td>\n",
       "      <td>0.197128</td>\n",
       "    </tr>\n",
       "    <tr>\n",
       "      <th>2</th>\n",
       "      <td>0.691272</td>\n",
       "      <td>2</td>\n",
       "      <td>24</td>\n",
       "      <td>0.237537</td>\n",
       "    </tr>\n",
       "    <tr>\n",
       "      <th>19</th>\n",
       "      <td>0.707702</td>\n",
       "      <td>19</td>\n",
       "      <td>18</td>\n",
       "      <td>0.247356</td>\n",
       "    </tr>\n",
       "    <tr>\n",
       "      <th>6</th>\n",
       "      <td>0.711931</td>\n",
       "      <td>6</td>\n",
       "      <td>28</td>\n",
       "      <td>0.258499</td>\n",
       "    </tr>\n",
       "    <tr>\n",
       "      <th>3</th>\n",
       "      <td>0.746288</td>\n",
       "      <td>3</td>\n",
       "      <td>14</td>\n",
       "      <td>0.276595</td>\n",
       "    </tr>\n",
       "    <tr>\n",
       "      <th>12</th>\n",
       "      <td>0.776627</td>\n",
       "      <td>12</td>\n",
       "      <td>24</td>\n",
       "      <td>0.305592</td>\n",
       "    </tr>\n",
       "  </tbody>\n",
       "</table>\n",
       "</div>"
      ],
      "text/plain": [
       "    avg_euclid_dist  cluster_idx  size       var\n",
       "4          0.468043            4    43  0.111799\n",
       "34         0.597210           34    14  0.176826\n",
       "28         0.639599           28    13  0.197128\n",
       "2          0.691272            2    24  0.237537\n",
       "19         0.707702           19    18  0.247356\n",
       "6          0.711931            6    28  0.258499\n",
       "3          0.746288            3    14  0.276595\n",
       "12         0.776627           12    24  0.305592"
      ]
     },
     "execution_count": 23,
     "metadata": {},
     "output_type": "execute_result"
    }
   ],
   "source": [
    "sorted_cluster_stats[sorted_cluster_stats['size'] > 10]"
   ]
  },
  {
   "cell_type": "code",
   "execution_count": 18,
   "metadata": {
    "collapsed": false
   },
   "outputs": [],
   "source": [
    "ed = sorted_cluster_stats['avg_euclid_dist'].values\n",
    "var = sorted_cluster_stats['var'].values"
   ]
  },
  {
   "cell_type": "code",
   "execution_count": 22,
   "metadata": {
    "collapsed": false
   },
   "outputs": [
    {
     "name": "stderr",
     "output_type": "stream",
     "text": [
      "/usr/local/lib/python2.7/site-packages/matplotlib/collections.py:590: FutureWarning: elementwise comparison failed; returning scalar instead, but in the future will perform elementwise comparison\n",
      "  if self._edgecolors == str('face'):\n"
     ]
    },
    {
     "data": {
      "image/png": "[encoded data removed]",
      "text/plain": [
       "<matplotlib.figure.Figure at 0x10f3b9110>"
      ]
     },
     "metadata": {},
     "output_type": "display_data"
    }
   ],
   "source": [
    "plt.scatter(ed, var)\n",
    "plt.show()"
   ]
  },
  {
   "cell_type": "markdown",
   "metadata": {
    "collapsed": true
   },
   "source": [
    "Testing out Silhouette Samples"
   ]
  },
  {
   "cell_type": "code",
   "execution_count": 13,
   "metadata": {
    "collapsed": true
   },
   "outputs": [],
   "source": [
    "def visualize_silhouette_clusters(user_id, n_face_thresh=3, sil_coef_thresh=0):\n",
    "    \n",
    "    # paths\n",
    "    results_dirpath = '/Users/babasarala/Desktop/face_clustering/openface_experiments'\n",
    "    cluster_html_dirpath = '/Users/babasarala/Desktop/face_clustering/openface_experiments/cluster_htmls'\n",
    "    cluster_html_filepath = '%s/%i_best_silhouette.html'%(cluster_html_dirpath, user_id)\n",
    "    cluster_pkl_filepath = '%s/%i_cluster_stats.p'%(cluster_html_dirpath, user_id)\n",
    "    \n",
    "    # get the feature vectors...\n",
    "    img_urls, X = pkl.load(open('%s/%i_cnn_codes.p'%(results_dirpath, user_id), 'rb'))\n",
    "    \n",
    "    # ...cluster...\n",
    "    scl_ = scl.SOMClusterer(img_urls, X)\n",
    "    cluster_df = scl_.run()\n",
    "        \n",
    "    # collect some metrics\n",
    "    cluster_stats = scl_.create_cluster_stats(cluster_df)\n",
    "    \n",
    "    # visualize these clusters\n",
    "    idxs = cluster_stats['cluster_idx'].values\n",
    "    df = cluster_df[cluster_df['cluster_idx'].isin(idxs)]\n",
    "    clustering_maps = clu.get_map_from_dataframe(df, 'face_url', 'cluster_idx')\n",
    "    clu.visualize_clusters(clustering_maps, cluster_html_filepath)\n",
    "    \n",
    "    # save off the cluster stats\n",
    "    pkl.dump(cluster_stats, open(cluster_pkl_filepath, 'wb'))"
   ]
  },
  {
   "cell_type": "code",
   "execution_count": 14,
   "metadata": {
    "collapsed": false
   },
   "outputs": [],
   "source": [
    "user_ids = [1946418, 8657185, 5626377, 5, 5692777, 3473194, 3928074, 4619758, 2685009, 1496616, 1341, 8, 34, 6007945]\n",
    "for user_id in user_ids:\n",
    "    visualize_silhouette_clusters(user_id)"
   ]
  },
  {
   "cell_type": "code",
   "execution_count": 108,
   "metadata": {
    "collapsed": false
   },
   "outputs": [],
   "source": [
    "# filter clusters based on thresh and compute \n",
    "num_faces_per_cluster = cluster_df['cluster_idx'].value_counts()\n",
    "num_faces_per_cluster = num_faces_per_cluster[num_faces_per_cluster >= n_faces_thresh]\n",
    "filt_cluster_idxs = num_faces_per_cluster.index.values\n",
    "filt_cluster_df = cluster_df[cluster_df['cluster_idx'].isin(filt_cluster_idxs)]\n",
    "\n",
    "X = filt_cluster_df[scl_.feat_cols].values\n",
    "labels = filt_cluster_df['cluster_idx'].values\n",
    "sil_coeffs = silhouette_samples(X, labels)"
   ]
  },
  {
   "cell_type": "code",
   "execution_count": 109,
   "metadata": {
    "collapsed": true
   },
   "outputs": [],
   "source": [
    "cluster_sil_coeff = pd.DataFrame({'cluster_idx': filt_cluster_df['cluster_idx'].values, \n",
    "                                  'sil_coeff': sil_coeffs})"
   ]
  },
  {
   "cell_type": "code",
   "execution_count": 119,
   "metadata": {
    "collapsed": false
   },
   "outputs": [
    {
     "data": {
      "text/html": [
       "<div>\n",
       "<table border=\"1\" class=\"dataframe\">\n",
       "  <thead>\n",
       "    <tr style=\"text-align: right;\">\n",
       "      <th></th>\n",
       "      <th>cluster_idx</th>\n",
       "      <th>mean_sil_coeff</th>\n",
       "      <th>num_faces</th>\n",
       "    </tr>\n",
       "  </thead>\n",
       "  <tbody>\n",
       "    <tr>\n",
       "      <th>0</th>\n",
       "      <td>0</td>\n",
       "      <td>0.410976</td>\n",
       "      <td>6</td>\n",
       "    </tr>\n",
       "    <tr>\n",
       "      <th>1</th>\n",
       "      <td>1</td>\n",
       "      <td>0.036850</td>\n",
       "      <td>5</td>\n",
       "    </tr>\n",
       "    <tr>\n",
       "      <th>2</th>\n",
       "      <td>2</td>\n",
       "      <td>0.022369</td>\n",
       "      <td>21</td>\n",
       "    </tr>\n",
       "    <tr>\n",
       "      <th>3</th>\n",
       "      <td>3</td>\n",
       "      <td>0.059135</td>\n",
       "      <td>11</td>\n",
       "    </tr>\n",
       "    <tr>\n",
       "      <th>4</th>\n",
       "      <td>4</td>\n",
       "      <td>-0.045493</td>\n",
       "      <td>35</td>\n",
       "    </tr>\n",
       "    <tr>\n",
       "      <th>5</th>\n",
       "      <td>5</td>\n",
       "      <td>-0.118422</td>\n",
       "      <td>15</td>\n",
       "    </tr>\n",
       "    <tr>\n",
       "      <th>6</th>\n",
       "      <td>6</td>\n",
       "      <td>0.045952</td>\n",
       "      <td>42</td>\n",
       "    </tr>\n",
       "    <tr>\n",
       "      <th>7</th>\n",
       "      <td>8</td>\n",
       "      <td>0.131586</td>\n",
       "      <td>4</td>\n",
       "    </tr>\n",
       "    <tr>\n",
       "      <th>8</th>\n",
       "      <td>9</td>\n",
       "      <td>0.210541</td>\n",
       "      <td>3</td>\n",
       "    </tr>\n",
       "    <tr>\n",
       "      <th>9</th>\n",
       "      <td>10</td>\n",
       "      <td>0.174837</td>\n",
       "      <td>6</td>\n",
       "    </tr>\n",
       "    <tr>\n",
       "      <th>10</th>\n",
       "      <td>11</td>\n",
       "      <td>-0.062767</td>\n",
       "      <td>6</td>\n",
       "    </tr>\n",
       "    <tr>\n",
       "      <th>11</th>\n",
       "      <td>12</td>\n",
       "      <td>-0.045224</td>\n",
       "      <td>4</td>\n",
       "    </tr>\n",
       "    <tr>\n",
       "      <th>12</th>\n",
       "      <td>13</td>\n",
       "      <td>0.153913</td>\n",
       "      <td>35</td>\n",
       "    </tr>\n",
       "    <tr>\n",
       "      <th>13</th>\n",
       "      <td>16</td>\n",
       "      <td>-0.031239</td>\n",
       "      <td>5</td>\n",
       "    </tr>\n",
       "    <tr>\n",
       "      <th>14</th>\n",
       "      <td>17</td>\n",
       "      <td>-0.022763</td>\n",
       "      <td>16</td>\n",
       "    </tr>\n",
       "    <tr>\n",
       "      <th>15</th>\n",
       "      <td>21</td>\n",
       "      <td>-0.016770</td>\n",
       "      <td>6</td>\n",
       "    </tr>\n",
       "    <tr>\n",
       "      <th>16</th>\n",
       "      <td>23</td>\n",
       "      <td>0.333010</td>\n",
       "      <td>7</td>\n",
       "    </tr>\n",
       "    <tr>\n",
       "      <th>17</th>\n",
       "      <td>24</td>\n",
       "      <td>0.232416</td>\n",
       "      <td>3</td>\n",
       "    </tr>\n",
       "    <tr>\n",
       "      <th>18</th>\n",
       "      <td>25</td>\n",
       "      <td>0.164317</td>\n",
       "      <td>4</td>\n",
       "    </tr>\n",
       "    <tr>\n",
       "      <th>19</th>\n",
       "      <td>27</td>\n",
       "      <td>0.128865</td>\n",
       "      <td>3</td>\n",
       "    </tr>\n",
       "    <tr>\n",
       "      <th>20</th>\n",
       "      <td>28</td>\n",
       "      <td>-0.041202</td>\n",
       "      <td>9</td>\n",
       "    </tr>\n",
       "    <tr>\n",
       "      <th>21</th>\n",
       "      <td>29</td>\n",
       "      <td>0.067498</td>\n",
       "      <td>12</td>\n",
       "    </tr>\n",
       "    <tr>\n",
       "      <th>22</th>\n",
       "      <td>30</td>\n",
       "      <td>0.074679</td>\n",
       "      <td>7</td>\n",
       "    </tr>\n",
       "    <tr>\n",
       "      <th>23</th>\n",
       "      <td>32</td>\n",
       "      <td>-0.056258</td>\n",
       "      <td>9</td>\n",
       "    </tr>\n",
       "    <tr>\n",
       "      <th>24</th>\n",
       "      <td>34</td>\n",
       "      <td>0.166068</td>\n",
       "      <td>10</td>\n",
       "    </tr>\n",
       "    <tr>\n",
       "      <th>25</th>\n",
       "      <td>35</td>\n",
       "      <td>0.059514</td>\n",
       "      <td>13</td>\n",
       "    </tr>\n",
       "    <tr>\n",
       "      <th>26</th>\n",
       "      <td>36</td>\n",
       "      <td>0.051774</td>\n",
       "      <td>4</td>\n",
       "    </tr>\n",
       "    <tr>\n",
       "      <th>27</th>\n",
       "      <td>38</td>\n",
       "      <td>-0.047531</td>\n",
       "      <td>3</td>\n",
       "    </tr>\n",
       "    <tr>\n",
       "      <th>28</th>\n",
       "      <td>41</td>\n",
       "      <td>0.420722</td>\n",
       "      <td>6</td>\n",
       "    </tr>\n",
       "    <tr>\n",
       "      <th>29</th>\n",
       "      <td>42</td>\n",
       "      <td>0.119370</td>\n",
       "      <td>4</td>\n",
       "    </tr>\n",
       "    <tr>\n",
       "      <th>30</th>\n",
       "      <td>44</td>\n",
       "      <td>-0.201467</td>\n",
       "      <td>3</td>\n",
       "    </tr>\n",
       "    <tr>\n",
       "      <th>31</th>\n",
       "      <td>46</td>\n",
       "      <td>0.040829</td>\n",
       "      <td>3</td>\n",
       "    </tr>\n",
       "    <tr>\n",
       "      <th>32</th>\n",
       "      <td>51</td>\n",
       "      <td>-0.123484</td>\n",
       "      <td>4</td>\n",
       "    </tr>\n",
       "    <tr>\n",
       "      <th>33</th>\n",
       "      <td>59</td>\n",
       "      <td>-0.043636</td>\n",
       "      <td>3</td>\n",
       "    </tr>\n",
       "    <tr>\n",
       "      <th>34</th>\n",
       "      <td>75</td>\n",
       "      <td>-0.102980</td>\n",
       "      <td>3</td>\n",
       "    </tr>\n",
       "    <tr>\n",
       "      <th>35</th>\n",
       "      <td>83</td>\n",
       "      <td>-0.071792</td>\n",
       "      <td>3</td>\n",
       "    </tr>\n",
       "    <tr>\n",
       "      <th>36</th>\n",
       "      <td>101</td>\n",
       "      <td>-0.103365</td>\n",
       "      <td>3</td>\n",
       "    </tr>\n",
       "  </tbody>\n",
       "</table>\n",
       "</div>"
      ],
      "text/plain": [
       "    cluster_idx  mean_sil_coeff  num_faces\n",
       "0             0        0.410976          6\n",
       "1             1        0.036850          5\n",
       "2             2        0.022369         21\n",
       "3             3        0.059135         11\n",
       "4             4       -0.045493         35\n",
       "5             5       -0.118422         15\n",
       "6             6        0.045952         42\n",
       "7             8        0.131586          4\n",
       "8             9        0.210541          3\n",
       "9            10        0.174837          6\n",
       "10           11       -0.062767          6\n",
       "11           12       -0.045224          4\n",
       "12           13        0.153913         35\n",
       "13           16       -0.031239          5\n",
       "14           17       -0.022763         16\n",
       "15           21       -0.016770          6\n",
       "16           23        0.333010          7\n",
       "17           24        0.232416          3\n",
       "18           25        0.164317          4\n",
       "19           27        0.128865          3\n",
       "20           28       -0.041202          9\n",
       "21           29        0.067498         12\n",
       "22           30        0.074679          7\n",
       "23           32       -0.056258          9\n",
       "24           34        0.166068         10\n",
       "25           35        0.059514         13\n",
       "26           36        0.051774          4\n",
       "27           38       -0.047531          3\n",
       "28           41        0.420722          6\n",
       "29           42        0.119370          4\n",
       "30           44       -0.201467          3\n",
       "31           46        0.040829          3\n",
       "32           51       -0.123484          4\n",
       "33           59       -0.043636          3\n",
       "34           75       -0.102980          3\n",
       "35           83       -0.071792          3\n",
       "36          101       -0.103365          3"
      ]
     },
     "execution_count": 119,
     "metadata": {},
     "output_type": "execute_result"
    }
   ],
   "source": [
    "cluster_stats = cluster_sil_coeff.groupby('cluster_idx')['sil_coeff'].agg({'mean_sil_coeff':np.mean, 'num_faces':len}).reset_index()"
   ]
  },
  {
   "cell_type": "code",
   "execution_count": null,
   "metadata": {
    "collapsed": true
   },
   "outputs": [],
   "source": [
    "pkl.dump()"
   ]
  },
  {
   "cell_type": "markdown",
   "metadata": {
    "collapsed": true
   },
   "source": [
    "Interdistance"
   ]
  },
  {
   "cell_type": "code",
   "execution_count": 21,
   "metadata": {
    "collapsed": true
   },
   "outputs": [],
   "source": [
    "from scipy.spatial.distance import pdist"
   ]
  },
  {
   "cell_type": "code",
   "execution_count": 37,
   "metadata": {
    "collapsed": false
   },
   "outputs": [],
   "source": [
    "user_id = 1341\n",
    "pickle_dirpath = '/Users/babasarala/Desktop/face_clustering/openface_experiments'\n",
    "cnn_codes_filepath = '%s/%i_cnn_codes.p'%(pickle_dirpath, user_id)\n",
    "img_urls, X = pkl.load(open(cnn_codes_filepath, 'rb'))"
   ]
  },
  {
   "cell_type": "code",
   "execution_count": 38,
   "metadata": {
    "collapsed": false
   },
   "outputs": [],
   "source": [
    "Y = pdist(X, 'euclidean')"
   ]
  },
  {
   "cell_type": "code",
   "execution_count": 39,
   "metadata": {
    "collapsed": false
   },
   "outputs": [
    {
     "data": {
      "image/png": "[encoded data removed]",
      "text/plain": [
       "<matplotlib.figure.Figure at 0x1176ff950>"
      ]
     },
     "metadata": {},
     "output_type": "display_data"
    }
   ],
   "source": [
    "plt.hist(Y, bins=100)\n",
    "plt.show()"
   ]
  },
  {
   "cell_type": "code",
   "execution_count": 29,
   "metadata": {
    "collapsed": false
   },
   "outputs": [
    {
     "data": {
      "text/plain": [
       "6965778"
      ]
     },
     "execution_count": 29,
     "metadata": {},
     "output_type": "execute_result"
    }
   ],
   "source": []
  },
  {
   "cell_type": "code",
   "execution_count": null,
   "metadata": {
    "collapsed": true
   },
   "outputs": [],
   "source": []
  }
 ],
 "metadata": {
  "kernelspec": {
   "display_name": "Python 2",
   "language": "python",
   "name": "python2"
  },
  "language_info": {
   "codemirror_mode": {
    "name": "ipython",
    "version": 2
   },
   "file_extension": ".py",
   "mimetype": "text/x-python",
   "name": "python",
   "nbconvert_exporter": "python",
   "pygments_lexer": "ipython2",
   "version": "2.7.12"
  }
 },
 "nbformat": 4,
 "nbformat_minor": 0
}
