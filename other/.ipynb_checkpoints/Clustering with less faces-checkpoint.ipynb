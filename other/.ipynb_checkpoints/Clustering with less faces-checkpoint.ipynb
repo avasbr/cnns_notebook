{
 "cells": [
  {
   "cell_type": "code",
   "execution_count": 2,
   "metadata": {
    "collapsed": false
   },
   "outputs": [],
   "source": [
    "import pandas as pd\n",
    "import numpy as np\n",
    "import pickle as pkl\n",
    "from cnns.utils import clustering_utils as clu\n",
    "from cnns.core import SOMClusterer as scl\n",
    "from sklearn.metrics.cluster import homogeneity_completeness_v_measure"
   ]
  },
  {
   "cell_type": "code",
   "execution_count": 3,
   "metadata": {
    "collapsed": false
   },
   "outputs": [],
   "source": [
    "%load_ext autoreload\n",
    "%autoreload 2"
   ]
  },
  {
   "cell_type": "code",
   "execution_count": 4,
   "metadata": {
    "collapsed": true
   },
   "outputs": [],
   "source": [
    "def shuffle(df, n=1, axis=0):     \n",
    "    df = df.copy()\n",
    "    for _ in range(n):\n",
    "        df.apply(np.random.shuffle, axis=axis)\n",
    "    return df\n",
    "\n",
    "def sample_faces(csv_filepath, p=0.1, shuffle_flag=True):\n",
    "    df = pd.read_csv(csv_filepath)\n",
    "    if shuffle_flag:\n",
    "        df = shuffle(df)\n",
    "    m = int(p*len(df))\n",
    "    return df.ix[:m-1]\n"
   ]
  },
  {
   "cell_type": "code",
   "execution_count": 5,
   "metadata": {
    "collapsed": true
   },
   "outputs": [],
   "source": [
    "user_ids = [1946418, 8657185, 5626377, 5, 5692777, 3473194, 3928074, 4619758, 2685009, 1496616, 1341, 8, 34, 6007945]"
   ]
  },
  {
   "cell_type": "code",
   "execution_count": 122,
   "metadata": {
    "collapsed": false
   },
   "outputs": [],
   "source": [
    "user_id = 2685009\n",
    "cluster_settings_ver = 1.2\n",
    "comp_type = 'None'\n",
    "base_dirpath = '/Users/babasarala/Desktop/face_clustering_full_data'\n",
    "\n",
    "url_csv_filepath = '%s/%i/%i_prod_fb_tags_img_urls_%.1f_%s.csv'%(base_dirpath, user_id, user_id, cluster_settings_ver,\n",
    "                                                               comp_type)\n",
    "orig_csv_filepath = '%s/%i/%i_prod_fb_tags_%.1f.csv'%(base_dirpath, user_id, user_id, cluster_settings_ver)\n",
    "url_df = pd.read_csv(open(url_csv_filepath, 'rb'))\n",
    "orig_df = pd.read_csv(open(orig_csv_filepath, 'rb'))\n",
    "url_with_tstamp_df = pd.merge(url_df, orig_df, on=['face_id'])\n",
    "url_with_tstamp_df = url_with_tstamp_df[['face_id','img_url', 'captured_at']]\n",
    "url_with_tstamp_df.drop_duplicates(inplace=True)\n",
    "\n",
    "pkl_filepath = '%s/%i/%i_prod_1.2_None_cnn_codes.p'%(base_dirpath, user_id, user_id)\n",
    "img_urls, X = pkl.load(open(pkl_filepath, 'rb'))\n",
    "feat_cols = ['f%i' % i for i in range(X.shape[1])]\n",
    "img_url_x_df = pd.DataFrame(data=X, columns=feat_cols)\n",
    "img_url_x_df['img_url'] = img_urls\n",
    "full_df = pd.merge(url_with_tstamp_df, img_url_x_df, on='img_url')\n",
    "\n",
    "full_df.sort()"
   ]
  },
  {
   "cell_type": "code",
   "execution_count": 27,
   "metadata": {
    "collapsed": false
   },
   "outputs": [],
   "source": [
    "def compute_hcv_metrics(user_id, vis_tag='hyperopt_sample', grid_size=10, sigma=3.576, \n",
    "                        learning_rate=0.0005064, num_trials=3,num_iter=478, reduce_dim=True,\n",
    "                        num_dim=1024, shuffle_type='random'):\n",
    "    #print 'Processing metrics of user %i'%(user_id)\n",
    "    # keep these hard-coded for the time being...\n",
    "    base_dirpath = '/Users/babasarala/Desktop/face_clustering_full_data'\n",
    "    cluster_settings_ver = 1.2\n",
    "    comp_type = 'None'\n",
    "    tagged_csv_filepath = '%s/%i_clusters.csv'%(base_dirpath, user_id)\n",
    "    tagged_df = pd.read_csv(open(tagged_csv_filepath, 'rb'))\n",
    "\n",
    "    # CSV filepaths\n",
    "    url_csv_filepath = '%s/%i/%i_prod_fb_tags_img_urls_%.1f_%s.csv'\\\n",
    "                       %(base_dirpath, user_id, user_id, cluster_settings_ver,comp_type)\n",
    "    \n",
    "    # create dataframes\n",
    "    url_df = pd.read_csv(open(url_csv_filepath, 'rb'))\n",
    "    pkl_filepath = '%s/%i/%i_prod_1.2_None_cnn_codes.p'%(base_dirpath, user_id, user_id)\n",
    "    img_urls, X = pkl.load(open(pkl_filepath, 'rb'))\n",
    "    np.random.seed(0)\n",
    "    if shuffle_type == 'random':\n",
    "        n = len(img_urls)\n",
    "        sample = 0.1\n",
    "        m = int(n*sample)\n",
    "        sample_idxs = np.random.permutation(n)[:m]\n",
    "        img_urls = [img_urls[idx] for idx in sample_idxs]\n",
    "        X = X[sample_idxs]\n",
    "        print X[:5, :5]\n",
    "        #print 'Number of photos: %i'%len(img_urls)\n",
    "    elif shuffle_type == 'tstamp':\n",
    "        # combine with a few other csv files to get timestamps, sort by that field and then sample (this is closer\n",
    "        # to reality)\n",
    "        orig_csv_filepath = '%s/%i/%i_prod_fb_tags_%.1f.csv'%(base_dirpath, user_id, user_id, cluster_settings_ver)\n",
    "        orig_df = pd.read_csv(open(orig_csv_filepath, 'rb'))\n",
    "        url_with_tstamp_df = pd.merge(url_df, orig_df, on=['face_id'])\n",
    "        url_with_tstamp_df = url_with_tstamp_df[['face_id', 'img_url', 'captured_at']]\n",
    "        url_with_tstamp_df.drop_duplicates(inplace=True)\n",
    "        feat_cols = ['f%i' % i for i in range(X.shape[1])]\n",
    "        img_url_x_df = pd.DataFrame(data=X, columns=feat_cols)\n",
    "        img_url_x_df['img_url'] = img_urls\n",
    "        full_df = pd.merge(url_with_tstamp_df, img_url_x_df, on='img_url')\n",
    "        \n",
    "        # UNFINISHED!!!!\n",
    "\n",
    "    scl_ = scl.SOMClusterer(img_urls, X, grid_size=grid_size, sigma=sigma, learning_rate=learning_rate, \n",
    "                            num_trials=num_trials, num_iter=num_iter)\n",
    "    cluster_df = scl_.run()\n",
    "\n",
    "    gt_df = pd.merge(cluster_df, url_df, left_on='face_url', right_on='img_url')\n",
    "    cols = ['face_id', 'tag', 'memorable_id', 'cluster_idx', 'face_url']\n",
    "\n",
    "    merged_df = pd.merge(gt_df, tagged_df, on=['face_id', 'memorable_id', 'user_id'])[cols]\n",
    "    true_labels = list(merged_df['tag'].values)\n",
    "    cluster_labels = list(merged_df['cluster_idx'].values)\n",
    "    h, c, v = homogeneity_completeness_v_measure(true_labels, cluster_labels)\n",
    "\n",
    "    # visualize!\n",
    "    cluster_map = clu.get_map_from_dataframe(cluster_df, 'face_url', 'cluster_idx')\n",
    "    clu.visualize_clusters(cluster_map, '%s/%i/cluster_htmls/%i_%s_visualization.html'%(base_dirpath, \n",
    "                                                                                        user_id,\n",
    "                                                                                        user_id,\n",
    "                                                                                        vis_tag))\n",
    "    print len(img_urls), h, c, v"
   ]
  },
  {
   "cell_type": "code",
   "execution_count": 28,
   "metadata": {
    "collapsed": false
   },
   "outputs": [
    {
     "name": "stdout",
     "output_type": "stream",
     "text": [
      "[[ -3.87861347  -0.77776706 -16.28775215  -0.61007917  -0.40619224]\n",
      " [  0.8169356   -0.66338706  -6.88083935  -0.73424685  -0.33310664]\n",
      " [ -0.29154292  -0.7365123    2.05267668  -0.95801759  -0.51999474]\n",
      " [  1.12536311  -0.82720637 -17.75845909  -1.1278187   -0.56964034]\n",
      " [ -0.50154841  -0.72430342   2.59770107  -0.69903916  -0.3793076 ]]\n",
      "44 1.0 0.611993219081 0.759299991882\n"
     ]
    }
   ],
   "source": [
    "user_ids = [1946418, 8657185, 5626377, 5, 5692777, 3473194, 3928074, 4619758, 2685009, 1496616, 1341, 8, 34, 6007945]\n",
    "user_ids = [1946418]\n",
    "for user_id in user_ids:\n",
    "    compute_hcv_metrics(user_id, vis_tag='benchmark_10_perc', grid_size=15, sigma=1.0, learning_rate=0.25, \n",
    "                        num_trials=5, num_iter=100, reduce_dim=False, shuffle_type='random')\n",
    "    "
   ]
  },
  {
   "cell_type": "code",
   "execution_count": 25,
   "metadata": {
    "collapsed": false
   },
   "outputs": [
    {
     "name": "stdout",
     "output_type": "stream",
     "text": [
      "44 0.591537028916 0.834434397825 0.692298366234\n",
      "193 0.288302480055 0.421683542297 0.342464237929\n",
      "121 0.430053332688 0.551833314035 0.483391349869\n",
      "184 0.106227369508 0.504960393925 0.175529084716\n",
      "15 0.662233978601 0.881794486449 0.756403504583\n",
      "106 0.363053591953 0.378849133993 0.370783214819\n",
      "252 0.264690941954 0.406264526222 0.320541512004\n",
      "4 1.0 1.0 1.0\n",
      "78 0.298862367847 0.485630658307 0.37001406922\n",
      "252 0.207056197824 0.339957105245 0.2573620248\n",
      "718 0.476334614458 0.337790283511 0.395274004923\n",
      "388 0.34837558185 0.538055293851 0.42292147352\n",
      "43 0.59564306101 0.860225440967 0.703892300878\n",
      "71 0.487927998684 0.631386501892 0.550463970771\n"
     ]
    }
   ],
   "source": [
    "user_ids = [1946418, 8657185, 5626377, 5, 5692777, 3473194, 3928074, 4619758, 2685009, 1496616, 1341, 8, 34, 6007945]\n",
    "user_ids = [1946418]\n",
    "for user_id in user_ids:\n",
    "    compute_hcv_metrics(user_id, vis_tag='hyperopt_10_perc', grid_size=10, sigma=3.576, learning_rate=0.0005064, \n",
    "                        num_trials=3, num_iter=478, reduce_dim=False, shuffle_type='random')\n",
    "    "
   ]
  },
  {
   "cell_type": "markdown",
   "metadata": {},
   "source": [
    "Playing with clustering metrics"
   ]
  },
  {
   "cell_type": "code",
   "execution_count": 55,
   "metadata": {
    "collapsed": false
   },
   "outputs": [
    {
     "name": "stdout",
     "output_type": "stream",
     "text": [
      "['Hayden', 'Fai Alqadi', 'Diala Alqadi', 'Manu', 'Ammar', 'Justin Williams', 'Fai Alqadi', 'Fai Alqadi', 'Fai Alqadi', 'Manu', 'Baba', 'Baba', 'Diala Alqadi', 'Fai Alqadi', 'Manu', 'Heather', 'Diala Alqadi', 'Fai Alqadi', 'johnny', 'Talal ', 'Fai Alqadi', 'Kylie Mckenzie', 'Diala Alqadi', 'Fai Alqadi', 'akram', 'akram', 'Lhazin ', 'Fai Alqadi', 'Diala Alqadi', 'Talal ', 'Fai Alqadi', 'Lhazin ', 'Lhazin ', 'Kylie Mckenzie', 'Fai Alqadi', 'Hanna Kirby', 'Fai Alqadi', 'Fai Alqadi', 'Diala Alqadi', 'Diala Alqadi', 'rey', 'Amy', 'jake', 'Fai Alqadi', 'Fai Alqadi', 'Lina', 'Fai Alqadi', 'Kylie Mckenzie', 'Hanna Kirby', 'soheil', 'Kylie Mckenzie', 'Fai Alqadi']\n",
      "[0.0, 1.0, 2.0, 4.0, 5.0, 7.0, 8.0, 9.0, 9.0, 10.0, 12.0, 12.0, 16.0, 18.0, 19.0, 21.0, 24.0, 26.0, 28.0, 29.0, 30.0, 31.0, 34.0, 35.0, 36.0, 36.0, 38.0, 41.0, 2.0, 43.0, 44.0, 46.0, 47.0, 49.0, 51.0, 65.0, 66.0, 55.0, 68.0, 69.0, 70.0, 52.0, 53.0, 54.0, 55.0, 56.0, 57.0, 58.0, 60.0, 62.0, 63.0, 64.0]\n"
     ]
    }
   ],
   "source": [
    "print true_labels\n",
    "print cluster_labels"
   ]
  },
  {
   "cell_type": "code",
   "execution_count": 60,
   "metadata": {
    "collapsed": true
   },
   "outputs": [],
   "source": [
    "cluster_map, _, _ = scl_.convert_to_maps(cluster_df)\n",
    "clu.visualize_clusters(cluster_map, '%s/%i/cluster_htmls/%i_%s_sample_visualization.html'%(base_dirpath, \n",
    "                                                                                           user_id,\n",
    "                                                                                           user_id,\n",
    "                                                                                           vis_tag))"
   ]
  },
  {
   "cell_type": "code",
   "execution_count": 59,
   "metadata": {
    "collapsed": false
   },
   "outputs": [
    {
     "name": "stdout",
     "output_type": "stream",
     "text": [
      "1.0 0.634637661925 0.776487262844\n"
     ]
    }
   ],
   "source": [
    "h, c, v = homogeneity_completeness_v_measure(true_labels, cluster_labels)\n",
    "print h, c, v"
   ]
  },
  {
   "cell_type": "code",
   "execution_count": 47,
   "metadata": {
    "collapsed": false
   },
   "outputs": [],
   "source": [
    "pkl_filepath = '%s/%i/%i_prod_1.2_None_cnn_codes.p'%(base_dirpath, user_id, user_id)\n",
    "img_urls, X = pkl.load(open(pkl_filepath, 'rb'))\n",
    "n = len(img_urls)\n",
    "sample = 0.1\n",
    "m = int(n*sample)\n",
    "sample_idxs = np.random.permutation(n)[:m]\n",
    "sample_img_urls = [img_urls[idx] for idx in sample_idxs]\n",
    "X_samp = X[sample_idxs]"
   ]
  },
  {
   "cell_type": "code",
   "execution_count": 49,
   "metadata": {
    "collapsed": false
   },
   "outputs": [
    {
     "data": {
      "text/plain": [
       "44"
      ]
     },
     "execution_count": 49,
     "metadata": {},
     "output_type": "execute_result"
    }
   ],
   "source": []
  },
  {
   "cell_type": "code",
   "execution_count": 38,
   "metadata": {
    "collapsed": false
   },
   "outputs": [
    {
     "data": {
      "text/html": [
       "<div>\n",
       "<table border=\"1\" class=\"dataframe\">\n",
       "  <thead>\n",
       "    <tr style=\"text-align: right;\">\n",
       "      <th></th>\n",
       "      <th>img_url</th>\n",
       "    </tr>\n",
       "  </thead>\n",
       "  <tbody>\n",
       "    <tr>\n",
       "      <th>0</th>\n",
       "      <td>/Users/babasarala/Desktop/face_clustering_full...</td>\n",
       "    </tr>\n",
       "    <tr>\n",
       "      <th>1</th>\n",
       "      <td>/Users/babasarala/Desktop/face_clustering_full...</td>\n",
       "    </tr>\n",
       "    <tr>\n",
       "      <th>2</th>\n",
       "      <td>/Users/babasarala/Desktop/face_clustering_full...</td>\n",
       "    </tr>\n",
       "    <tr>\n",
       "      <th>3</th>\n",
       "      <td>/Users/babasarala/Desktop/face_clustering_full...</td>\n",
       "    </tr>\n",
       "    <tr>\n",
       "      <th>4</th>\n",
       "      <td>/Users/babasarala/Desktop/face_clustering_full...</td>\n",
       "    </tr>\n",
       "    <tr>\n",
       "      <th>5</th>\n",
       "      <td>/Users/babasarala/Desktop/face_clustering_full...</td>\n",
       "    </tr>\n",
       "    <tr>\n",
       "      <th>6</th>\n",
       "      <td>/Users/babasarala/Desktop/face_clustering_full...</td>\n",
       "    </tr>\n",
       "    <tr>\n",
       "      <th>7</th>\n",
       "      <td>/Users/babasarala/Desktop/face_clustering_full...</td>\n",
       "    </tr>\n",
       "    <tr>\n",
       "      <th>8</th>\n",
       "      <td>/Users/babasarala/Desktop/face_clustering_full...</td>\n",
       "    </tr>\n",
       "    <tr>\n",
       "      <th>9</th>\n",
       "      <td>/Users/babasarala/Desktop/face_clustering_full...</td>\n",
       "    </tr>\n",
       "    <tr>\n",
       "      <th>10</th>\n",
       "      <td>/Users/babasarala/Desktop/face_clustering_full...</td>\n",
       "    </tr>\n",
       "    <tr>\n",
       "      <th>11</th>\n",
       "      <td>/Users/babasarala/Desktop/face_clustering_full...</td>\n",
       "    </tr>\n",
       "    <tr>\n",
       "      <th>12</th>\n",
       "      <td>/Users/babasarala/Desktop/face_clustering_full...</td>\n",
       "    </tr>\n",
       "    <tr>\n",
       "      <th>13</th>\n",
       "      <td>/Users/babasarala/Desktop/face_clustering_full...</td>\n",
       "    </tr>\n",
       "    <tr>\n",
       "      <th>14</th>\n",
       "      <td>/Users/babasarala/Desktop/face_clustering_full...</td>\n",
       "    </tr>\n",
       "    <tr>\n",
       "      <th>15</th>\n",
       "      <td>/Users/babasarala/Desktop/face_clustering_full...</td>\n",
       "    </tr>\n",
       "    <tr>\n",
       "      <th>16</th>\n",
       "      <td>/Users/babasarala/Desktop/face_clustering_full...</td>\n",
       "    </tr>\n",
       "    <tr>\n",
       "      <th>17</th>\n",
       "      <td>/Users/babasarala/Desktop/face_clustering_full...</td>\n",
       "    </tr>\n",
       "    <tr>\n",
       "      <th>18</th>\n",
       "      <td>/Users/babasarala/Desktop/face_clustering_full...</td>\n",
       "    </tr>\n",
       "    <tr>\n",
       "      <th>19</th>\n",
       "      <td>/Users/babasarala/Desktop/face_clustering_full...</td>\n",
       "    </tr>\n",
       "    <tr>\n",
       "      <th>20</th>\n",
       "      <td>/Users/babasarala/Desktop/face_clustering_full...</td>\n",
       "    </tr>\n",
       "    <tr>\n",
       "      <th>21</th>\n",
       "      <td>/Users/babasarala/Desktop/face_clustering_full...</td>\n",
       "    </tr>\n",
       "    <tr>\n",
       "      <th>22</th>\n",
       "      <td>/Users/babasarala/Desktop/face_clustering_full...</td>\n",
       "    </tr>\n",
       "    <tr>\n",
       "      <th>23</th>\n",
       "      <td>/Users/babasarala/Desktop/face_clustering_full...</td>\n",
       "    </tr>\n",
       "    <tr>\n",
       "      <th>24</th>\n",
       "      <td>/Users/babasarala/Desktop/face_clustering_full...</td>\n",
       "    </tr>\n",
       "    <tr>\n",
       "      <th>25</th>\n",
       "      <td>/Users/babasarala/Desktop/face_clustering_full...</td>\n",
       "    </tr>\n",
       "    <tr>\n",
       "      <th>26</th>\n",
       "      <td>/Users/babasarala/Desktop/face_clustering_full...</td>\n",
       "    </tr>\n",
       "    <tr>\n",
       "      <th>27</th>\n",
       "      <td>/Users/babasarala/Desktop/face_clustering_full...</td>\n",
       "    </tr>\n",
       "    <tr>\n",
       "      <th>28</th>\n",
       "      <td>/Users/babasarala/Desktop/face_clustering_full...</td>\n",
       "    </tr>\n",
       "    <tr>\n",
       "      <th>29</th>\n",
       "      <td>/Users/babasarala/Desktop/face_clustering_full...</td>\n",
       "    </tr>\n",
       "    <tr>\n",
       "      <th>...</th>\n",
       "      <td>...</td>\n",
       "    </tr>\n",
       "    <tr>\n",
       "      <th>412</th>\n",
       "      <td>/Users/babasarala/Desktop/face_clustering_full...</td>\n",
       "    </tr>\n",
       "    <tr>\n",
       "      <th>413</th>\n",
       "      <td>/Users/babasarala/Desktop/face_clustering_full...</td>\n",
       "    </tr>\n",
       "    <tr>\n",
       "      <th>414</th>\n",
       "      <td>/Users/babasarala/Desktop/face_clustering_full...</td>\n",
       "    </tr>\n",
       "    <tr>\n",
       "      <th>415</th>\n",
       "      <td>/Users/babasarala/Desktop/face_clustering_full...</td>\n",
       "    </tr>\n",
       "    <tr>\n",
       "      <th>416</th>\n",
       "      <td>/Users/babasarala/Desktop/face_clustering_full...</td>\n",
       "    </tr>\n",
       "    <tr>\n",
       "      <th>417</th>\n",
       "      <td>/Users/babasarala/Desktop/face_clustering_full...</td>\n",
       "    </tr>\n",
       "    <tr>\n",
       "      <th>418</th>\n",
       "      <td>/Users/babasarala/Desktop/face_clustering_full...</td>\n",
       "    </tr>\n",
       "    <tr>\n",
       "      <th>419</th>\n",
       "      <td>/Users/babasarala/Desktop/face_clustering_full...</td>\n",
       "    </tr>\n",
       "    <tr>\n",
       "      <th>420</th>\n",
       "      <td>/Users/babasarala/Desktop/face_clustering_full...</td>\n",
       "    </tr>\n",
       "    <tr>\n",
       "      <th>421</th>\n",
       "      <td>/Users/babasarala/Desktop/face_clustering_full...</td>\n",
       "    </tr>\n",
       "    <tr>\n",
       "      <th>422</th>\n",
       "      <td>/Users/babasarala/Desktop/face_clustering_full...</td>\n",
       "    </tr>\n",
       "    <tr>\n",
       "      <th>423</th>\n",
       "      <td>/Users/babasarala/Desktop/face_clustering_full...</td>\n",
       "    </tr>\n",
       "    <tr>\n",
       "      <th>424</th>\n",
       "      <td>/Users/babasarala/Desktop/face_clustering_full...</td>\n",
       "    </tr>\n",
       "    <tr>\n",
       "      <th>425</th>\n",
       "      <td>/Users/babasarala/Desktop/face_clustering_full...</td>\n",
       "    </tr>\n",
       "    <tr>\n",
       "      <th>426</th>\n",
       "      <td>/Users/babasarala/Desktop/face_clustering_full...</td>\n",
       "    </tr>\n",
       "    <tr>\n",
       "      <th>427</th>\n",
       "      <td>/Users/babasarala/Desktop/face_clustering_full...</td>\n",
       "    </tr>\n",
       "    <tr>\n",
       "      <th>428</th>\n",
       "      <td>/Users/babasarala/Desktop/face_clustering_full...</td>\n",
       "    </tr>\n",
       "    <tr>\n",
       "      <th>429</th>\n",
       "      <td>/Users/babasarala/Desktop/face_clustering_full...</td>\n",
       "    </tr>\n",
       "    <tr>\n",
       "      <th>430</th>\n",
       "      <td>/Users/babasarala/Desktop/face_clustering_full...</td>\n",
       "    </tr>\n",
       "    <tr>\n",
       "      <th>431</th>\n",
       "      <td>/Users/babasarala/Desktop/face_clustering_full...</td>\n",
       "    </tr>\n",
       "    <tr>\n",
       "      <th>432</th>\n",
       "      <td>/Users/babasarala/Desktop/face_clustering_full...</td>\n",
       "    </tr>\n",
       "    <tr>\n",
       "      <th>433</th>\n",
       "      <td>/Users/babasarala/Desktop/face_clustering_full...</td>\n",
       "    </tr>\n",
       "    <tr>\n",
       "      <th>434</th>\n",
       "      <td>/Users/babasarala/Desktop/face_clustering_full...</td>\n",
       "    </tr>\n",
       "    <tr>\n",
       "      <th>435</th>\n",
       "      <td>/Users/babasarala/Desktop/face_clustering_full...</td>\n",
       "    </tr>\n",
       "    <tr>\n",
       "      <th>436</th>\n",
       "      <td>/Users/babasarala/Desktop/face_clustering_full...</td>\n",
       "    </tr>\n",
       "    <tr>\n",
       "      <th>437</th>\n",
       "      <td>/Users/babasarala/Desktop/face_clustering_full...</td>\n",
       "    </tr>\n",
       "    <tr>\n",
       "      <th>438</th>\n",
       "      <td>/Users/babasarala/Desktop/face_clustering_full...</td>\n",
       "    </tr>\n",
       "    <tr>\n",
       "      <th>439</th>\n",
       "      <td>/Users/babasarala/Desktop/face_clustering_full...</td>\n",
       "    </tr>\n",
       "    <tr>\n",
       "      <th>440</th>\n",
       "      <td>/Users/babasarala/Desktop/face_clustering_full...</td>\n",
       "    </tr>\n",
       "    <tr>\n",
       "      <th>441</th>\n",
       "      <td>/Users/babasarala/Desktop/face_clustering_full...</td>\n",
       "    </tr>\n",
       "  </tbody>\n",
       "</table>\n",
       "<p>442 rows × 1 columns</p>\n",
       "</div>"
      ],
      "text/plain": [
       "                                               img_url\n",
       "0    /Users/babasarala/Desktop/face_clustering_full...\n",
       "1    /Users/babasarala/Desktop/face_clustering_full...\n",
       "2    /Users/babasarala/Desktop/face_clustering_full...\n",
       "3    /Users/babasarala/Desktop/face_clustering_full...\n",
       "4    /Users/babasarala/Desktop/face_clustering_full...\n",
       "5    /Users/babasarala/Desktop/face_clustering_full...\n",
       "6    /Users/babasarala/Desktop/face_clustering_full...\n",
       "7    /Users/babasarala/Desktop/face_clustering_full...\n",
       "8    /Users/babasarala/Desktop/face_clustering_full...\n",
       "9    /Users/babasarala/Desktop/face_clustering_full...\n",
       "10   /Users/babasarala/Desktop/face_clustering_full...\n",
       "11   /Users/babasarala/Desktop/face_clustering_full...\n",
       "12   /Users/babasarala/Desktop/face_clustering_full...\n",
       "13   /Users/babasarala/Desktop/face_clustering_full...\n",
       "14   /Users/babasarala/Desktop/face_clustering_full...\n",
       "15   /Users/babasarala/Desktop/face_clustering_full...\n",
       "16   /Users/babasarala/Desktop/face_clustering_full...\n",
       "17   /Users/babasarala/Desktop/face_clustering_full...\n",
       "18   /Users/babasarala/Desktop/face_clustering_full...\n",
       "19   /Users/babasarala/Desktop/face_clustering_full...\n",
       "20   /Users/babasarala/Desktop/face_clustering_full...\n",
       "21   /Users/babasarala/Desktop/face_clustering_full...\n",
       "22   /Users/babasarala/Desktop/face_clustering_full...\n",
       "23   /Users/babasarala/Desktop/face_clustering_full...\n",
       "24   /Users/babasarala/Desktop/face_clustering_full...\n",
       "25   /Users/babasarala/Desktop/face_clustering_full...\n",
       "26   /Users/babasarala/Desktop/face_clustering_full...\n",
       "27   /Users/babasarala/Desktop/face_clustering_full...\n",
       "28   /Users/babasarala/Desktop/face_clustering_full...\n",
       "29   /Users/babasarala/Desktop/face_clustering_full...\n",
       "..                                                 ...\n",
       "412  /Users/babasarala/Desktop/face_clustering_full...\n",
       "413  /Users/babasarala/Desktop/face_clustering_full...\n",
       "414  /Users/babasarala/Desktop/face_clustering_full...\n",
       "415  /Users/babasarala/Desktop/face_clustering_full...\n",
       "416  /Users/babasarala/Desktop/face_clustering_full...\n",
       "417  /Users/babasarala/Desktop/face_clustering_full...\n",
       "418  /Users/babasarala/Desktop/face_clustering_full...\n",
       "419  /Users/babasarala/Desktop/face_clustering_full...\n",
       "420  /Users/babasarala/Desktop/face_clustering_full...\n",
       "421  /Users/babasarala/Desktop/face_clustering_full...\n",
       "422  /Users/babasarala/Desktop/face_clustering_full...\n",
       "423  /Users/babasarala/Desktop/face_clustering_full...\n",
       "424  /Users/babasarala/Desktop/face_clustering_full...\n",
       "425  /Users/babasarala/Desktop/face_clustering_full...\n",
       "426  /Users/babasarala/Desktop/face_clustering_full...\n",
       "427  /Users/babasarala/Desktop/face_clustering_full...\n",
       "428  /Users/babasarala/Desktop/face_clustering_full...\n",
       "429  /Users/babasarala/Desktop/face_clustering_full...\n",
       "430  /Users/babasarala/Desktop/face_clustering_full...\n",
       "431  /Users/babasarala/Desktop/face_clustering_full...\n",
       "432  /Users/babasarala/Desktop/face_clustering_full...\n",
       "433  /Users/babasarala/Desktop/face_clustering_full...\n",
       "434  /Users/babasarala/Desktop/face_clustering_full...\n",
       "435  /Users/babasarala/Desktop/face_clustering_full...\n",
       "436  /Users/babasarala/Desktop/face_clustering_full...\n",
       "437  /Users/babasarala/Desktop/face_clustering_full...\n",
       "438  /Users/babasarala/Desktop/face_clustering_full...\n",
       "439  /Users/babasarala/Desktop/face_clustering_full...\n",
       "440  /Users/babasarala/Desktop/face_clustering_full...\n",
       "441  /Users/babasarala/Desktop/face_clustering_full...\n",
       "\n",
       "[442 rows x 1 columns]"
      ]
     },
     "execution_count": 38,
     "metadata": {},
     "output_type": "execute_result"
    }
   ],
   "source": [
    "df = pd.DataFrame({'img_url': img_urls})"
   ]
  },
  {
   "cell_type": "code",
   "execution_count": 16,
   "metadata": {
    "collapsed": false
   },
   "outputs": [],
   "source": [
    "base_dir = '/Users/babasarala/Desktop/face_clustering_full_data'\n",
    "for user_id in user_ids:\n",
    "    csv_filepath = '%s/%i_clusters.csv'%(base_dir, user_id)\n",
    "    csv_savepath = '%s/%i_sample_clusters.csv'%(base_dir, user_id)\n",
    "    sampled_df = sample_faces(csv_filepath)\n",
    "    sampled_df.to_csv(csv_savepath)"
   ]
  },
  {
   "cell_type": "code",
   "execution_count": null,
   "metadata": {
    "collapsed": true
   },
   "outputs": [],
   "source": []
  }
 ],
 "metadata": {
  "kernelspec": {
   "display_name": "Python 2",
   "language": "python",
   "name": "python2"
  },
  "language_info": {
   "codemirror_mode": {
    "name": "ipython",
    "version": 2
   },
   "file_extension": ".py",
   "mimetype": "text/x-python",
   "name": "python",
   "nbconvert_exporter": "python",
   "pygments_lexer": "ipython2",
   "version": "2.7.12"
  }
 },
 "nbformat": 4,
 "nbformat_minor": 0
}
