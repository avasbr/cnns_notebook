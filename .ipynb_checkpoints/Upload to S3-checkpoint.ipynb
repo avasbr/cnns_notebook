{
 "cells": [
  {
   "cell_type": "code",
   "execution_count": 6,
   "metadata": {
    "collapsed": true
   },
   "outputs": [],
   "source": [
    "import boto\n",
    "import os\n",
    "from boto.s3.key import Key\n",
    "from boto.s3.connection import OrdinaryCallingFormat\n",
    "from cnns.utils import cnn_utils as cu"
   ]
  },
  {
   "cell_type": "code",
   "execution_count": 7,
   "metadata": {
    "collapsed": false
   },
   "outputs": [
    {
     "name": "stdout",
     "output_type": "stream",
     "text": [
      "The autoreload extension is already loaded. To reload it, use:\n",
      "  %reload_ext autoreload\n"
     ]
    }
   ],
   "source": [
    "%load_ext autoreload\n",
    "%autoreload 2"
   ]
  },
  {
   "cell_type": "code",
   "execution_count": 18,
   "metadata": {
    "collapsed": false
   },
   "outputs": [],
   "source": [
    "BUCKET_NAME = 'everalbum.machinelearning'\n",
    "AWS_ACCESS_KEY_ID = os.environ['AWS_ACCESS_KEY_ID']\n",
    "AWS_SECRET_ACCESS_KEY = os.environ['AWS_SECRET_ACCESS_KEY']\n",
    "\n",
    "region = 'us-east-1'\n",
    "conn = boto.s3.connect_to_region(region,\n",
    "                              aws_access_key_id=AWS_ACCESS_KEY_ID, \n",
    "                              aws_secret_access_key=AWS_SECRET_ACCESS_KEY,\n",
    "                              calling_format=OrdinaryCallingFormat())\n",
    "bucket = conn.get_bucket(BUCKET_NAME + '/furry_friends')"
   ]
  },
  {
   "cell_type": "code",
   "execution_count": 19,
   "metadata": {
    "collapsed": false
   },
   "outputs": [
    {
     "data": {
      "text/plain": [
       "49038"
      ]
     },
     "execution_count": 19,
     "metadata": {},
     "output_type": "execute_result"
    }
   ],
   "source": [
    "test_images_dirpath = '/Users/babasarala/Desktop/evaluation/raw_images/test_images'\n",
    "local_img_filepath = '%s/common_dog.jpg'%(test_images_dirpath)\n",
    "def get_filename_from_url(img_url):\n",
    "    return img_url.split('/')[-1]\n",
    "filename = get_filename_from_url(local_img_filepath)\n",
    "\n",
    "k = Key(bucket)\n",
    "k.key = filename\n",
    "k.set_contents_from_filename(local_img_filepath)"
   ]
  },
  {
   "cell_type": "code",
   "execution_count": 15,
   "metadata": {
    "collapsed": false
   },
   "outputs": [
    {
     "data": {
      "text/plain": [
       "<Bucket: everalbum.machinelearning>"
      ]
     },
     "execution_count": 15,
     "metadata": {},
     "output_type": "execute_result"
    }
   ],
   "source": [
    "bucket"
   ]
  },
  {
   "cell_type": "code",
   "execution_count": null,
   "metadata": {
    "collapsed": true
   },
   "outputs": [],
   "source": []
  }
 ],
 "metadata": {
  "kernelspec": {
   "display_name": "Python 2",
   "language": "python",
   "name": "python2"
  },
  "language_info": {
   "codemirror_mode": {
    "name": "ipython",
    "version": 2
   },
   "file_extension": ".py",
   "mimetype": "text/x-python",
   "name": "python",
   "nbconvert_exporter": "python",
   "pygments_lexer": "ipython2",
   "version": "2.7.12"
  }
 },
 "nbformat": 4,
 "nbformat_minor": 0
}
