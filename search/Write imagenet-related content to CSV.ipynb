{
 "cells": [
  {
   "cell_type": "code",
   "execution_count": 1,
   "metadata": {
    "collapsed": false
   },
   "outputs": [],
   "source": [
    "import urllib2\n",
    "import urllib\n",
    "import sys\n",
    "import pandas as pd\n",
    "from bs4 import BeautifulSoup\n",
    "from cnns.utils import cnn_utils as cu\n",
    "from cnns.utils import imagenet_utils as imu"
   ]
  },
  {
   "cell_type": "code",
   "execution_count": 2,
   "metadata": {
    "collapsed": true
   },
   "outputs": [],
   "source": [
    "%load_ext autoreload\n",
    "%autoreload 2"
   ]
  },
  {
   "cell_type": "code",
   "execution_count": 5,
   "metadata": {
    "collapsed": true
   },
   "outputs": [],
   "source": [
    "def get_image_urls(url):\n",
    "    return urllib2.urlopen(url).read().split('<br>')"
   ]
  },
  {
   "cell_type": "code",
   "execution_count": 6,
   "metadata": {
    "collapsed": false
   },
   "outputs": [],
   "source": [
    "evaluation_dir = '/Users/babasarala/Desktop/evaluation'\n",
    "mat_filepath = '%s/ILSVRC2013_devkit/data/meta_clsloc.mat'%(evaluation_dir)\n",
    "ground_truth_filepath = '%s/raw_images/ILSVRC2013_clsloc_validation_ground_truth.txt'%(evaluation_dir)\n",
    "cats_filepath = '/Users/babasarala/technologies/caffe/data/ilsvrc12/synset_words.txt'\n",
    "collapse_filepath = '/Users/babasarala/repos/cnns/config/\\\n",
    "image_net_categories_animals_screenshots_devices_2016_05_04.json'\n",
    "\n",
    "val_with_img_idx_url = \"http://www.image-net.org/challenges/LSVRC/2012/ori_urls/indexval_w.html\"\n",
    "val_set_csv = '/Users/babasarala/Desktop/ILSVRC2012_validation_set.csv'\n",
    "\n",
    "val_img_idx_to_cats = imu.load_validation_ground_truth(ground_truth_filepath, mat_filepath)\n",
    "val_img_idx_to_collapsed_cats = imu.load_validation_ground_truth(ground_truth_filepath, \n",
    "                                                                 mat_filepath, \n",
    "                                                                 collapse_filepath)\n",
    "cats_filepath = '/Users/babasarala/technologies/caffe/data/ilsvrc12/synset_words.txt'\n",
    "wnid_to_imagenet_cats = imu.load_imagenet_cats_ids(cats_filepath)\n",
    "imagenet_cat_to_wnid = {v:k for k,v in wnid_to_imagenet_cats.iteritems()}"
   ]
  },
  {
   "cell_type": "markdown",
   "metadata": {},
   "source": [
    "Write ILSVRC2012 validation data to a csv file"
   ]
  },
  {
   "cell_type": "code",
   "execution_count": 7,
   "metadata": {
    "collapsed": false
   },
   "outputs": [],
   "source": [
    "data = []\n",
    "val_url_img_idxs = get_image_urls(val_with_img_idx_url)[:-1]\n",
    "for val_url_img_idx in val_url_img_idxs:\n",
    "    tmp = val_url_img_idx.split(' ')\n",
    "    val_url = ''.join(tmp[:-1]).strip()\n",
    "    img_idx = int(tmp[-1])\n",
    "        \n",
    "    data.append({'wnid': 'n0%i'%(imagenet_cat_to_wnid[val_img_idx_to_cats[img_idx]]),\n",
    "                'img_url':val_url,\n",
    "                'imagenet_category': val_img_idx_to_cats[img_idx],\n",
    "                'internal_category': val_img_idx_to_collapsed_cats[img_idx],\n",
    "               })\n",
    "df = pd.DataFrame(data)\n",
    "df.to_csv(val_set_csv, index=False)"
   ]
  },
  {
   "cell_type": "code",
   "execution_count": 8,
   "metadata": {
    "collapsed": true
   },
   "outputs": [],
   "source": [
    "master_url = \"http://www.image-net.org/challenges/LSVRC/2012/ori_urls/\"\n",
    "train_set_csv = '/Users/babasarala/Desktop/ILSVRC2012_training_set.csv'"
   ]
  },
  {
   "cell_type": "code",
   "execution_count": 18,
   "metadata": {
    "collapsed": false
   },
   "outputs": [],
   "source": [
    "r = urllib.urlopen(master_url).read()\n",
    "soup = BeautifulSoup(r)"
   ]
  },
  {
   "cell_type": "code",
   "execution_count": 10,
   "metadata": {
    "collapsed": false
   },
   "outputs": [],
   "source": [
    "all_links = soup.find_all(\"a\")"
   ]
  },
  {
   "cell_type": "code",
   "execution_count": 11,
   "metadata": {
    "collapsed": false
   },
   "outputs": [],
   "source": [
    "train_link_str = []\n",
    "for link in all_links:\n",
    "    train_link_str.append(link.get(\"href\"))\n",
    "train_link_str = train_link_str[2:]"
   ]
  },
  {
   "cell_type": "code",
   "execution_count": 12,
   "metadata": {
    "collapsed": false
   },
   "outputs": [],
   "source": [
    "base_url = \"http://www.image-net.org/challenges/LSVRC/2012/ori_urls/\"\n",
    "train_links = [base_url+s for s in train_link_str]"
   ]
  },
  {
   "cell_type": "code",
   "execution_count": 68,
   "metadata": {
    "collapsed": false
   },
   "outputs": [],
   "source": [
    "wnids = [int(train_link.split('indextrain')[1].split('.html')[0][1:]) for train_link in train_links]"
   ]
  },
  {
   "cell_type": "code",
   "execution_count": 14,
   "metadata": {
    "collapsed": true
   },
   "outputs": [],
   "source": [
    "# load some necessary functions\n",
    "tfm_fcn = cu.get_tfm_fcn_from_json(collapse_filepath)\n",
    "cat_ids = imu.load_imagenet_cats_ids(cats_filepath)"
   ]
  },
  {
   "cell_type": "code",
   "execution_count": 16,
   "metadata": {
    "collapsed": false
   },
   "outputs": [],
   "source": [
    "data = []\n",
    "for train_link in train_links:\n",
    "    train_img_urls = get_image_urls(train_link)[:-1] # there's a pesky empty string at the end\n",
    "    wnid = train_link.split('indextrain')[1].split('.html')[0]\n",
    "    if wnid[0] == '0':\n",
    "        wnid = 'n'+train_link.split('indextrain')[1].split('.html')[0]\n",
    "    else:\n",
    "        wnid = 'n0'+train_link.split('indextrain')[1].split('.html')[0]\n",
    "    imagenet_cat = cat_ids[int(wnid[2:])]\n",
    "    internal_cat = tfm_fcn(imagenet_cat)\n",
    "    for train_img_url in train_img_urls:\n",
    "        data.append({'wnid': wnid, \n",
    "                     'img_url':train_img_url, \n",
    "                     'imagenet_category':imagenet_cat, \n",
    "                     'internal_category':internal_cat,\n",
    "                     })\n",
    "df = pd.DataFrame(data)"
   ]
  },
  {
   "cell_type": "code",
   "execution_count": 17,
   "metadata": {
    "collapsed": false
   },
   "outputs": [],
   "source": [
    "df.to_csv(train_set_csv, index=False)"
   ]
  }
 ],
 "metadata": {
  "kernelspec": {
   "display_name": "Python 2",
   "language": "python",
   "name": "python2"
  },
  "language_info": {
   "codemirror_mode": {
    "name": "ipython",
    "version": 2
   },
   "file_extension": ".py",
   "mimetype": "text/x-python",
   "name": "python",
   "nbconvert_exporter": "python",
   "pygments_lexer": "ipython2",
   "version": "2.7.12"
  }
 },
 "nbformat": 4,
 "nbformat_minor": 0
}
