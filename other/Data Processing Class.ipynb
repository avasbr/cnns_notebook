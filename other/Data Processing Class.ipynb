{
 "cells": [
  {
   "cell_type": "code",
   "execution_count": 1,
   "metadata": {
    "collapsed": true
   },
   "outputs": [],
   "source": [
    "import time\n",
    "import datetime\n",
    "import logging\n",
    "import pandas as pd\n",
    "from cnns.utils import cnn_utils as cu\n",
    "from cnns.utils import classify_utils as clu\n",
    "import pickle as pkl\n",
    "import numpy as np"
   ]
  },
  {
   "cell_type": "code",
   "execution_count": 2,
   "metadata": {
    "collapsed": false
   },
   "outputs": [],
   "source": [
    "class MPDataProcessor(object):\n",
    "\n",
    "    def __init__(self, output_dirpath, logging_dirpath, logging_filename, start_idx=0, end_idx=None,\n",
    "                 checkpoint=100, show_time=False):\n",
    "        self.output_dirpath = output_dirpath\n",
    "        self.logging_dirpath = logging_dirpath\n",
    "        self.logging_filename = logging_filename\n",
    "\n",
    "    def process_items(self, \n",
    "                      iterable,\n",
    "                      container, \n",
    "                      update_container, \n",
    "                      save_container, \n",
    "                      reset_container, \n",
    "                      start_idx=0,\n",
    "                      end_idx=None,\n",
    "                      checkpoint=100,\n",
    "                      show_time=True,\n",
    "                      *args):\n",
    "        '''  '''\n",
    "        \n",
    "        curr_date = datetime.datetime.now()\n",
    "        logging.basicConfig(filename='%s/%s_%s.out' % (self.output_dirpath, curr_date.isoformat('_'), \n",
    "                                                       self.logging_filename),\n",
    "                            level=logging.INFO)\n",
    "        if show_time:\n",
    "            start_time = time.time()\n",
    "        assert start_idx < len(iterable)\n",
    "        if end_idx is None:\n",
    "            end_idx = len(iterable)\n",
    "        else:\n",
    "            end_idx = min(end_idx, len(iterable))\n",
    "\n",
    "        cnt = 0\n",
    "        for item in iterable[start_idx:end_idx]:\n",
    "            try:\n",
    "                update_container(item, cnt, container, *args)\n",
    "                if (cnt + 1) % checkpoint == 0:\n",
    "                    info_str = 'Processed %i items, index %i' % (\n",
    "                        cnt + 1, cnt + start_idx + 1)\n",
    "                    if show_time:\n",
    "                        info_str = '%s, Elapsed time since start: %.2fs' % (\n",
    "                            info_str, time.time() - start_time)\n",
    "                    logging.info(info_str)\n",
    "                    print info_str\n",
    "                    save_container(output_dirpath, cnt + start_idx + 1, container)\n",
    "                    reset_container(container, *args)\n",
    "                cnt += 1\n",
    "            except cu.ProcessingError as err:\n",
    "                err_str = 'Loading error: %s' % err\n",
    "                logging.error(err_str)\n",
    "                print err_str\n",
    "            except:\n",
    "                err_str = 'Unknown error'\n",
    "                logging.error(err_str)\n",
    "        \n",
    "        save_container(self.output_dirpath, cnt + start_idx, container)\n"
   ]
  },
  {
   "cell_type": "code",
   "execution_count": 3,
   "metadata": {
    "collapsed": false
   },
   "outputs": [],
   "source": [
    "def process_img_url_cnn_codes(img_urls,\n",
    "                              fe_model,\n",
    "                              layer,\n",
    "                              output_dirpath,\n",
    "                              logging_dirpath='/Users/babasarala/repos/cnns/logs',\n",
    "                              logging_filename='deep_features',\n",
    "                              start_idx=0,\n",
    "                              end_idx=None,\n",
    "                              checkpoint=100,\n",
    "                              show_time=False,\n",
    "                              src='url'):\n",
    "    \n",
    "    container = {}\n",
    "    container['X'] = np.empty((checkpoint, fe_model.get_layer_output_size(layer)))\n",
    "    container['curr_img_urls'] = []\n",
    "    \n",
    "    data_proc = MPDataProcessor(output_dirpath, logging_dirpath, logging_filename)\n",
    "    \n",
    "    def update_container(img_url, cnt, container):\n",
    "        image = cu.load_image_and_check_format(img_filepath_or_url=img_url,\n",
    "                                                   src=src)\n",
    "        output = fe_model.compute_intermediate_output(\n",
    "            image, layer_name=layer)\n",
    "        \n",
    "        if output is not None:\n",
    "            container['curr_img_urls'].append(img_url)\n",
    "            container['X'][cnt % checkpoint] = output\n",
    "    \n",
    "    def save_container(output_dirpath, cnt, container):\n",
    "        assert (cnt - len(container['curr_img_urls'])) % checkpoint == 0\n",
    "        X = container['X'][:cnt]\n",
    "        pkl.dump((container['curr_img_urls'], X), open('%s/%s_%s_%i.p'%(output_dirpath, fe_model.model_name, layer, \n",
    "                                                                       cnt), 'wb'))\n",
    "    def reset_container(container):\n",
    "        container['X'] = np.empty((checkpoint, fe_model.get_layer_output_size(layer)))\n",
    "        container['curr_img_urls'] = []\n",
    "    \n",
    "    data_proc.process_items(img_urls, \n",
    "                            container, \n",
    "                            update_container,\n",
    "                            save_container, \n",
    "                            reset_container, \n",
    "                            start_idx, \n",
    "                            end_idx, \n",
    "                            checkpoint, \n",
    "                            show_time) "
   ]
  },
  {
   "cell_type": "code",
   "execution_count": 4,
   "metadata": {
    "collapsed": true
   },
   "outputs": [],
   "source": [
    "def process_img_url_cats(img_urls, \n",
    "                         main_model, \n",
    "                         fe_model, \n",
    "                         custom_model, \n",
    "                         config, \n",
    "                         output_dirpath,\n",
    "                         return_type='prob',\n",
    "                         logging_dirpath='/Users/babasarala/repos/cnns/logs',\n",
    "                         logging_filename='categories',\n",
    "                         start_idx=0,\n",
    "                         end_idx=None,\n",
    "                         checkpoint=100,\n",
    "                         show_time=False,\n",
    "                         src='url'):\n",
    "    container = {}\n",
    "    data_proc = MPDataProcessor(output_dirpath, logging_dirpath, logging_filename)\n",
    "    \n",
    "    def update_container(img_url, cnt, container):\n",
    "        image = cu.load_image(img_url, src=src)\n",
    "        collapsed_cat_probs = clu.classify(img_map={img_url: image},\n",
    "                                           main_model=main_model,\n",
    "                                           fe_model=fe_model,\n",
    "                                           custom_model=custom_model,\n",
    "                                           config=config,\n",
    "                                           return_type=return_type)\n",
    "        container.update(collapsed_cat_probs)\n",
    "    \n",
    "    def save_container(output_dirpath, cnt, container):\n",
    "        assert (cnt - len(container)) % checkpoint == 0\n",
    "        pkl.dump(container, open('%s/%s_%i.p'%(output_dirpath, main_model.model_name, cnt), 'wb'))\n",
    "    \n",
    "    def reset_container(container):\n",
    "        container.clear()\n",
    "        \n",
    "    data_proc.process_items(img_urls,\n",
    "                            container,\n",
    "                            update_container,\n",
    "                            save_container,\n",
    "                            reset_container,\n",
    "                            start_idx,\n",
    "                            end_idx,\n",
    "                            checkpoint,\n",
    "                            show_time)"
   ]
  },
  {
   "cell_type": "code",
   "execution_count": 5,
   "metadata": {
    "collapsed": true
   },
   "outputs": [],
   "source": [
    "img_urls = list(pd.read_csv('/Users/babasarala/Desktop/imagenet_urls_random.csv')['img_url'].values)"
   ]
  },
  {
   "cell_type": "code",
   "execution_count": 6,
   "metadata": {
    "collapsed": false
   },
   "outputs": [],
   "source": [
    "config_dirpath = '/Users/babasarala/repos/cnns/config'\n",
    "model_dirpath = '/Users/babasarala/repos/cnns/models'\n",
    "settings_filename = 'settings_v1.9.ini'\n",
    "main_model, fe_model, custom_model, config = clu.init_model_and_config(config_dirpath, settings_filename, \n",
    "                                                                       model_dirpath)"
   ]
  },
  {
   "cell_type": "code",
   "execution_count": null,
   "metadata": {
    "collapsed": false
   },
   "outputs": [],
   "source": [
    "output_dirpath = '/Users/babasarala/Desktop/test_dir'\n",
    "process_img_url_cnn_codes(img_urls, fe_model, 'pool3', output_dirpath)"
   ]
  },
  {
   "cell_type": "code",
   "execution_count": 7,
   "metadata": {
    "collapsed": false
   },
   "outputs": [
    {
     "name": "stderr",
     "output_type": "stream",
     "text": [
      "ERROR:root:Loading error: 'Image failed to Load'\n",
      "ERROR:root:Loading error: 'Image failed to Load'\n"
     ]
    },
    {
     "name": "stdout",
     "output_type": "stream",
     "text": [
      "Loading error: 'Image failed to Load'\n",
      "Loading error: 'Image failed to Load'"
     ]
    },
    {
     "name": "stderr",
     "output_type": "stream",
     "text": [
      "ERROR:root:Loading error: 'Image failed to Load'\n"
     ]
    },
    {
     "name": "stdout",
     "output_type": "stream",
     "text": [
      "\n",
      "Loading error: 'Image failed to Load'\n",
      "Processed 100 items, index 100"
     ]
    },
    {
     "name": "stderr",
     "output_type": "stream",
     "text": [
      "ERROR:root:Loading error: 'Image failed to Load'\n"
     ]
    },
    {
     "name": "stdout",
     "output_type": "stream",
     "text": [
      "\n",
      "Loading error: 'Image failed to Load'"
     ]
    },
    {
     "name": "stderr",
     "output_type": "stream",
     "text": [
      "ERROR:root:Loading error: 'Image failed to Load'\n"
     ]
    },
    {
     "name": "stdout",
     "output_type": "stream",
     "text": [
      "\n",
      "Loading error: 'Image failed to Load'"
     ]
    },
    {
     "name": "stderr",
     "output_type": "stream",
     "text": [
      "ERROR:root:Loading error: 'Image failed to Load'\n"
     ]
    },
    {
     "name": "stdout",
     "output_type": "stream",
     "text": [
      "\n",
      "Loading error: 'Image failed to Load'"
     ]
    },
    {
     "name": "stderr",
     "output_type": "stream",
     "text": [
      "ERROR:root:Loading error: 'Image failed to Load'\n"
     ]
    },
    {
     "name": "stdout",
     "output_type": "stream",
     "text": [
      "\n",
      "Loading error: 'Image failed to Load'"
     ]
    },
    {
     "name": "stderr",
     "output_type": "stream",
     "text": [
      "ERROR:root:Loading error: 'Image failed to Load'\n"
     ]
    },
    {
     "name": "stdout",
     "output_type": "stream",
     "text": [
      "\n",
      "Loading error: 'Image failed to Load'"
     ]
    },
    {
     "name": "stderr",
     "output_type": "stream",
     "text": [
      "ERROR:root:Loading error: 'Image failed to Load'\n"
     ]
    },
    {
     "name": "stdout",
     "output_type": "stream",
     "text": [
      "\n",
      "Loading error: 'Image failed to Load'"
     ]
    },
    {
     "name": "stderr",
     "output_type": "stream",
     "text": [
      "ERROR:root:Loading error: 'Image failed to Load'\n"
     ]
    },
    {
     "name": "stdout",
     "output_type": "stream",
     "text": [
      "\n",
      "Loading error: 'Image failed to Load'\n",
      "Processed 200 items, index 200\n"
     ]
    }
   ],
   "source": [
    "output_dirpath = '/Users/babasarala/Desktop/test_dir_2'\n",
    "process_img_url_cats(img_urls, main_model, fe_model, custom_model, config, output_dirpath)"
   ]
  },
  {
   "cell_type": "code",
   "execution_count": null,
   "metadata": {
    "collapsed": true
   },
   "outputs": [],
   "source": []
  }
 ],
 "metadata": {
  "kernelspec": {
   "display_name": "Python 2",
   "language": "python",
   "name": "python2"
  },
  "language_info": {
   "codemirror_mode": {
    "name": "ipython",
    "version": 2
   },
   "file_extension": ".py",
   "mimetype": "text/x-python",
   "name": "python",
   "nbconvert_exporter": "python",
   "pygments_lexer": "ipython2",
   "version": "2.7.12"
  }
 },
 "nbformat": 4,
 "nbformat_minor": 0
}
