{
 "cells": [
  {
   "cell_type": "code",
   "execution_count": 32,
   "metadata": {
    "collapsed": false
   },
   "outputs": [],
   "source": [
    "from cnns.utils import clustering_utils as clu\n",
    "from cnns.utils import cnn_utils as cu\n",
    "from scipy.cluster.hierarchy import linkage\n",
    "import matplotlib.pyplot as plt\n",
    "import matplotlib\n",
    "import fastcluster as fc\n",
    "import time\n",
    "import numpy as np\n",
    "import pickle as pkl"
   ]
  },
  {
   "cell_type": "code",
   "execution_count": 33,
   "metadata": {
    "collapsed": true
   },
   "outputs": [],
   "source": [
    "%matplotlib inline\n",
    "plt.style.use('bmh')\n",
    "matplotlib.rcParams['figure.figsize'] = (20.0, 10.0)"
   ]
  },
  {
   "cell_type": "code",
   "execution_count": 45,
   "metadata": {
    "collapsed": false
   },
   "outputs": [
    {
     "name": "stdout",
     "output_type": "stream",
     "text": [
      "20.3243999481\n"
     ]
    }
   ],
   "source": [
    "N = 1\n",
    "v = [None]*N\n",
    "user_id = 8\n",
    "cnn_codes_filepath = '/Users/babasarala/Desktop/face_clustering/openface_cnn_codes/%i_cnn_codes.p'%(user_id)\n",
    "img_urls, X = pkl.load(open(cnn_codes_filepath, 'rb'))\n",
    "for i in range(N):\n",
    "    start = time.time()\n",
    "    _ = linkage(X, 'average')\n",
    "    end = time.time()\n",
    "    v[i] = end - start\n",
    "print np.mean(v)"
   ]
  },
  {
   "cell_type": "code",
   "execution_count": 35,
   "metadata": {
    "collapsed": false
   },
   "outputs": [
    {
     "data": {
      "text/plain": [
       "(array([  8.,  22.,  33.,  22.,  16.,  12.,  16.,  10.,  16.,  13.,  19.,\n",
       "         12.,  13.,  15.,  11.,  12.,  19.,  19.,  25.,  16.,  17.,  13.,\n",
       "         13.,  14.,  17.,  14.,  20.,  12.,  22.,  12.,  19.,  12.,  13.,\n",
       "         11.,  20.,  14.,  20.,  15.,  13.,  19.,  15.,  14.,  15.,  16.,\n",
       "         18.,  13.,  16.,  14.,  11.,  12.,  12.,  10.,  11.,  13.,  15.,\n",
       "          9.,  13.,   8.,   7.,   9.,   5.,   8.,   2.,   9.,   5.,   6.,\n",
       "          4.,   8.,   4.,   5.,   9.,   8.,   3.,   3.,   2.,   5.,   3.,\n",
       "          2.,   0.,   1.,   3.,   2.,   2.,   1.,   2.,   1.,   0.,   1.,\n",
       "          0.,   0.,   0.,   0.,   1.,   0.,   0.,   1.,   1.,   1.,   1.,\n",
       "          1.]),\n",
       " array([ 0.03383803,  0.03405972,  0.03428142,  0.03450311,  0.0347248 ,\n",
       "         0.03494649,  0.03516818,  0.03538987,  0.03561156,  0.03583325,\n",
       "         0.03605494,  0.03627664,  0.03649833,  0.03672002,  0.03694171,\n",
       "         0.0371634 ,  0.03738509,  0.03760678,  0.03782847,  0.03805017,\n",
       "         0.03827186,  0.03849355,  0.03871524,  0.03893693,  0.03915862,\n",
       "         0.03938031,  0.039602  ,  0.03982369,  0.04004539,  0.04026708,\n",
       "         0.04048877,  0.04071046,  0.04093215,  0.04115384,  0.04137553,\n",
       "         0.04159722,  0.04181891,  0.04204061,  0.0422623 ,  0.04248399,\n",
       "         0.04270568,  0.04292737,  0.04314906,  0.04337075,  0.04359244,\n",
       "         0.04381413,  0.04403583,  0.04425752,  0.04447921,  0.0447009 ,\n",
       "         0.04492259,  0.04514428,  0.04536597,  0.04558766,  0.04580935,\n",
       "         0.04603105,  0.04625274,  0.04647443,  0.04669612,  0.04691781,\n",
       "         0.0471395 ,  0.04736119,  0.04758288,  0.04780457,  0.04802627,\n",
       "         0.04824796,  0.04846965,  0.04869134,  0.04891303,  0.04913472,\n",
       "         0.04935641,  0.0495781 ,  0.0497998 ,  0.05002149,  0.05024318,\n",
       "         0.05046487,  0.05068656,  0.05090825,  0.05112994,  0.05135163,\n",
       "         0.05157332,  0.05179502,  0.05201671,  0.0522384 ,  0.05246009,\n",
       "         0.05268178,  0.05290347,  0.05312516,  0.05334685,  0.05356854,\n",
       "         0.05379024,  0.05401193,  0.05423362,  0.05445531,  0.054677  ,\n",
       "         0.05489869,  0.05512038,  0.05534207,  0.05556376,  0.05578546,\n",
       "         0.05600715]),\n",
       " <a list of 100 Patch objects>)"
      ]
     },
     "execution_count": 35,
     "metadata": {},
     "output_type": "execute_result"
    },
    {
     "data": {
      "image/png": "[encoded data removed]",
      "text/plain": [
       "<matplotlib.figure.Figure at 0x115506190>"
      ]
     },
     "metadata": {},
     "output_type": "display_data"
    }
   ],
   "source": [
    "plt.hist(v, bins=100)"
   ]
  },
  {
   "cell_type": "code",
   "execution_count": null,
   "metadata": {
    "collapsed": true
   },
   "outputs": [],
   "source": []
  }
 ],
 "metadata": {
  "kernelspec": {
   "display_name": "Python 2",
   "language": "python",
   "name": "python2"
  },
  "language_info": {
   "codemirror_mode": {
    "name": "ipython",
    "version": 2
   },
   "file_extension": ".py",
   "mimetype": "text/x-python",
   "name": "python",
   "nbconvert_exporter": "python",
   "pygments_lexer": "ipython2",
   "version": "2.7.12"
  }
 },
 "nbformat": 4,
 "nbformat_minor": 0
}
