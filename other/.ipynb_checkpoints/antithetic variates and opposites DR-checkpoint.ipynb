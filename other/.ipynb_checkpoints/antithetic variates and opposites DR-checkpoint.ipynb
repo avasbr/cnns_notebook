{
 "cells": [
  {
   "cell_type": "code",
   "execution_count": 1,
   "metadata": {
    "collapsed": true
   },
   "outputs": [],
   "source": [
    "import numpy as np"
   ]
  },
  {
   "cell_type": "code",
   "execution_count": 84,
   "metadata": {
    "collapsed": false
   },
   "outputs": [],
   "source": [
    "def reduceDimentionality(deepFeatureVector, desiredLength):\n",
    "    # verify the desired reduction rate\n",
    "    if desiredLength>len(deepFeatureVector) or desiredLength<=0:\n",
    "        print 'Desired reduction rate not correct!'\n",
    "        return 0\n",
    "\n",
    "    # go through the features multiple times each time cutting its length in half\n",
    "    while len(deepFeatureVector) > desiredLength:\n",
    "        # get the length of the feature vector\n",
    "        L = len(deepFeatureVector)\n",
    "        # set the opposite index\n",
    "        j = L-1\n",
    "        # initialize the reduced feature vector\n",
    "        Vr = [0 for i in range(L / 2)]\n",
    "        # go through half the feature vector\n",
    "        for i in range(L/2):\n",
    "            # get the average of the current position and its opposite\n",
    "            Vr[i] = ( deepFeatureVector[i] + deepFeatureVector[j] ) /2\n",
    "            # update the oppsoite index\n",
    "            j = j - 1\n",
    "        # Replace the original feature vector with the reduced one\n",
    "        deepFeatureVector = Vr\n",
    "\n",
    "    return Vr\n",
    "\n",
    "def reduce_dim(X,l):\n",
    "    assert l > 0 and l < len(X)\n",
    "    if len(X.shape) == 1: X = X[np.newaxis,:]\n",
    "    # continue to fold matrix (or vector) over and average until\n",
    "    # desired length has been reached\n",
    "    while X.shape[1] > l:\n",
    "        d = X.shape[1]\n",
    "        X = (X[:,:d/2] + X[:,d/2:][:,::-1])/2\n",
    "    return X[0] if X.shape[0] == 1 else X\n",
    "        \n"
   ]
  },
  {
   "cell_type": "code",
   "execution_count": 85,
   "metadata": {
    "collapsed": false
   },
   "outputs": [],
   "source": [
    "X = np.random.random(4096)\n",
    "X_ = reduceDimentionality(X, 512)\n",
    "Xx = reduce_dim(X, 512)"
   ]
  },
  {
   "cell_type": "code",
   "execution_count": 86,
   "metadata": {
    "collapsed": false
   },
   "outputs": [
    {
     "name": "stdout",
     "output_type": "stream",
     "text": [
      "[0.48558971657949279, 0.48657039549756526, 0.60928329321470487, 0.37388989015677787, 0.49026021465058556, 0.50982632130048278, 0.39928147882346587, 0.58481713737479823, 0.64625953676893599, 0.66148473576715872]\n",
      "[ 0.48558972  0.4865704   0.60928329  0.37388989  0.49026021  0.50982632\n",
      "  0.39928148  0.58481714  0.64625954  0.66148474]\n"
     ]
    }
   ],
   "source": [
    "print X_[:10]\n",
    "print Xx[:10]"
   ]
  },
  {
   "cell_type": "code",
   "execution_count": 21,
   "metadata": {
    "collapsed": false
   },
   "outputs": [
    {
     "name": "stdout",
     "output_type": "stream",
     "text": [
      "[ 0.79583191  0.87925762  0.73440201 ...,  0.98264248  0.63059188\n",
      "  0.49450714]\n"
     ]
    }
   ],
   "source": [
    "print X"
   ]
  },
  {
   "cell_type": "code",
   "execution_count": 71,
   "metadata": {
    "collapsed": false
   },
   "outputs": [
    {
     "name": "stdout",
     "output_type": "stream",
     "text": [
      "[[10  9  5]]\n"
     ]
    }
   ],
   "source": [
    "y = np.array([1, 2, 4, 5, 9, 10])\n",
    "y = y[np.newaxis,:]\n",
    "d = y.shape[1]\n",
    "print y[:,d/2:][:,::-1]"
   ]
  },
  {
   "cell_type": "code",
   "execution_count": null,
   "metadata": {
    "collapsed": true
   },
   "outputs": [],
   "source": []
  }
 ],
 "metadata": {
  "kernelspec": {
   "display_name": "Python 2",
   "language": "python",
   "name": "python2"
  },
  "language_info": {
   "codemirror_mode": {
    "name": "ipython",
    "version": 2
   },
   "file_extension": ".py",
   "mimetype": "text/x-python",
   "name": "python",
   "nbconvert_exporter": "python",
   "pygments_lexer": "ipython2",
   "version": "2.7.12"
  }
 },
 "nbformat": 4,
 "nbformat_minor": 0
}
