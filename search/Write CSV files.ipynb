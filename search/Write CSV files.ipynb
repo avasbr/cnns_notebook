{
 "cells": [
  {
   "cell_type": "code",
   "execution_count": 1,
   "metadata": {
    "collapsed": true
   },
   "outputs": [],
   "source": [
    "import csv"
   ]
  },
  {
   "cell_type": "code",
   "execution_count": 8,
   "metadata": {
    "collapsed": true
   },
   "outputs": [],
   "source": [
    "eval_dirpath = '/Users/babasarala/Desktop/evaluation"
   ]
  },
  {
   "cell_type": "code",
   "execution_count": 12,
   "metadata": {
    "collapsed": false
   },
   "outputs": [],
   "source": [
    "mem_ids = [5, 8, 1496616, 1946418, 2028464, 2685009, 3473194, 3928074]\n",
    "categories = ['documents', 'whiteboards', 'sketches']\n",
    "csv_filepath = '%s/image_url_files/productivity/everalbum_productivity_img_urls.csv'%eval_dirpath\n",
    "with open(csv_filepath, 'w') as csvfile:\n",
    "    header = ['user_id', 'mem_id', 'category']\n",
    "    writer = csv.DictWriter(csvfile,fieldnames=header)\n",
    "    writer.writeheader()\n",
    "    for mem_id in mem_ids:\n",
    "        for category in categories:\n",
    "            curr_csv_filepath = '%s/image_url_files/productivity/old_csv/true/%i_true_%s.csv' \\\n",
    "                                 %(eval_dirpath, mem_id, category)\n",
    "            with open(curr_csv_filepath, 'rb') as f:\n",
    "                reader = csv.reader(f)\n",
    "                header = reader.next()\n",
    "                for row in reader:\n",
    "                    writer.writerow({'user_id':mem_id, 'mem_id':int(row[0]),'category':category})"
   ]
  }
 ],
 "metadata": {
  "kernelspec": {
   "display_name": "Python 2",
   "language": "python",
   "name": "python2"
  },
  "language_info": {
   "codemirror_mode": {
    "name": "ipython",
    "version": 2
   },
   "file_extension": ".py",
   "mimetype": "text/x-python",
   "name": "python",
   "nbconvert_exporter": "python",
   "pygments_lexer": "ipython2",
   "version": "2.7.12"
  }
 },
 "nbformat": 4,
 "nbformat_minor": 0
}
