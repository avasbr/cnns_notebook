{
 "cells": [
  {
   "cell_type": "code",
   "execution_count": 4,
   "metadata": {
    "collapsed": true
   },
   "outputs": [],
   "source": [
    "import os\n",
    "import glob"
   ]
  },
  {
   "cell_type": "code",
   "execution_count": 5,
   "metadata": {
    "collapsed": true
   },
   "outputs": [],
   "source": [
    "dirpath = '/Users/babasarala/Desktop/new_faces'"
   ]
  },
  {
   "cell_type": "code",
   "execution_count": 6,
   "metadata": {
    "collapsed": false
   },
   "outputs": [],
   "source": [
    "dirs = [f for f in os.listdir(dirpath) if os.path.isdir('%s/%s'%(dirpath,f))]"
   ]
  },
  {
   "cell_type": "code",
   "execution_count": 7,
   "metadata": {
    "collapsed": false
   },
   "outputs": [],
   "source": [
    "num_imgs = []\n",
    "user_ids = []\n",
    "for directory in dirs:\n",
    "    curr_dir = '%s/%s'%(dirpath, directory)\n",
    "    files_in_dir = os.listdir(curr_dir)\n",
    "    for f in files_in_dir:\n",
    "        if 'img_urls' in f and os.path.isdir('%s/%s'%(curr_dir, f)):\n",
    "            user_ids.append(directory)\n",
    "            num_imgs.append(len(os.listdir('%s/%s'%(curr_dir, f))))"
   ]
  },
  {
   "cell_type": "code",
   "execution_count": 8,
   "metadata": {
    "collapsed": false
   },
   "outputs": [],
   "source": [
    "import pandas as pd\n",
    "\n",
    "df = pd.DataFrame({'user_ids': user_ids, 'num_images': num_imgs})[['user_ids', 'num_images']]"
   ]
  },
  {
   "cell_type": "code",
   "execution_count": 15,
   "metadata": {
    "collapsed": false
   },
   "outputs": [],
   "source": [
    "sorted_top_20 = df.sort(columns=['num_images'], ascending=False).head(n=20)"
   ]
  },
  {
   "cell_type": "code",
   "execution_count": 17,
   "metadata": {
    "collapsed": false
   },
   "outputs": [],
   "source": [
    "sorted_top_20.to_csv('/Users/babasarala/Desktop/top_spare5_accounts.csv', index=False)"
   ]
  }
 ],
 "metadata": {
  "kernelspec": {
   "display_name": "Python 2",
   "language": "python",
   "name": "python2"
  },
  "language_info": {
   "codemirror_mode": {
    "name": "ipython",
    "version": 2
   },
   "file_extension": ".py",
   "mimetype": "text/x-python",
   "name": "python",
   "nbconvert_exporter": "python",
   "pygments_lexer": "ipython2",
   "version": "2.7.12"
  }
 },
 "nbformat": 4,
 "nbformat_minor": 0
}
