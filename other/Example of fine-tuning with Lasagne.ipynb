{
 "cells": [
  {
   "cell_type": "code",
   "execution_count": 18,
   "metadata": {
    "collapsed": false
   },
   "outputs": [],
   "source": [
    "import numpy as np\n",
    "import theano\n",
    "import theano.tensor as T\n",
    "import lasagne\n",
    "\n",
    "%matplotlib inline\n",
    "import matplotlib.pyplot as plt\n",
    "\n",
    "import skimage.transform\n",
    "import sklearn.cross_validation\n",
    "import pickle\n",
    "import os\n",
    "\n",
    "from lasagne.layers import DenseLayer, InputLayer, DropoutLayer, NonlinearityLayer, Pool2DLayer as PoolLayer\n",
    "from lasagne.layers import Conv2DLayer as ConvLayer\n",
    "# from lasagne.layers.dnn import Conv2DDNNLayer as ConvLayer # uncomment if you have cuDNN installed!\n",
    "from lasagne.nonlinearities import softmax\n",
    "from lasagne.updates import adam\n",
    "from lasagne.utils import floatX\n",
    "from nolearn.lasagne import NeuralNet\n",
    "import pickle"
   ]
  },
  {
   "cell_type": "code",
   "execution_count": 4,
   "metadata": {
    "collapsed": true
   },
   "outputs": [],
   "source": [
    "np.random.seed(42)"
   ]
  },
  {
   "cell_type": "code",
   "execution_count": 5,
   "metadata": {
    "collapsed": true
   },
   "outputs": [],
   "source": [
    "CLASSES = ['pancakes', 'waffles']\n",
    "LABELS = {cls: i for i, cls in enumerate(CLASSES)}"
   ]
  },
  {
   "cell_type": "markdown",
   "metadata": {},
   "source": [
    "# Dataset"
   ]
  },
  {
   "cell_type": "markdown",
   "metadata": {},
   "source": [
    "Images were downloaded from Google Image Search and placed in the directories './images/pancakes' and './images/waffles'"
   ]
  },
  {
   "cell_type": "code",
   "execution_count": 8,
   "metadata": {
    "collapsed": false
   },
   "outputs": [
    {
     "name": "stdout",
     "output_type": "stream",
     "text": [
      "--2016-04-03 15:37:20--  https://s3.amazonaws.com/emolson/pydata/images.tgz\n",
      "Resolving s3.amazonaws.com... 54.231.114.140\n",
      "Connecting to s3.amazonaws.com|54.231.114.140|:443... connected.\n",
      "HTTP request sent, awaiting response... 200 OK\n",
      "Length: 12680660 (12M) [application/x-tar]\n",
      "Saving to: 'images.tgz'\n",
      "\n",
      "images.tgz          100%[===================>]  12.09M  2.92MB/s    in 5.8s    \n",
      "\n",
      "2016-04-03 15:37:27 (2.08 MB/s) - 'images.tgz' saved [12680660/12680660]\n",
      "\n"
     ]
    }
   ],
   "source": [
    "# Download and unpack set\n",
    "!wget -N https://s3.amazonaws.com/emolson/pydata/images.tgz   \n",
    "!tar -xf images.tgz"
   ]
  },
  {
   "cell_type": "code",
   "execution_count": 11,
   "metadata": {
    "collapsed": false,
    "scrolled": false
   },
   "outputs": [],
   "source": [
    "from collections import OrderedDict\n",
    "def define_layers():\n",
    "    net = OrderedDict()\n",
    "    net['input'] = InputLayer((None, 3, 224, 224), name='input')\n",
    "    net['conv1_1'] = ConvLayer(net['input'], 64, 3, pad=1, name='conv1_1')\n",
    "    net['conv1_2'] = ConvLayer(net['conv1_1'], 64, 3, pad=1, name='conv1_2')\n",
    "    net['pool1'] = PoolLayer(net['conv1_2'], 2,)\n",
    "    net['conv2_1'] = ConvLayer(net['pool1'], 128, 3, pad=1)\n",
    "    net['conv2_2'] = ConvLayer(net['conv2_1'], 128, 3, pad=1)\n",
    "    net['pool2'] = PoolLayer(net['conv2_2'], 2)\n",
    "    net['conv3_1'] = ConvLayer(net['pool2'], 256, 3, pad=1)\n",
    "    net['conv3_2'] = ConvLayer(net['conv3_1'], 256, 3, pad=1)\n",
    "    net['conv3_3'] = ConvLayer(net['conv3_2'], 256, 3, pad=1)\n",
    "    net['pool3'] = PoolLayer(net['conv3_3'], 2)\n",
    "    net['conv4_1'] = ConvLayer(net['pool3'], 512, 3, pad=1)\n",
    "    net['conv4_2'] = ConvLayer(net['conv4_1'], 512, 3, pad=1)\n",
    "    net['conv4_3'] = ConvLayer(net['conv4_2'], 512, 3, pad=1)\n",
    "    net['pool4'] = PoolLayer(net['conv4_3'], 2)\n",
    "    net['conv5_1'] = ConvLayer(net['pool4'], 512, 3, pad=1)\n",
    "    net['conv5_2'] = ConvLayer(net['conv5_1'], 512, 3, pad=1)\n",
    "    net['conv5_3'] = ConvLayer(net['conv5_2'], 512, 3, pad=1)\n",
    "    net['pool5'] = PoolLayer(net['conv5_3'], 2)\n",
    "    net['fc6'] = DenseLayer(net['pool5'], num_units=4096)\n",
    "    net['fc7'] = DenseLayer(net['fc6'], num_units=4096)\n",
    "    net['fc8'] = DenseLayer(net['fc7'], num_units=1000, nonlinearity=None)\n",
    "    net['prob'] = NonlinearityLayer(net['fc8'], softmax)\n",
    "\n",
    "    return net"
   ]
  },
  {
   "cell_type": "code",
   "execution_count": 12,
   "metadata": {
    "collapsed": false
   },
   "outputs": [],
   "source": [
    "layers = [v for k,v in define_layers().iteritems()]"
   ]
  },
  {
   "cell_type": "code",
   "execution_count": 14,
   "metadata": {
    "collapsed": false
   },
   "outputs": [],
   "source": [
    "net = NeuralNet(layers=layers, max_epochs=10, update=adam, update_learning_rate=0.0002, verbose=1)"
   ]
  },
  {
   "cell_type": "code",
   "execution_count": 17,
   "metadata": {
    "collapsed": false
   },
   "outputs": [
    {
     "name": "stdout",
     "output_type": "stream",
     "text": [
      "--2016-04-03 18:18:01--  https://s3.amazonaws.com/lasagne/recipes/pretrained/imagenet/vgg16.pkl\n",
      "Resolving s3.amazonaws.com... 54.231.114.132\n",
      "Connecting to s3.amazonaws.com|54.231.114.132|:443... connected.\n",
      "HTTP request sent, awaiting response... 200 OK\n",
      "Length: 553459517 (528M) [binary/octet-stream]\n",
      "Saving to: 'vgg16.pkl'\n",
      "\n",
      "vgg16.pkl           100%[===================>] 527.82M  5.10MB/s    in 83s     \n",
      "\n",
      "2016-04-03 18:19:25 (6.37 MB/s) - 'vgg16.pkl' saved [553459517/553459517]\n",
      "\n"
     ]
    }
   ],
   "source": [
    "# Download a pickle containing the pretrained weights\n",
    "!wget -N https://s3.amazonaws.com/lasagne/recipes/pretrained/imagenet/vgg16.pkl"
   ]
  },
  {
   "cell_type": "code",
   "execution_count": 19,
   "metadata": {
    "collapsed": true
   },
   "outputs": [],
   "source": [
    "d = pickle.load(open('vgg16.pkl'))"
   ]
  },
  {
   "cell_type": "code",
   "execution_count": null,
   "metadata": {
    "collapsed": true
   },
   "outputs": [],
   "source": []
  }
 ],
 "metadata": {
  "kernelspec": {
   "display_name": "Python 2",
   "language": "python",
   "name": "python2"
  },
  "language_info": {
   "codemirror_mode": {
    "name": "ipython",
    "version": 2
   },
   "file_extension": ".py",
   "mimetype": "text/x-python",
   "name": "python",
   "nbconvert_exporter": "python",
   "pygments_lexer": "ipython2",
   "version": "2.7.10"
  }
 },
 "nbformat": 4,
 "nbformat_minor": 0
}
