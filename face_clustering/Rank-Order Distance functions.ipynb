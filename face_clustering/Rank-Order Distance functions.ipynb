{
 "cells": [
  {
   "cell_type": "markdown",
   "metadata": {},
   "source": [
    "# Rank-Order distance"
   ]
  },
  {
   "cell_type": "code",
   "execution_count": 71,
   "metadata": {
    "collapsed": true
   },
   "outputs": [],
   "source": [
    "import numpy as np\n",
    "from sklearn.metrics.pairwise import pairwise_distances\n",
    "import matplotlib\n",
    "import matplotlib.pyplot as plt\n",
    "from collections import defaultdict\n",
    "import pickle as pkl"
   ]
  },
  {
   "cell_type": "code",
   "execution_count": 6,
   "metadata": {
    "collapsed": true
   },
   "outputs": [],
   "source": [
    "%matplotlib inline\n",
    "matplotlib.rcParams['figure.figsize'] = (20, 10)"
   ]
  },
  {
   "cell_type": "markdown",
   "metadata": {},
   "source": [
    "Clusters can be represented as dicts\n",
    "C = {cluster_idx: [idx_1, idx_2, ...]}\n",
    "\n",
    "For merging, we can combine clusters by combining lists and then adding a new cluster_idx\n",
    "merge(C_i, C_j, dC, cluster_cnt) --> dC[cluster_cnt+1] = dC[C_i] + dC[C_j], wipe out cluster_idxs \n",
    "corresponding to C_i, C_j"
   ]
  },
  {
   "cell_type": "code",
   "execution_count": 90,
   "metadata": {
    "collapsed": false
   },
   "outputs": [],
   "source": [
    "class RankOrderClusterer():\n",
    "    \n",
    "    def __init__(self, X, t=14, K=9):\n",
    "        self.m = X.shape[0]\n",
    "        assert self.m > 2 # need more than two data points!\n",
    "        self.t = t\n",
    "        self.K = min(K, self.m-1) # if K > max NN, set K = max NN\n",
    "        self.load_data(X)\n",
    "        self.merge_data = defaultdict(list)\n",
    "    \n",
    "    def load_data(self, X):\n",
    "        # Loads in the data and initializes variables \n",
    "        \n",
    "        # order lists in array and dict-forms for individual data points;\n",
    "        # these don't need to be saved off if we have D, but keep it around\n",
    "        # if we ever need to query individual distances\n",
    "        self.O = np.zeros((self.m, self.m-1))\n",
    "        sorted_sample_idxs = np.argsort(pairwise_distances(X)).astype(np.int32)\n",
    "        for sample_idx, order_list in enumerate(sorted_sample_idxs):\n",
    "            self.O[sample_idx] = np.array([idx for idx in order_list if idx != sample_idx])\n",
    "        \n",
    "        # converts a list of order lists into a dict of dicts,\n",
    "        # with format {data_sample_idx: {nn_idx: order_list_idx}}\n",
    "        # e.g. if a data sample indexed 5 has an order list [3,2,4,1],\n",
    "        # this would return {5: {3:1, 2:2, 4:3, 1:4}}\n",
    "        self.dO = {}\n",
    "        for idx, order_list in enumerate(self.O):\n",
    "            self.dO[idx] = {v:(idx+1) for idx, v in enumerate(order_list)}\n",
    "                                          \n",
    "        # Creates an m x m matrix of asymmetric rank-order pairwise distances                               \n",
    "        self.D = np.zeros((self.m, self.m))\n",
    "        for a in range(self.m):\n",
    "            for b in range(self.m):\n",
    "                if a != b:\n",
    "                    self.D[a,b] = self.compute_D_a_b(a, b)\n",
    "        \n",
    "        # order lists in array and dict-forms at the cluster-level\n",
    "        self.C = {idx: [idx] for idx in range(self.m)} # each data point is a cluster\n",
    "        self.cO = self.O\n",
    "        self.dcO = self.dO\n",
    "        \n",
    "        # for singletons\n",
    "        self.first_time = True\n",
    "               \n",
    "    def _update_cluster_order_lists(self):\n",
    "        # generates cluster-level order lists based on absolute cluster distances\n",
    "        k = len(self.C)\n",
    "        self.cO = np.zeros((k, k-1))\n",
    "        pairwise_d_Ci_Cj = np.zeros((k,k))\n",
    "        for i in range(k):\n",
    "            for j in range(k):\n",
    "                if i != j:\n",
    "                    pairwise_d_Ci_Cj[i, j] = self.compute_d_Ci_Cj(i,j)\n",
    "        sorted_cluster_idxs = np.argsort(pairwise_d_Ci_Cj)\n",
    "        for cluster_idx, order_list in enumerate(sorted_cluster_idxs):\n",
    "            self.cO[cluster_idx] = np.array([idx for idx in order_list if idx != cluster_idx])\n",
    "\n",
    "    def _convert_cluster_order_lists_to_dicts(self):\n",
    "        # converts a list of order lists into a dict of dicts,\n",
    "        # with format {data_sample_idx: {nn_idx: order_list_idx}}\n",
    "        # e.g. if a data sample indexed 5 has an order list [3,2,4,1],\n",
    "        # this would return {5: {3:1, 2:2, 4:3, 1:4}}\n",
    "        self.dcO = {}\n",
    "        for idx, order_list in enumerate(self.cO):\n",
    "            self.dcO[idx] = {v:(idx+1) for idx, v in enumerate(order_list)}\n",
    "\n",
    "    def compute_D_a_b(self, a, b):\n",
    "        # D(a, b) (1) - asymmetric rank-order distance\n",
    "        idx = 0\n",
    "        a_ = self.O[a][idx]\n",
    "        D_a_b = 0\n",
    "        while a_ != b:\n",
    "            D_a_b += self.dO[b][a_]\n",
    "            idx += 1\n",
    "            a_ = self.O[a][idx]\n",
    "        return D_a_b\n",
    "    \n",
    "    def compute_D_R_a_b(self, a, b):\n",
    "        # D^R(a, b) (2) = - normalized, symmetric rank-order \n",
    "        # distance between data samples\n",
    "        O_ab = self.dO[a][b]\n",
    "        O_ba = self.dO[b][a]\n",
    "        assert O_ab > 0\n",
    "        assert O_ba > 0\n",
    "        return 1.*(self.D[a,b] + self.D[b,a]) / min(O_ab, O_ba)\n",
    "    \n",
    "    def compute_d_Ci_Cj(self, i, j):\n",
    "        # d(C_i, C_j) (3) - defined simply to be the minimum\n",
    "        # rank-order pairwise distance among the cluster members\n",
    "        d_Ci_Cj = np.inf\n",
    "        C_i = self.C[i]\n",
    "        C_j = self.C[j]\n",
    "        for a in C_i:\n",
    "            for b in C_j:\n",
    "                if self.D[a,b] < d_Ci_Cj:\n",
    "                    d_Ci_Cj = self.D[a, b]\n",
    "        return d_Ci_Cj\n",
    "    \n",
    "    def compute_D_Ci_Cj(self, i, j):\n",
    "        # D(Ci, Cj) (*not explictly in paper*) - the asymmetric rank-order \n",
    "        # distance at the cluster-level\n",
    "        idx = 0\n",
    "        i_ = self.cO[i][idx]        \n",
    "        D_Ci_Cj = 0\n",
    "        while i_ != j:\n",
    "            D_Ci_Cj += self.dcO[j][i_]\n",
    "            idx += 1\n",
    "            i_ = self.cO[i][idx]\n",
    "        return D_Ci_Cj\n",
    "\n",
    "    def compute_D_R_Ci_Cj(self, i, j):\n",
    "        # D^R(C_i, C_j) (4) - symmetric rank-order distance \n",
    "        # at the cluster-level\n",
    "        D_ij = self.compute_D_Ci_Cj(i, j)\n",
    "        D_ji = self.compute_D_Ci_Cj(j, i)\n",
    "        O_ij = self.dcO[i][j]\n",
    "        O_ji = self.dcO[j][i]\n",
    "        assert O_ij > 0\n",
    "        assert O_ji > 0\n",
    "        D_R_Ci_Cj = 1.*(D_ij + D_ji)/ min(O_ij, O_ji)\n",
    "        return D_R_Ci_Cj\n",
    "    \n",
    "    def compute_D_N_Ci_Cj(self, i, j):\n",
    "        # D^N(C_i, C_j) (5) - cluster-level normalized distance\n",
    "        # Compute the average rank-order distance for all members of\n",
    "        # both clusters\n",
    "        C_i_U_C_j = self.C[i] + self.C[j]\n",
    "        avg_K_dist = [None]*len(C_i_U_C_j)\n",
    "        for idx, a in enumerate(C_i_U_C_j):\n",
    "            avg_K_dist[idx] = np.mean([self.D[a,k] for k in self.O[a][:self.K]])\n",
    "        phi_Ci_Cj =  np.mean(avg_K_dist)\n",
    "        D_N_Ci_Cj = 1./phi_Ci_Cj*self.compute_d_Ci_Cj(i, j)\n",
    "        return D_N_Ci_Cj\n",
    "    \n",
    "    def _update_clusters(self, merged_sets):\n",
    "        # update the cluster state\n",
    "        def update_cluster(merged_set, cluster_cnt):\n",
    "            data_idxs = []\n",
    "            for cluster_idx in merged_set:\n",
    "                data_idxs += self.C.pop(cluster_idx)\n",
    "            self.C[cluster_cnt] = data_idxs\n",
    "\n",
    "        # update all clusters\n",
    "        curr_cluster_cnt = len(self.C) + 1\n",
    "        for merged_set in merged_sets:\n",
    "            update_cluster(merged_set, curr_cluster_cnt)\n",
    "            curr_cluster_cnt += 1\n",
    "        \n",
    "        # re-index clusters\n",
    "        new_C = {}\n",
    "        for new_idx, (old_idx, _) in enumerate(self.C.iteritems()):\n",
    "            new_C[new_idx] = self.C[old_idx]\n",
    "        self.C = new_C\n",
    "        self._update_cluster_order_lists()\n",
    "        self._convert_cluster_order_lists_to_dicts()\n",
    "        \n",
    "    def _transitive_merge(self, merge_candidates):\n",
    "        # takes pairs of cluster indices to be merged and \n",
    "        # transitively merges\n",
    "        def indices_dict(merge_candidates):\n",
    "            d = defaultdict(list)\n",
    "            for i,(a,b) in enumerate(merge_candidates):\n",
    "                d[a].append(i)\n",
    "                d[b].append(i)\n",
    "            return d\n",
    "\n",
    "        def disjoint_indices(merge_candidates):\n",
    "            d = indices_dict(merge_candidates)\n",
    "            sets = []\n",
    "            while len(d):\n",
    "                que = set(d.popitem()[1])\n",
    "                ind = set()\n",
    "                while len(que):\n",
    "                    ind |= que \n",
    "                    que = set([y for i in que \n",
    "                                 for x in merge_candidates[i] \n",
    "                                 for y in d.pop(x, [])]) - ind\n",
    "                sets += [ind]\n",
    "            return sets\n",
    "        \n",
    "        merged_sets = [set([x for i in s for x in merge_candidates[i]]) \\\n",
    "                       for s in disjoint_indices(merge_candidates)]\n",
    "        \n",
    "        self._update_clusters(merged_sets)\n",
    "        \n",
    "        # since every point must be assigned a cluster, this should never \n",
    "        # change\n",
    "        assert np.sum([len(v) for _,v in self.C.iteritems()]) == self.m\n",
    "        \n",
    "    def perform_clustering(self):\n",
    "        # continue to merge until there are no merge candidates left\n",
    "        merge_cnt = 1\n",
    "        while True:\n",
    "            num_clusters = len(self.C)\n",
    "            merge_candidates = []\n",
    "            # go through all pairs of clusters...\n",
    "            for i in range(num_clusters-1):\n",
    "                for j in range(i+1, num_clusters):\n",
    "                    \n",
    "                    # Compute cluster-level Rank-Order and normalized distances\n",
    "                    D_R_Ci_Cj = self.compute_D_R_Ci_Cj(i,j)\n",
    "                    D_N_Ci_Cj = self.compute_D_N_Ci_Cj(i,j)\n",
    "                    \n",
    "                    # store some info for analysis purposes\n",
    "                    self.merge_data['Merge %i'%(merge_cnt)].append((D_R_Ci_Cj, D_N_Ci_Cj))\n",
    "                    \n",
    "                    # if any cluster pairs meet merge conditions...\n",
    "                    if D_R_Ci_Cj < self.t and D_N_Ci_Cj < 1.:\n",
    "                        merge_candidates.append((i,j))\n",
    "                    \n",
    "            if len(merge_candidates) == 0:\n",
    "                break\n",
    "            self._transitive_merge(merge_candidates)\n",
    "            merge_cnt += 1"
   ]
  },
  {
   "cell_type": "markdown",
   "metadata": {},
   "source": [
    "# Playing with real data"
   ]
  },
  {
   "cell_type": "code",
   "execution_count": 91,
   "metadata": {
    "collapsed": true
   },
   "outputs": [],
   "source": [
    "user_id = 1946418\n",
    "openface_dir = '/Users/babasarala/Desktop/face_clustering/openface_cnn_codes'\n",
    "cnn_codes_filepath = '%s/%i_cnn_codes.p'%(openface_dir, user_id)\n",
    "img_urls, X = pkl.load(open(cnn_codes_filepath, 'rb'))"
   ]
  },
  {
   "cell_type": "code",
   "execution_count": 103,
   "metadata": {
    "collapsed": false
   },
   "outputs": [
    {
     "name": "stderr",
     "output_type": "stream",
     "text": [
      "/usr/local/lib/python2.7/site-packages/IPython/kernel/__main__.py:130: VisibleDeprecationWarning: using a non-integer number instead of an integer will result in an error in the future\n"
     ]
    }
   ],
   "source": [
    "roc_ = RankOrderClusterer(X, t=5, K=9)\n",
    "roc_.perform_clustering()"
   ]
  },
  {
   "cell_type": "code",
   "execution_count": 104,
   "metadata": {
    "collapsed": false
   },
   "outputs": [
    {
     "data": {
      "text/plain": [
       "79"
      ]
     },
     "execution_count": 104,
     "metadata": {},
     "output_type": "execute_result"
    }
   ],
   "source": [
    "len(roc_.C)"
   ]
  },
  {
   "cell_type": "code",
   "execution_count": 97,
   "metadata": {
    "collapsed": false
   },
   "outputs": [
    {
     "data": {
      "text/plain": [
       "(array([  2.64000000e+02,   5.37000000e+02,   7.48000000e+02,\n",
       "          1.16500000e+03,   9.12000000e+02,   7.51000000e+02,\n",
       "          7.01000000e+02,   7.45000000e+02,   1.93000000e+03,\n",
       "          3.03800000e+03,   2.50700000e+03,   1.47800000e+03,\n",
       "          6.27000000e+02,   2.38000000e+02,   1.29000000e+02,\n",
       "          1.04000000e+02,   6.30000000e+01,   4.70000000e+01,\n",
       "          4.90000000e+01,   3.10000000e+01,   3.00000000e+01,\n",
       "          2.40000000e+01,   1.60000000e+01,   8.00000000e+00,\n",
       "          1.80000000e+01,   1.90000000e+01,   1.40000000e+01,\n",
       "          6.00000000e+00,   1.10000000e+01,   2.00000000e+00,\n",
       "          6.00000000e+00,   6.00000000e+00,   5.00000000e+00,\n",
       "          3.00000000e+00,   3.00000000e+00,   5.00000000e+00,\n",
       "          0.00000000e+00,   4.00000000e+00,   0.00000000e+00,\n",
       "          3.00000000e+00,   0.00000000e+00,   6.00000000e+00,\n",
       "          3.00000000e+00,   2.00000000e+00,   0.00000000e+00,\n",
       "          5.00000000e+00,   1.00000000e+00,   3.00000000e+00,\n",
       "          4.00000000e+00,   1.00000000e+00,   0.00000000e+00,\n",
       "          0.00000000e+00,   1.00000000e+00,   1.00000000e+00,\n",
       "          0.00000000e+00,   1.00000000e+00,   2.00000000e+00,\n",
       "          1.00000000e+00,   0.00000000e+00,   1.00000000e+00,\n",
       "          0.00000000e+00,   2.00000000e+00,   0.00000000e+00,\n",
       "          1.00000000e+00,   1.00000000e+00,   0.00000000e+00,\n",
       "          0.00000000e+00,   0.00000000e+00,   0.00000000e+00,\n",
       "          0.00000000e+00,   0.00000000e+00,   0.00000000e+00,\n",
       "          2.00000000e+00,   0.00000000e+00,   1.00000000e+00,\n",
       "          1.00000000e+00,   0.00000000e+00,   0.00000000e+00,\n",
       "          0.00000000e+00,   0.00000000e+00,   0.00000000e+00,\n",
       "          0.00000000e+00,   0.00000000e+00,   1.00000000e+00,\n",
       "          0.00000000e+00,   0.00000000e+00,   0.00000000e+00,\n",
       "          0.00000000e+00,   0.00000000e+00,   0.00000000e+00,\n",
       "          0.00000000e+00,   0.00000000e+00,   0.00000000e+00,\n",
       "          0.00000000e+00,   0.00000000e+00,   1.00000000e+00,\n",
       "          0.00000000e+00,   0.00000000e+00,   0.00000000e+00,\n",
       "          1.00000000e+00]),\n",
       " array([    0.   ,    21.305,    42.61 ,    63.915,    85.22 ,   106.525,\n",
       "          127.83 ,   149.135,   170.44 ,   191.745,   213.05 ,   234.355,\n",
       "          255.66 ,   276.965,   298.27 ,   319.575,   340.88 ,   362.185,\n",
       "          383.49 ,   404.795,   426.1  ,   447.405,   468.71 ,   490.015,\n",
       "          511.32 ,   532.625,   553.93 ,   575.235,   596.54 ,   617.845,\n",
       "          639.15 ,   660.455,   681.76 ,   703.065,   724.37 ,   745.675,\n",
       "          766.98 ,   788.285,   809.59 ,   830.895,   852.2  ,   873.505,\n",
       "          894.81 ,   916.115,   937.42 ,   958.725,   980.03 ,  1001.335,\n",
       "         1022.64 ,  1043.945,  1065.25 ,  1086.555,  1107.86 ,  1129.165,\n",
       "         1150.47 ,  1171.775,  1193.08 ,  1214.385,  1235.69 ,  1256.995,\n",
       "         1278.3  ,  1299.605,  1320.91 ,  1342.215,  1363.52 ,  1384.825,\n",
       "         1406.13 ,  1427.435,  1448.74 ,  1470.045,  1491.35 ,  1512.655,\n",
       "         1533.96 ,  1555.265,  1576.57 ,  1597.875,  1619.18 ,  1640.485,\n",
       "         1661.79 ,  1683.095,  1704.4  ,  1725.705,  1747.01 ,  1768.315,\n",
       "         1789.62 ,  1810.925,  1832.23 ,  1853.535,  1874.84 ,  1896.145,\n",
       "         1917.45 ,  1938.755,  1960.06 ,  1981.365,  2002.67 ,  2023.975,\n",
       "         2045.28 ,  2066.585,  2087.89 ,  2109.195,  2130.5  ]),\n",
       " <a list of 100 Patch objects>)"
      ]
     },
     "execution_count": 97,
     "metadata": {},
     "output_type": "execute_result"
    },
    {
     "data": {
      "image/png": "[encoded data removed]",
      "text/plain": [
       "<matplotlib.figure.Figure at 0x1185cc610>"
      ]
     },
     "metadata": {},
     "output_type": "display_data"
    }
   ],
   "source": [
    "plt.hist([tup[0] for tup in roc_.merge_data['Merge 2']], bins=100)"
   ]
  },
  {
   "cell_type": "code",
   "execution_count": 80,
   "metadata": {
    "collapsed": false
   },
   "outputs": [
    {
     "data": {
      "text/plain": [
       "array([[  0.00000000e+00,   5.47800000e+03,   8.26640000e+04, ...,\n",
       "          2.37100000e+03,   3.74770000e+04,   2.45300000e+03],\n",
       "       [  8.24900000e+03,   0.00000000e+00,   6.80820000e+04, ...,\n",
       "          2.54300000e+03,   6.20150000e+04,   1.16800000e+03],\n",
       "       [  7.48970000e+04,   6.41630000e+04,   0.00000000e+00, ...,\n",
       "          8.15910000e+04,   3.64740000e+04,   7.17010000e+04],\n",
       "       ..., \n",
       "       [  8.38500000e+03,   6.60100000e+03,   8.32540000e+04, ...,\n",
       "          0.00000000e+00,   4.50170000e+04,   0.00000000e+00],\n",
       "       [  2.71880000e+04,   6.73980000e+04,   5.74610000e+04, ...,\n",
       "          5.26550000e+04,   0.00000000e+00,   4.66040000e+04],\n",
       "       [  9.39600000e+03,   5.83200000e+03,   8.02500000e+04, ...,\n",
       "          2.00000000e+00,   4.43280000e+04,   0.00000000e+00]])"
      ]
     },
     "execution_count": 80,
     "metadata": {},
     "output_type": "execute_result"
    }
   ],
   "source": [
    "roc_.D"
   ]
  },
  {
   "cell_type": "markdown",
   "metadata": {},
   "source": [
    "# Playing with fake data"
   ]
  },
  {
   "cell_type": "code",
   "execution_count": null,
   "metadata": {
    "collapsed": true
   },
   "outputs": [],
   "source": [
    "# generate fake gaussian data\n",
    "N = 100\n",
    "plot_with_annotation = True\n",
    "mu_1 = [-20, 80]\n",
    "cov_1 = [[50, 0], [0, 50]]\n",
    "mu_2 = [50, 50]\n",
    "cov_2 = [[10, 0], [0, 10]]\n",
    "mu_3 = [-10, -10]\n",
    "cov_3 = [[70, 0], [0, 70]]\n",
    "X = np.concatenate([np.random.multivariate_normal(mu_1, cov_1, N),\n",
    "                    np.random.multivariate_normal(mu_2, cov_2, N),\n",
    "                    np.random.multivariate_normal(mu_3, cov_3, N)])\n",
    "fig, ax = plt.subplots()\n",
    "ax.scatter(X[:,0], X[:, 1])\n",
    "if plot_with_annotation:\n",
    "    for idx, pt in enumerate(X):\n",
    "        ax.annotate(idx, X[idx])"
   ]
  },
  {
   "cell_type": "code",
   "execution_count": 69,
   "metadata": {
    "collapsed": false,
    "scrolled": true
   },
   "outputs": [],
   "source": [
    "roc_ = RankOrderClusterer(X, t=14, K=9)"
   ]
  },
  {
   "cell_type": "code",
   "execution_count": 70,
   "metadata": {
    "collapsed": false,
    "scrolled": false
   },
   "outputs": [
    {
     "name": "stdout",
     "output_type": "stream",
     "text": [
      "3\n"
     ]
    },
    {
     "name": "stderr",
     "output_type": "stream",
     "text": [
      "/usr/local/lib/python2.7/site-packages/IPython/kernel/__main__.py:129: VisibleDeprecationWarning: using a non-integer number instead of an integer will result in an error in the future\n"
     ]
    }
   ],
   "source": [
    "roc_.perform_clustering()\n",
    "print len(roc_.C)"
   ]
  },
  {
   "cell_type": "code",
   "execution_count": 67,
   "metadata": {
    "collapsed": false,
    "scrolled": false
   },
   "outputs": [
    {
     "data": {
      "text/plain": [
       "{0: [200,\n",
       "  201,\n",
       "  202,\n",
       "  204,\n",
       "  205,\n",
       "  206,\n",
       "  207,\n",
       "  208,\n",
       "  209,\n",
       "  210,\n",
       "  211,\n",
       "  212,\n",
       "  213,\n",
       "  214,\n",
       "  215,\n",
       "  216,\n",
       "  217,\n",
       "  218,\n",
       "  219,\n",
       "  220,\n",
       "  221,\n",
       "  222,\n",
       "  223,\n",
       "  224,\n",
       "  226,\n",
       "  227,\n",
       "  228,\n",
       "  229,\n",
       "  230,\n",
       "  231,\n",
       "  232,\n",
       "  233,\n",
       "  235,\n",
       "  236,\n",
       "  237,\n",
       "  238,\n",
       "  240,\n",
       "  241,\n",
       "  242,\n",
       "  243,\n",
       "  244,\n",
       "  245,\n",
       "  246,\n",
       "  247,\n",
       "  248,\n",
       "  249,\n",
       "  251,\n",
       "  252,\n",
       "  253,\n",
       "  254,\n",
       "  256,\n",
       "  257,\n",
       "  258,\n",
       "  259,\n",
       "  261,\n",
       "  262,\n",
       "  263,\n",
       "  265,\n",
       "  266,\n",
       "  267,\n",
       "  268,\n",
       "  269,\n",
       "  270,\n",
       "  271,\n",
       "  272,\n",
       "  273,\n",
       "  274,\n",
       "  276,\n",
       "  277,\n",
       "  278,\n",
       "  279,\n",
       "  280,\n",
       "  281,\n",
       "  282,\n",
       "  283,\n",
       "  284,\n",
       "  285,\n",
       "  287,\n",
       "  289,\n",
       "  290,\n",
       "  291,\n",
       "  292,\n",
       "  293,\n",
       "  294,\n",
       "  295,\n",
       "  296,\n",
       "  297,\n",
       "  298,\n",
       "  299,\n",
       "  260,\n",
       "  288,\n",
       "  225,\n",
       "  264,\n",
       "  234,\n",
       "  203,\n",
       "  239,\n",
       "  250,\n",
       "  255,\n",
       "  275,\n",
       "  286],\n",
       " 1: [193,\n",
       "  150,\n",
       "  160,\n",
       "  194,\n",
       "  172,\n",
       "  114,\n",
       "  185,\n",
       "  121,\n",
       "  122,\n",
       "  154,\n",
       "  190,\n",
       "  127,\n",
       "  111,\n",
       "  192,\n",
       "  131,\n",
       "  109,\n",
       "  142,\n",
       "  143,\n",
       "  144,\n",
       "  189,\n",
       "  176,\n",
       "  171,\n",
       "  166,\n",
       "  183,\n",
       "  196,\n",
       "  116,\n",
       "  128,\n",
       "  129,\n",
       "  132,\n",
       "  133,\n",
       "  134,\n",
       "  135,\n",
       "  136,\n",
       "  137,\n",
       "  138,\n",
       "  139,\n",
       "  141,\n",
       "  146,\n",
       "  147,\n",
       "  148,\n",
       "  151,\n",
       "  152,\n",
       "  153,\n",
       "  155,\n",
       "  157,\n",
       "  158,\n",
       "  159,\n",
       "  161,\n",
       "  162,\n",
       "  163,\n",
       "  164,\n",
       "  165,\n",
       "  167,\n",
       "  168,\n",
       "  169,\n",
       "  170,\n",
       "  173,\n",
       "  174,\n",
       "  175,\n",
       "  177,\n",
       "  178,\n",
       "  179,\n",
       "  180,\n",
       "  181,\n",
       "  182,\n",
       "  184,\n",
       "  186,\n",
       "  187,\n",
       "  188,\n",
       "  191,\n",
       "  195,\n",
       "  197,\n",
       "  198,\n",
       "  199,\n",
       "  100,\n",
       "  102,\n",
       "  103,\n",
       "  104,\n",
       "  106,\n",
       "  107,\n",
       "  110,\n",
       "  112,\n",
       "  113,\n",
       "  115,\n",
       "  118,\n",
       "  119,\n",
       "  120,\n",
       "  123,\n",
       "  124,\n",
       "  125,\n",
       "  126,\n",
       "  130,\n",
       "  101,\n",
       "  105,\n",
       "  140,\n",
       "  145,\n",
       "  149,\n",
       "  108,\n",
       "  117,\n",
       "  156],\n",
       " 2: [11,\n",
       "  92,\n",
       "  93,\n",
       "  46,\n",
       "  31,\n",
       "  38,\n",
       "  0,\n",
       "  54,\n",
       "  76,\n",
       "  1,\n",
       "  28,\n",
       "  2,\n",
       "  3,\n",
       "  4,\n",
       "  5,\n",
       "  7,\n",
       "  8,\n",
       "  10,\n",
       "  13,\n",
       "  14,\n",
       "  16,\n",
       "  18,\n",
       "  19,\n",
       "  20,\n",
       "  21,\n",
       "  22,\n",
       "  23,\n",
       "  25,\n",
       "  29,\n",
       "  30,\n",
       "  32,\n",
       "  33,\n",
       "  35,\n",
       "  37,\n",
       "  39,\n",
       "  42,\n",
       "  43,\n",
       "  44,\n",
       "  45,\n",
       "  47,\n",
       "  48,\n",
       "  50,\n",
       "  51,\n",
       "  52,\n",
       "  55,\n",
       "  56,\n",
       "  57,\n",
       "  61,\n",
       "  63,\n",
       "  64,\n",
       "  66,\n",
       "  67,\n",
       "  68,\n",
       "  69,\n",
       "  70,\n",
       "  74,\n",
       "  77,\n",
       "  78,\n",
       "  81,\n",
       "  82,\n",
       "  83,\n",
       "  84,\n",
       "  86,\n",
       "  88,\n",
       "  95,\n",
       "  96,\n",
       "  97,\n",
       "  98,\n",
       "  99,\n",
       "  65,\n",
       "  34,\n",
       "  27,\n",
       "  36,\n",
       "  6,\n",
       "  71,\n",
       "  73,\n",
       "  79,\n",
       "  80,\n",
       "  17,\n",
       "  58,\n",
       "  59,\n",
       "  26,\n",
       "  62,\n",
       "  24,\n",
       "  89,\n",
       "  9,\n",
       "  53,\n",
       "  85,\n",
       "  40,\n",
       "  75,\n",
       "  12,\n",
       "  87,\n",
       "  91,\n",
       "  60,\n",
       "  94,\n",
       "  72,\n",
       "  41,\n",
       "  90,\n",
       "  49,\n",
       "  15]}"
      ]
     },
     "execution_count": 67,
     "metadata": {},
     "output_type": "execute_result"
    }
   ],
   "source": [
    "roc_.C"
   ]
  },
  {
   "cell_type": "markdown",
   "metadata": {},
   "source": [
    "# Testing"
   ]
  },
  {
   "cell_type": "code",
   "execution_count": 27,
   "metadata": {
    "collapsed": true
   },
   "outputs": [],
   "source": [
    "X_test = np.array([[0,0],[0,1],[0,2.1],[0,5],[0,6],[0,7.1]])"
   ]
  },
  {
   "cell_type": "code",
   "execution_count": 28,
   "metadata": {
    "collapsed": false
   },
   "outputs": [],
   "source": [
    "roc_test = RankOrderClusterer(X_test, t=3.0, K=3)"
   ]
  },
  {
   "cell_type": "code",
   "execution_count": 572,
   "metadata": {
    "collapsed": false
   },
   "outputs": [
    {
     "data": {
      "text/plain": [
       "array([[  0.,   0.,   1.,   7.,   8.,  10.],\n",
       "       [  0.,   0.,   2.,   8.,   9.,  11.],\n",
       "       [  1.,   0.,   0.,   9.,  10.,  12.],\n",
       "       [ 12.,  11.,   9.,   0.,   0.,   1.],\n",
       "       [ 11.,  10.,   8.,   0.,   0.,   2.],\n",
       "       [ 10.,   9.,   7.,   1.,   0.,   0.]])"
      ]
     },
     "execution_count": 572,
     "metadata": {},
     "output_type": "execute_result"
    }
   ],
   "source": [
    "roc_test.D"
   ]
  },
  {
   "cell_type": "code",
   "execution_count": 29,
   "metadata": {
    "collapsed": false
   },
   "outputs": [
    {
     "data": {
      "text/plain": [
       "array([[  0.,   0.,   1.,   7.,   8.,  10.],\n",
       "       [  0.,   0.,   2.,   8.,   9.,  11.],\n",
       "       [  1.,   0.,   0.,   9.,  10.,  12.],\n",
       "       [ 12.,  11.,   9.,   0.,   0.,   1.],\n",
       "       [ 11.,  10.,   8.,   0.,   0.,   2.],\n",
       "       [ 10.,   9.,   7.,   1.,   0.,   0.]])"
      ]
     },
     "execution_count": 29,
     "metadata": {},
     "output_type": "execute_result"
    }
   ],
   "source": [
    "roc_test.D"
   ]
  },
  {
   "cell_type": "code",
   "execution_count": 21,
   "metadata": {
    "collapsed": false
   },
   "outputs": [
    {
     "data": {
      "text/plain": [
       "{0: {1.0: 1, 2.0: 2, 3.0: 3, 4.0: 4, 5.0: 5},\n",
       " 1: {0.0: 1, 2.0: 2, 3.0: 3, 4.0: 4, 5.0: 5},\n",
       " 2: {0.0: 2, 1.0: 1, 3.0: 3, 4.0: 4, 5.0: 5},\n",
       " 3: {0.0: 5, 1.0: 4, 2.0: 3, 4.0: 1, 5.0: 2},\n",
       " 4: {0.0: 5, 1.0: 4, 2.0: 3, 3.0: 1, 5.0: 2},\n",
       " 5: {0.0: 5, 1.0: 4, 2.0: 3, 3.0: 2, 4.0: 1}}"
      ]
     },
     "execution_count": 21,
     "metadata": {},
     "output_type": "execute_result"
    }
   ],
   "source": [
    "a = 0\n",
    "b = 1\n",
    "for a_ in roc_test.dO[a]"
   ]
  },
  {
   "cell_type": "code",
   "execution_count": 574,
   "metadata": {
    "collapsed": false
   },
   "outputs": [
    {
     "data": {
      "text/plain": [
       "array([[ 1.,  2.,  3.,  4.,  5.],\n",
       "       [ 0.,  2.,  3.,  4.,  5.],\n",
       "       [ 1.,  0.,  3.,  4.,  5.],\n",
       "       [ 4.,  5.,  2.,  1.,  0.],\n",
       "       [ 3.,  5.,  2.,  1.,  0.],\n",
       "       [ 4.,  3.,  2.,  1.,  0.]])"
      ]
     },
     "execution_count": 574,
     "metadata": {},
     "output_type": "execute_result"
    }
   ],
   "source": [
    "roc_test.O"
   ]
  },
  {
   "cell_type": "code",
   "execution_count": 575,
   "metadata": {
    "collapsed": false
   },
   "outputs": [
    {
     "data": {
      "text/plain": [
       "10.0"
      ]
     },
     "execution_count": 575,
     "metadata": {},
     "output_type": "execute_result"
    }
   ],
   "source": [
    "roc_test.compute_d_Ci_Cj(2,4)"
   ]
  },
  {
   "cell_type": "code",
   "execution_count": 577,
   "metadata": {
    "collapsed": false
   },
   "outputs": [
    {
     "data": {
      "text/plain": [
       "{0: [0, 1, 2], 1: [3, 4, 5]}"
      ]
     },
     "execution_count": 577,
     "metadata": {},
     "output_type": "execute_result"
    }
   ],
   "source": [
    "roc_test.C"
   ]
  },
  {
   "cell_type": "code",
   "execution_count": 353,
   "metadata": {
    "collapsed": false
   },
   "outputs": [
    {
     "data": {
      "image/png": "[encoded data removed]",
      "text/plain": [
       "<matplotlib.figure.Figure at 0x109fa1550>"
      ]
     },
     "metadata": {},
     "output_type": "display_data"
    }
   ],
   "source": [
    "fig, ax = plt.subplots()\n",
    "ax.scatter(X[:,0], X[:, 1])\n",
    "if plot_with_annotation:\n",
    "    for idx, pt in enumerate(X):\n",
    "        ax.annotate(idx, X[idx])\n",
    "\n",
    "for pts in dC:\n",
    "    ax.plot([X[pts[0],0], X[pts[1],0]], [X[pts[0],1], X[pts[1],1]], 'blue')"
   ]
  },
  {
   "cell_type": "code",
   "execution_count": 311,
   "metadata": {
    "collapsed": false
   },
   "outputs": [],
   "source": [
    "cluster_ids = {}\n",
    "for idx, cluster_idx in C.iteritems():\n",
    "    if cluster_idx[0] not in cluster_ids:\n",
    "        cluster_ids[cluster_idx[0]] = []\n",
    "    cluster_ids[cluster_idx[0]].append(idx)"
   ]
  },
  {
   "cell_type": "code",
   "execution_count": 521,
   "metadata": {
    "collapsed": false
   },
   "outputs": [
    {
     "data": {
      "text/plain": [
       "array([[ 0.,  0.],\n",
       "       [ 0.,  0.]])"
      ]
     },
     "execution_count": 521,
     "metadata": {},
     "output_type": "execute_result"
    }
   ],
   "source": [
    "import numpy as np\n",
    "np.empty((2,2))"
   ]
  },
  {
   "cell_type": "code",
   "execution_count": null,
   "metadata": {
    "collapsed": true
   },
   "outputs": [],
   "source": [
    "def perform_clustering_by_rank_order_distance(X, t=8):\n",
    "    # 1. generate order lists\n",
    "    O = generate_order_lists(X)\n",
    "    \n",
    "    # 2. for efficient look-ups, store in dicts\n",
    "    dO = convert_order_lists_to_dicts(O)\n",
    "    \n",
    "    # 3. We need to store absolute rank-order distances between\n",
    "    #    individual points, so store that away\n",
    "    D = compute_absolute_rank_order_matrix(O, dO)\n",
    "    \n",
    "    # 4. Perform the first level of clustering \n",
    "    \n",
    "    \n",
    "    \n",
    "    "
   ]
  },
  {
   "cell_type": "code",
   "execution_count": null,
   "metadata": {
    "collapsed": true
   },
   "outputs": [],
   "source": []
  },
  {
   "cell_type": "code",
   "execution_count": 115,
   "metadata": {
    "collapsed": false
   },
   "outputs": [
    {
     "data": {
      "text/plain": [
       "{0: {1: 3, 2: 4, 3: 2, 4: 1, 5: 6, 6: 9, 7: 5, 8: 7, 9: 8},\n",
       " 1: {0: 4, 2: 3, 3: 1, 4: 2, 5: 6, 6: 8, 7: 5, 8: 7, 9: 9},\n",
       " 2: {0: 4, 1: 1, 3: 3, 4: 2, 5: 6, 6: 8, 7: 5, 8: 7, 9: 9},\n",
       " 3: {0: 3, 1: 2, 2: 4, 4: 1, 5: 6, 6: 9, 7: 5, 8: 7, 9: 8},\n",
       " 4: {0: 3, 1: 2, 2: 4, 3: 1, 5: 6, 6: 8, 7: 5, 8: 7, 9: 9},\n",
       " 5: {0: 9, 1: 5, 2: 8, 3: 6, 4: 7, 6: 3, 7: 2, 8: 1, 9: 4},\n",
       " 6: {0: 9, 1: 5, 2: 8, 3: 6, 4: 7, 5: 1, 7: 3, 8: 2, 9: 4},\n",
       " 7: {0: 9, 1: 5, 2: 8, 3: 6, 4: 7, 5: 2, 6: 3, 8: 1, 9: 4},\n",
       " 8: {0: 9, 1: 5, 2: 8, 3: 6, 4: 7, 5: 1, 6: 3, 7: 2, 9: 4},\n",
       " 9: {0: 8, 1: 5, 2: 9, 3: 6, 4: 7, 5: 3, 6: 4, 7: 2, 8: 1}}"
      ]
     },
     "execution_count": 115,
     "metadata": {},
     "output_type": "execute_result"
    }
   ],
   "source": [
    "O = generate_order_lists(X)\n",
    "dO = convert_order_lists_to_dicts(O)\n",
    "dO"
   ]
  },
  {
   "cell_type": "code",
   "execution_count": 119,
   "metadata": {
    "collapsed": false
   },
   "outputs": [],
   "source": [
    "D = compute_absolute_rank_order_matrix(O, dO)"
   ]
  },
  {
   "cell_type": "code",
   "execution_count": 120,
   "metadata": {
    "collapsed": false
   },
   "outputs": [
    {
     "data": {
      "text/plain": [
       "array([[  0.,   3.,   6.,   1.,   0.,  28.,  36.,  26.,  29.,  33.],\n",
       "       [  7.,   0.,   5.,   0.,   1.,  32.,  36.,  30.,  33.,  40.],\n",
       "       [  6.,   0.,   0.,   3.,   2.,  29.,  33.,  27.,  30.,  36.],\n",
       "       [  4.,   2.,   7.,   0.,   0.,  31.,  39.,  29.,  32.,  35.],\n",
       "       [  5.,   1.,   8.,   0.,   0.,  30.,  34.,  28.,  31.,  38.],\n",
       "       [ 39.,  29.,  35.,  31.,  32.,   0.,   5.,   1.,   0.,   7.],\n",
       "       [ 36.,  27.,  33.,  28.,  30.,   0.,   0.,   3.,   1.,   6.],\n",
       "       [ 40.,  30.,  36.,  32.,  33.,   1.,   3.,   0.,   0.,   8.],\n",
       "       [ 38.,  28.,  34.,  30.,  31.,   0.,   4.,   2.,   0.,   9.],\n",
       "       [ 33.,  26.,  36.,  29.,  29.,   3.,   6.,   1.,   0.,   0.]])"
      ]
     },
     "execution_count": 120,
     "metadata": {},
     "output_type": "execute_result"
    }
   ],
   "source": [
    "D"
   ]
  },
  {
   "cell_type": "code",
   "execution_count": 85,
   "metadata": {
    "collapsed": false
   },
   "outputs": [],
   "source": [
    "thresh = 8\n",
    "f = {}\n",
    "for k, v in d.iteritems():\n",
    "    if v < thresh:\n",
    "        f[k] = v"
   ]
  },
  {
   "cell_type": "code",
   "execution_count": 86,
   "metadata": {
    "collapsed": false
   },
   "outputs": [
    {
     "data": {
      "text/plain": [
       "{(0, 1): 3.3333333333333335,\n",
       " (0, 2): 3.0,\n",
       " (0, 3): 2.5,\n",
       " (0, 4): 5.0,\n",
       " (1, 2): 5.0,\n",
       " (1, 3): 2.0,\n",
       " (1, 4): 1.0,\n",
       " (2, 3): 3.3333333333333335,\n",
       " (2, 4): 5.0,\n",
       " (3, 4): 0.0,\n",
       " (5, 6): 5.0,\n",
       " (5, 7): 1.0,\n",
       " (5, 8): 0.0,\n",
       " (5, 9): 3.3333333333333335,\n",
       " (6, 7): 2.0,\n",
       " (6, 8): 2.5,\n",
       " (6, 9): 3.0,\n",
       " (7, 8): 2.0,\n",
       " (7, 9): 4.5}"
      ]
     },
     "execution_count": 86,
     "metadata": {},
     "output_type": "execute_result"
    }
   ],
   "source": [
    "f"
   ]
  },
  {
   "cell_type": "markdown",
   "metadata": {
    "collapsed": true
   },
   "source": [
    "# Playground"
   ]
  },
  {
   "cell_type": "code",
   "execution_count": 44,
   "metadata": {
    "collapsed": true
   },
   "outputs": [],
   "source": [
    "from collections import defaultdict\n",
    "\n",
    "def indices_dict(lis):\n",
    "    d = defaultdict(list)\n",
    "    for i,(a,b) in enumerate(lis):\n",
    "        d[a].append(i)\n",
    "        d[b].append(i)\n",
    "    return d\n",
    "\n",
    "def disjoint_indices(lis):\n",
    "    d = indices_dict(lis)\n",
    "    sets = []\n",
    "    while len(d):\n",
    "        que = set(d.popitem()[1])\n",
    "        ind = set()\n",
    "        while len(que):\n",
    "            ind |= que \n",
    "            que = set([y for i in que \n",
    "                         for x in lis[i] \n",
    "                         for y in d.pop(x, [])]) - ind\n",
    "        sets += [ind]\n",
    "    return sets\n",
    "\n",
    "def disjoint_sets(lis):\n",
    "    return [set([x for i in s for x in lis[i]]) for s in disjoint_indices(lis)]"
   ]
  },
  {
   "cell_type": "code",
   "execution_count": 46,
   "metadata": {
    "collapsed": false
   },
   "outputs": [
    {
     "data": {
      "text/plain": [
       "[{1, 2, 3, 6, 7}, {4, 5}]"
      ]
     },
     "execution_count": 46,
     "metadata": {},
     "output_type": "execute_result"
    }
   ],
   "source": [
    "lis = [(1,2),(2,3),(4,5),(6,7),(1,7)]\n",
    "disjoint_sets(lis)"
   ]
  },
  {
   "cell_type": "code",
   "execution_count": null,
   "metadata": {
    "collapsed": true
   },
   "outputs": [],
   "source": []
  }
 ],
 "metadata": {
  "kernelspec": {
   "display_name": "Python 2",
   "language": "python",
   "name": "python2"
  },
  "language_info": {
   "codemirror_mode": {
    "name": "ipython",
    "version": 2
   },
   "file_extension": ".py",
   "mimetype": "text/x-python",
   "name": "python",
   "nbconvert_exporter": "python",
   "pygments_lexer": "ipython2",
   "version": "2.7.12"
  }
 },
 "nbformat": 4,
 "nbformat_minor": 0
}
