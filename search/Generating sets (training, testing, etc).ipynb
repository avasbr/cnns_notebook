{
 "cells": [
  {
   "cell_type": "code",
   "execution_count": 1,
   "metadata": {
    "collapsed": true
   },
   "outputs": [],
   "source": [
    "from cnns.utils import imagenet_utils as imu\n",
    "from cnns.utils import training_utils as tu\n",
    "from cnns.utils import cnn_utils as cu\n",
    "import pandas as pd\n",
    "import pickle as pkl"
   ]
  },
  {
   "cell_type": "code",
   "execution_count": 2,
   "metadata": {
    "collapsed": false
   },
   "outputs": [],
   "source": [
    "%load_ext autoreload\n",
    "%autoreload 2"
   ]
  },
  {
   "cell_type": "code",
   "execution_count": 18,
   "metadata": {
    "collapsed": true
   },
   "outputs": [],
   "source": [
    "cur = tu.start_psycon()"
   ]
  },
  {
   "cell_type": "markdown",
   "metadata": {},
   "source": [
    "Creating true test sets"
   ]
  },
  {
   "cell_type": "code",
   "execution_count": 31,
   "metadata": {
    "collapsed": false
   },
   "outputs": [],
   "source": [
    "def generate_random_imagenet_set(cur, num_samples=10000):\n",
    "    # look into faster ways of doing this\n",
    "    query = 'SELECT iiu.img_url, iiu.internal_category \\\n",
    "             FROM imagenet_image_urls iiu \\\n",
    "             ORDER BY random() \\\n",
    "             LIMIT %i'%num_samples;\n",
    "    records = tu.run_query(cur, query)\n",
    "    df = pd.DataFrame(records, columns=['img_url', 'category'])\n",
    "    return df\n",
    "\n",
    "def generate_\n",
    "\n",
    "\n",
    "def collect_imagenet_test_set(cur):\n",
    "    query = 'with full_and_val_set as (SELECT iiu.* \\\n",
    "    FROM imagenet_image_urls iiu \\\n",
    "    LEFT JOIN imagenet_validation_image_urls ivu ON iiu.img_url = ivu.img_url) \\\n",
    "    SELECT fvs.img_url, fvs.imagenet_category, fvs.internal_category \\\n",
    "    FROM full_and_val_set fvs \\\n",
    "    LEFT JOIN imagenet_training_image_urls itu \\\n",
    "    ON fvs.img_url = itu.img_url \\\n",
    "    WHERE itu.img_url IS NULL';\n",
    "    records = tu.run_query(cur, query)\n",
    "    \n",
    "    df = pd.DataFrame(records, columns=['img_url', 'imagenet_category', 'category'])\n",
    "    return df\n",
    "\n",
    "def collect_everalbum_test_set(cur):\n",
    "    query = \"SELECT * FROM everalbum_image_urls\"\n",
    "    records = tu.run_query(cur, query)\n",
    "    auth_tokens = {}\n",
    "    data = []\n",
    "    for record in records:\n",
    "        user_id, mem_id, user_id, category = record\n",
    "        if user_id not in auth_tokens:\n",
    "            auth_tokens[user_id] = cu.get_auth_token(user_id)\n",
    "        data.append({'img_url':'http://download-dot-maestro-prod.appspot.com/%i?auth_token=%s'\n",
    "                        % (mem_id, auth_tokens[user_id]),\n",
    "                     'category': category})\n",
    "    \n",
    "    df = pd.DataFrame(data)\n",
    "    return df"
   ]
  },
  {
   "cell_type": "code",
   "execution_count": 23,
   "metadata": {
    "collapsed": false
   },
   "outputs": [],
   "source": [
    "imagenet_random_sample_df = generate_random_imagenet_set(cur, num_samples=100000)"
   ]
  },
  {
   "cell_type": "code",
   "execution_count": 25,
   "metadata": {
    "collapsed": false
   },
   "outputs": [],
   "source": [
    "imagenet_random_sample_df.to_csv('/Users/babasarala/Desktop/imagenet_random_sample.csv')"
   ]
  },
  {
   "cell_type": "code",
   "execution_count": 32,
   "metadata": {
    "collapsed": false
   },
   "outputs": [],
   "source": [
    "imagenet_df = collect_imagenet_test_set(cur) # set of images NOT used for training"
   ]
  },
  {
   "cell_type": "code",
   "execution_count": 40,
   "metadata": {
    "collapsed": false
   },
   "outputs": [],
   "source": [
    "eliminated_categories_bool = (imagenet_df['imagenet_category'] != 'red wine') & \\\n",
    "                             (imagenet_df['imagenet_category'] != 'eggnog') & \\\n",
    "                             (imagenet_df['imagenet_category'] != 'espresso')\n",
    "imagenet_df = imagenet_df[eliminated_categories_bool]\n",
    "imagenet_df.to_csv('/Users/babasarala/Desktop/settings_1.6_1.7_test_set.csv', index=False)"
   ]
  },
  {
   "cell_type": "code",
   "execution_count": 8,
   "metadata": {
    "collapsed": false
   },
   "outputs": [
    {
     "data": {
      "text/plain": [
       "other            126235\n",
       "wildlife          72019\n",
       "furry_friends     49638\n",
       "food               6186\n",
       "devices            5363\n",
       "documents          1098\n",
       "screenshots         532\n",
       "dtype: int64"
      ]
     },
     "execution_count": 8,
     "metadata": {},
     "output_type": "execute_result"
    }
   ],
   "source": [
    "imagenet_df['category'].value_counts()"
   ]
  },
  {
   "cell_type": "code",
   "execution_count": 14,
   "metadata": {
    "collapsed": false
   },
   "outputs": [],
   "source": [
    "curr_model = pkl.load(open('/Users/babasarala/repos/cnns/models/2016-08-16 14_26_08_L1_LR.p'))"
   ]
  },
  {
   "cell_type": "code",
   "execution_count": 10,
   "metadata": {
    "collapsed": false
   },
   "outputs": [],
   "source": [
    "custom_model_data = curr_model['complete_data'][['img_url', 'category']]"
   ]
  },
  {
   "cell_type": "code",
   "execution_count": 13,
   "metadata": {
    "collapsed": false
   },
   "outputs": [
    {
     "data": {
      "text/plain": [
       "other          53265\n",
       "food           14338\n",
       "documents       1373\n",
       "whiteboards      168\n",
       "sketches          69\n",
       "dtype: int64"
      ]
     },
     "execution_count": 13,
     "metadata": {},
     "output_type": "execute_result"
    }
   ],
   "source": [
    "custom_model_data['category'].value_counts()"
   ]
  },
  {
   "cell_type": "code",
   "execution_count": 12,
   "metadata": {
    "collapsed": false
   },
   "outputs": [
    {
     "data": {
      "text/plain": [
       "other        10963\n",
       "food          3811\n",
       "documents     1080\n",
       "dtype: int64"
      ]
     },
     "execution_count": 12,
     "metadata": {},
     "output_type": "execute_result"
    }
   ],
   "source": [
    "merged_set = pd.merge(imagenet_df, custom_model_data, on='img_url')\n",
    "merged_set = merged_set.rename(columns={'category_x':'category'})x\n",
    "merged_set['category'].value_counts()"
   ]
  },
  {
   "cell_type": "code",
   "execution_count": 15,
   "metadata": {
    "collapsed": true
   },
   "outputs": [],
   "source": [
    "merged_set.to_csv('/Users/babasarala/Desktop/settings_v1.7_test_set.csv')"
   ]
  }
 ],
 "metadata": {
  "kernelspec": {
   "display_name": "Python 2",
   "language": "python",
   "name": "python2"
  },
  "language_info": {
   "codemirror_mode": {
    "name": "ipython",
    "version": 2
   },
   "file_extension": ".py",
   "mimetype": "text/x-python",
   "name": "python",
   "nbconvert_exporter": "python",
   "pygments_lexer": "ipython2",
   "version": "2.7.12"
  }
 },
 "nbformat": 4,
 "nbformat_minor": 0
}
