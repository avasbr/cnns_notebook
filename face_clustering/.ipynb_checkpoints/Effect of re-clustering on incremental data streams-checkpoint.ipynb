{
 "cells": [
  {
   "cell_type": "markdown",
   "metadata": {
    "collapsed": true
   },
   "source": [
    "The goal of this notebook is to see how h,c,v metrics change with more data"
   ]
  },
  {
   "cell_type": "code",
   "execution_count": 4,
   "metadata": {
    "collapsed": false
   },
   "outputs": [],
   "source": [
    "from cnns.utils import clustering_utils as clu\n",
    "from cnns.utils import cnn_utils as cu\n",
    "from scipy.cluster.hierarchy import linkage\n",
    "from scipy.cluster.hierarchy import fcluster\n",
    "from scipy.spatial.distance import cdist, pdist, squareform\n",
    "from sklearn.metrics.cluster import homogeneity_completeness_v_measure\n",
    "from cnns.core import FaceClusterer as face_clusterer\n",
    "from collections import defaultdict\n",
    "import matplotlib.pyplot as plt\n",
    "import matplotlib\n",
    "import pandas as pd\n",
    "import pickle as pkl\n",
    "import numpy as np\n",
    "import fastcluster as fc"
   ]
  },
  {
   "cell_type": "code",
   "execution_count": null,
   "metadata": {
    "collapsed": false
   },
   "outputs": [],
   "source": [
    "%load_ext autoreload\n",
    "%autoreload 2"
   ]
  },
  {
   "cell_type": "code",
   "execution_count": 6,
   "metadata": {
    "collapsed": false
   },
   "outputs": [],
   "source": [
    "%matplotlib inline\n",
    "plt.style.use('bmh')\n",
    "matplotlib.rcParams['figure.figsize'] = (20.0, 10.0)"
   ]
  },
  {
   "cell_type": "code",
   "execution_count": 9,
   "metadata": {
    "collapsed": false
   },
   "outputs": [],
   "source": [
    "feat_cols = ['f%i' % i for i in range(128)]\n",
    "\n",
    "def get_tagged_data_sorted_by_tstamp(user_id):\n",
    "    base_dirpath = '/Users/babasarala/Desktop/face_clustering_full_data'\n",
    "    url_csv_filepath = '%s/%i/%i_prod_fb_tags_img_urls_1.2_None.csv'%(base_dirpath, user_id, user_id)\n",
    "    orig_csv_filepath = '%s/%i/%i_prod_fb_tags_1.2.csv'%(base_dirpath, user_id, user_id)\n",
    "    cnn_codes_filepath = '/Users/babasarala/Desktop/face_clustering/openface_cnn_codes/%i_cnn_codes.p'%(user_id)\n",
    "    ground_truth_filepath = '/Users/babasarala/Desktop/face_clustering_full_data/%i_clusters.csv'%(user_id)\n",
    "\n",
    "    # load csv file with local image url info and join together to get timestamps\n",
    "    url_df = pd.read_csv(open(url_csv_filepath, 'rb'))\n",
    "    orig_df = pd.read_csv(open(orig_csv_filepath, 'rb'))\n",
    "    url_with_tstamp_df = pd.merge(url_df, orig_df, on=['face_id'])\n",
    "    url_with_tstamp_df = url_with_tstamp_df[['face_id', 'img_url', 'captured_at']]\n",
    "    url_with_tstamp_df.drop_duplicates(inplace=True)\n",
    "\n",
    "    # join with tagged data\n",
    "    tagged_df = pd.read_csv(open(ground_truth_filepath, 'rb'))\n",
    "    gt_df = pd.merge(url_with_tstamp_df, tagged_df, on='face_id')\n",
    "    \n",
    "    img_urls, X = pkl.load(open(cnn_codes_filepath, 'rb'))\n",
    "    img_url_x_df = pd.DataFrame(data=X, columns=feat_cols)\n",
    "    img_url_x_df['img_url'] = img_urls\n",
    "    \n",
    "    full_df = pd.merge(gt_df, img_url_x_df, on='img_url')\n",
    "    sorted_df = full_df.sort('captured_at')\n",
    "    \n",
    "    return sorted_df\n",
    "\n",
    "def update_cluster_tags(C, df, user_tagging_thresh):\n",
    "    # this function takes a cluster, looks at what's already been tagged and \n",
    "    # uses the following policy to assign new labels.\n",
    "    #\n",
    "    # 1. If the new cluster has no tags, but is more than user_tagging_thresh percent\n",
    "    #    homogeneous, decide to tag that majority (leaving the rest unconfirmed)\n",
    "    # \n",
    "    # 2. If the cluster's homogeneity is less than user_tagging_thresh, leave it alone\n",
    "    #    and wait for future clusterings\n",
    "    #\n",
    "    # 3. If the cluster has any pre-filled tags and there isn't a conflict, \n",
    "    #    propagate the label. Assume that the user does NOT check the result of this\n",
    "    \n",
    "    num_confirms = 0\n",
    "    for _, samples in C.iteritems():\n",
    "        \n",
    "        # look at what's already been tagged\n",
    "        curr_user_tags = df.iloc[samples]['inc_tag'].value_counts()\n",
    "        \n",
    "        # if there is no tag at all for this cluster...\n",
    "        if len(curr_user_tags) == 0:\n",
    "            true_user_tags = df.iloc[samples]['tag'].value_counts()\n",
    "            p = 1.*true_user_tags[0]/np.mean(true_user_tags)\n",
    "            # ... simulate tagging under the conditions. if the cluster is not homogenous enough \n",
    "            # (i.e. p < user_tagging_thresh), assume that the user skips it\n",
    "            if p >= user_tagging_thresh:\n",
    "                # otherwise, assume that the dominant tag propagates (the rest are left \"unconfirmed\")\n",
    "                num_confirms += 1\n",
    "                s = df.iloc[samples]['tag'] == true_user_tags.index[0]\n",
    "                majority_idxs = s[s==True].index\n",
    "                df.loc[majority_idxs, 'inc_tag'] = true_user_tags.index[0]\n",
    "            continue\n",
    "        \n",
    "        # dict of k->v: tag-> number of tag in cluster\n",
    "        tag_to_nums = {tag:num_c for tag, num_c in zip(curr_user_tags.index.tolist(), curr_user_tags.tolist())}\n",
    "        if len(tag_to_nums) > 1: # points to inconsistency\n",
    "            continue\n",
    "        else:\n",
    "            # propagate the label\n",
    "            df.loc[df.iloc[samples].index, 'inc_tag'] = curr_user_tags.index[0]\n",
    "            \n",
    "    return num_confirms"
   ]
  },
  {
   "cell_type": "code",
   "execution_count": 64,
   "metadata": {
    "collapsed": false
   },
   "outputs": [],
   "source": [
    "# Different clustering schemes\n",
    "def perform_batch_clustering(user_id, dist_thresh=0.5, user_tagging_thresh=0.75, save_htmls=False, min_size=1):\n",
    "    # How do the results compare if we did the clustering all at once?\n",
    "    df = get_tagged_data_sorted_by_tstamp(user_id)\n",
    "    df['inc_tag'] = None \n",
    "    X = df[feat_cols].values\n",
    "    Z = fc.linkage(X, 'average')\n",
    "    cluster_ids = fcluster(Z, dist_thresh, criterion='distance')\n",
    "    C = defaultdict(list)\n",
    "    for idx, cluster_id in enumerate(cluster_ids):\n",
    "        C[cluster_id].append(idx)\n",
    "    \n",
    "    C = {cluster_id:data_samples for cluster_id, data_samples in C.iteritems() if len(data_samples) > min_size}\n",
    "    \n",
    "    num_confirms = update_cluster_tags(C, df, user_tagging_thresh)\n",
    "\n",
    "    # 3. Write out html files ()\n",
    "    #if save_htmls:\n",
    "    #    cluster_map = {img_url:cluster_id for img_url, cluster_id in \\\n",
    "    #                   zip(df['img_url'].values, df['inc_tag'].values)}\n",
    "    #    clu.visualize_clusters(cluster_map, curr_html_filepath)\n",
    "\n",
    "    return df, num_confirms\n",
    "\n",
    "def perform_incremental_clustering(user_id, dist_thresh=0.5, batch_size=50, user_thresh=0.75, \n",
    "                                   save_htmls=False, min_size=1):\n",
    "    df = get_tagged_data_sorted_by_tstamp(user_id)\n",
    "    df['inc_tag'] = None # incremental tags - start everything off as \"None\"\n",
    "    user_tagging_thresh = 0.75 # simulate a user threshold for tagging vs skipping\n",
    "    N = len(df)\n",
    "    num_confirms_per_session = []\n",
    "\n",
    "    idxs = range(0, N, batch_size) + [N]\n",
    "    for n in idxs[1:]:\n",
    "        curr_html_filepath = '/Users/babasarala/Desktop/face_clustering/incremental/%i_%i_%.2f_%i.html'% \\\n",
    "        (user_id, n, dist_thresh, min_size)\n",
    "        X = df.iloc[:n][feat_cols].values\n",
    "\n",
    "        # 1. Cluster the fvs\n",
    "        Z = fc.linkage(X, 'average')\n",
    "        cluster_ids = fcluster(Z, dist_thresh, criterion='distance')\n",
    "\n",
    "        C = defaultdict(list)\n",
    "        for idx, cluster_id in enumerate(cluster_ids):\n",
    "            C[cluster_id].append(idx)\n",
    "        \n",
    "        # 2. Eliminate clusters that are < min_size - this should reduce the number of \"confirmations\"\n",
    "        #    that we'll require of the user\n",
    "        C = {cluster_id:data_samples for cluster_id, data_samples in C.iteritems() if len(data_samples) > min_size}\n",
    "\n",
    "        # 2. Update cluster\n",
    "        num_confirms = update_cluster_tags(C, df, user_tagging_thresh)\n",
    "        num_confirms_per_session.append(num_confirms)\n",
    "\n",
    "        # 3. Write out html files ()\n",
    "        if save_htmls:\n",
    "            cluster_map = {img_url:cluster_id for img_url, cluster_id in \\\n",
    "                           zip(df.iloc[:n]['img_url'].values, df.iloc[:n]['inc_tag'].values)}\n",
    "            clu.visualize_clusters(cluster_map, curr_html_filepath)\n",
    "\n",
    "    return df, np.mean(num_confirms_per_session)\n",
    "\n",
    "\n",
    "def print_metrics(df, with_annot=False):\n",
    "    true_labels = df['tag'].values\n",
    "    pred_labels = df['inc_tag'].values\n",
    "    \n",
    "    num_omitted = np.sum([pred_label is None for pred_label in pred_labels])\n",
    "    perc_omitted = 100.*num_omitted/len(df)\n",
    "    acc = 100.*np.mean([true_label == pred_label for true_label, pred_label in zip(true_labels, pred_labels) \\\n",
    "                        if pred_label is not None])\n",
    "    \n",
    "    if with_annot:\n",
    "        print 'Accuracy: %.2f%%, Percent of faces omitted: %.2f%% (%i/%i), Mean number of confirms required: %i'\\\n",
    "        %(acc, perc_omitted, num_omitted, len(df), mean_num_confirms)\n",
    "    else:\n",
    "        print acc, perc_omitted, mean_num_confirms\n",
    "    "
   ]
  },
  {
   "cell_type": "markdown",
   "metadata": {},
   "source": [
    "# Single account test"
   ]
  },
  {
   "cell_type": "code",
   "execution_count": 65,
   "metadata": {
    "collapsed": false
   },
   "outputs": [
    {
     "name": "stdout",
     "output_type": "stream",
     "text": [
      "Accuracy: 100.00%, Percent of faces omitted: 31.33% (303/967), Mean number of confirms required: 206\n"
     ]
    }
   ],
   "source": [
    "user_id = 5626377\n",
    "dist_thresh = 0.5\n",
    "df, mean_num_confirms = perform_batch_clustering(user_id, dist_thresh=dist_thresh, save_htmls=True)\n",
    "print_metrics(df, with_annot=True)"
   ]
  },
  {
   "cell_type": "code",
   "execution_count": 274,
   "metadata": {
    "collapsed": false,
    "scrolled": true
   },
   "outputs": [
    {
     "name": "stdout",
     "output_type": "stream",
     "text": [
      "99.1726990693 0 34.5\n",
      "98.2419855222 0 29.0\n",
      "95.0361944157 9 23.3\n",
      "91.8304033092 19 18.45\n",
      "88.728024819 34 14.2\n",
      "81.7993795243 77 11.35\n",
      "72.5956566701 168 8.45\n",
      "70.423991727 180 6.8\n",
      "58.6349534643 262 5.2\n"
     ]
    }
   ],
   "source": [
    "user_id = 5626377\n",
    "dist_threshs = np.arange(0.4, 0.85, 0.05)\n",
    "for dist_thresh in dist_threshs:\n",
    "    acc, num_omitted, mean_num_confirms = perform_incremental_clustering(user_id, \n",
    "                                                                         dist_thresh=dist_thresh)\n",
    "    print acc, num_omitted, mean_num_confirms"
   ]
  },
  {
   "cell_type": "code",
   "execution_count": 51,
   "metadata": {
    "collapsed": true
   },
   "outputs": [],
   "source": [
    "user_ids = [1946418, 8657185, 5626377, 5, 5692777, 3473194, 3928074, 4619758, 2685009, 1496616, 1341, 8, 34]"
   ]
  },
  {
   "cell_type": "code",
   "execution_count": 53,
   "metadata": {
    "collapsed": false
   },
   "outputs": [
    {
     "data": {
      "text/plain": [
       "14"
      ]
     },
     "execution_count": 53,
     "metadata": {},
     "output_type": "execute_result"
    }
   ],
   "source": [
    "len(user_ids)"
   ]
  },
  {
   "cell_type": "code",
   "execution_count": 52,
   "metadata": {
    "collapsed": false
   },
   "outputs": [
    {
     "name": "stdout",
     "output_type": "stream",
     "text": [
      "96.6183574879 33.2258064516 8.0\n",
      "95.4861111111 33.9449541284 7.55555555556\n",
      "94.1690962099 29.0589451913 8.95\n",
      "99.148029819 31.3094367228 7.92857142857\n",
      "95.0 61.5384615385 5.0\n",
      "100.0 32.8244274809 10.1875\n",
      "98.8458927359 21.4818763326 6.39473684211\n",
      "100.0 63.4146341463 7.0\n",
      "99.1701244813 52.652259332 7.0\n",
      "96.3870967742 14.2224681793 3.91891891892\n",
      "99.231678487 25.165855816 7.5\n",
      "97.8502080444 26.8020304569 8.9\n",
      "100.0 20.6451612903 5.75\n"
     ]
    },
    {
     "ename": "UnicodeDecodeError",
     "evalue": "'ascii' codec can't decode byte 0xc2 in position 6: ordinal not in range(128)",
     "output_type": "error",
     "traceback": [
      "\u001b[0;31m---------------------------------------------------------------------------\u001b[0m",
      "\u001b[0;31mUnicodeDecodeError\u001b[0m                        Traceback (most recent call last)",
      "\u001b[0;32m<ipython-input-52-913b13740e9f>\u001b[0m in \u001b[0;36m<module>\u001b[0;34m()\u001b[0m\n\u001b[1;32m      1\u001b[0m \u001b[0mdist_thresh\u001b[0m \u001b[0;34m=\u001b[0m \u001b[0;36m0.5\u001b[0m\u001b[0;34m\u001b[0m\u001b[0m\n\u001b[1;32m      2\u001b[0m \u001b[0;32mfor\u001b[0m \u001b[0muser_id\u001b[0m \u001b[0;32min\u001b[0m \u001b[0muser_ids\u001b[0m\u001b[0;34m:\u001b[0m\u001b[0;34m\u001b[0m\u001b[0m\n\u001b[0;32m----> 3\u001b[0;31m     \u001b[0mdf\u001b[0m\u001b[0;34m,\u001b[0m \u001b[0mmean_num_confirms\u001b[0m \u001b[0;34m=\u001b[0m \u001b[0mperform_incremental_clustering\u001b[0m\u001b[0;34m(\u001b[0m\u001b[0muser_id\u001b[0m\u001b[0;34m,\u001b[0m \u001b[0mdist_thresh\u001b[0m\u001b[0;34m=\u001b[0m\u001b[0mdist_thresh\u001b[0m\u001b[0;34m,\u001b[0m \u001b[0msave_htmls\u001b[0m\u001b[0;34m=\u001b[0m\u001b[0mTrue\u001b[0m\u001b[0;34m)\u001b[0m\u001b[0;34m\u001b[0m\u001b[0m\n\u001b[0m\u001b[1;32m      4\u001b[0m     \u001b[0mprint_metrics\u001b[0m\u001b[0;34m(\u001b[0m\u001b[0mdf\u001b[0m\u001b[0;34m,\u001b[0m \u001b[0mwith_annot\u001b[0m\u001b[0;34m=\u001b[0m\u001b[0mFalse\u001b[0m\u001b[0;34m)\u001b[0m\u001b[0;34m\u001b[0m\u001b[0m\n",
      "\u001b[0;32m<ipython-input-49-e1930509941d>\u001b[0m in \u001b[0;36mperform_incremental_clustering\u001b[0;34m(user_id, dist_thresh, batch_size, user_thresh, save_htmls, min_size)\u001b[0m\n\u001b[1;32m     35\u001b[0m         \u001b[0;32mif\u001b[0m \u001b[0msave_htmls\u001b[0m\u001b[0;34m:\u001b[0m\u001b[0;34m\u001b[0m\u001b[0m\n\u001b[1;32m     36\u001b[0m             \u001b[0mcluster_map\u001b[0m \u001b[0;34m=\u001b[0m \u001b[0;34m{\u001b[0m\u001b[0mimg_url\u001b[0m\u001b[0;34m:\u001b[0m\u001b[0mcluster_id\u001b[0m \u001b[0;32mfor\u001b[0m \u001b[0mimg_url\u001b[0m\u001b[0;34m,\u001b[0m \u001b[0mcluster_id\u001b[0m \u001b[0;32min\u001b[0m                            \u001b[0mzip\u001b[0m\u001b[0;34m(\u001b[0m\u001b[0mdf\u001b[0m\u001b[0;34m.\u001b[0m\u001b[0miloc\u001b[0m\u001b[0;34m[\u001b[0m\u001b[0;34m:\u001b[0m\u001b[0mn\u001b[0m\u001b[0;34m]\u001b[0m\u001b[0;34m[\u001b[0m\u001b[0;34m'img_url'\u001b[0m\u001b[0;34m]\u001b[0m\u001b[0;34m.\u001b[0m\u001b[0mvalues\u001b[0m\u001b[0;34m,\u001b[0m \u001b[0mdf\u001b[0m\u001b[0;34m.\u001b[0m\u001b[0miloc\u001b[0m\u001b[0;34m[\u001b[0m\u001b[0;34m:\u001b[0m\u001b[0mn\u001b[0m\u001b[0;34m]\u001b[0m\u001b[0;34m[\u001b[0m\u001b[0;34m'inc_tag'\u001b[0m\u001b[0;34m]\u001b[0m\u001b[0;34m.\u001b[0m\u001b[0mvalues\u001b[0m\u001b[0;34m)\u001b[0m\u001b[0;34m}\u001b[0m\u001b[0;34m\u001b[0m\u001b[0m\n\u001b[0;32m---> 37\u001b[0;31m             \u001b[0mclu\u001b[0m\u001b[0;34m.\u001b[0m\u001b[0mvisualize_clusters\u001b[0m\u001b[0;34m(\u001b[0m\u001b[0mcluster_map\u001b[0m\u001b[0;34m,\u001b[0m \u001b[0mcurr_html_filepath\u001b[0m\u001b[0;34m)\u001b[0m\u001b[0;34m\u001b[0m\u001b[0m\n\u001b[0m\u001b[1;32m     38\u001b[0m \u001b[0;34m\u001b[0m\u001b[0m\n\u001b[1;32m     39\u001b[0m     \u001b[0;32mreturn\u001b[0m \u001b[0mdf\u001b[0m\u001b[0;34m,\u001b[0m \u001b[0mnp\u001b[0m\u001b[0;34m.\u001b[0m\u001b[0mmean\u001b[0m\u001b[0;34m(\u001b[0m\u001b[0mnum_confirms_per_session\u001b[0m\u001b[0;34m)\u001b[0m\u001b[0;34m\u001b[0m\u001b[0m\n",
      "\u001b[0;32m/usr/local/lib/python2.7/site-packages/cnns/utils/clustering_utils.pyc\u001b[0m in \u001b[0;36mvisualize_clusters\u001b[0;34m(cluster_map, html_savepath)\u001b[0m\n\u001b[1;32m     55\u001b[0m \u001b[0;34m\u001b[0m\u001b[0m\n\u001b[1;32m     56\u001b[0m     \u001b[0;32mwith\u001b[0m \u001b[0mopen\u001b[0m\u001b[0;34m(\u001b[0m\u001b[0mhtml_savepath\u001b[0m\u001b[0;34m,\u001b[0m \u001b[0;34m'w+'\u001b[0m\u001b[0;34m)\u001b[0m \u001b[0;32mas\u001b[0m \u001b[0mf\u001b[0m\u001b[0;34m:\u001b[0m\u001b[0;34m\u001b[0m\u001b[0m\n\u001b[0;32m---> 57\u001b[0;31m         \u001b[0mf\u001b[0m\u001b[0;34m.\u001b[0m\u001b[0mwrite\u001b[0m\u001b[0;34m(\u001b[0m\u001b[0mdoc\u001b[0m\u001b[0;34m.\u001b[0m\u001b[0mrender\u001b[0m\u001b[0;34m(\u001b[0m\u001b[0;34m)\u001b[0m\u001b[0;34m)\u001b[0m\u001b[0;34m\u001b[0m\u001b[0m\n\u001b[0m\u001b[1;32m     58\u001b[0m \u001b[0;34m\u001b[0m\u001b[0m\n\u001b[1;32m     59\u001b[0m \u001b[0;34m\u001b[0m\u001b[0m\n",
      "\u001b[0;32m/usr/local/lib/python2.7/site-packages/dominate/document.pyc\u001b[0m in \u001b[0;36mrender\u001b[0;34m(self, *args, **kwargs)\u001b[0m\n\u001b[1;32m     67\u001b[0m       \u001b[0mr\u001b[0m\u001b[0;34m.\u001b[0m\u001b[0mappend\u001b[0m\u001b[0;34m(\u001b[0m\u001b[0mself\u001b[0m\u001b[0;34m.\u001b[0m\u001b[0mdoctype\u001b[0m\u001b[0;34m)\u001b[0m\u001b[0;34m\u001b[0m\u001b[0m\n\u001b[1;32m     68\u001b[0m       \u001b[0mr\u001b[0m\u001b[0;34m.\u001b[0m\u001b[0mappend\u001b[0m\u001b[0;34m(\u001b[0m\u001b[0;34m'\\n'\u001b[0m\u001b[0;34m)\u001b[0m\u001b[0;34m\u001b[0m\u001b[0m\n\u001b[0;32m---> 69\u001b[0;31m     \u001b[0mr\u001b[0m\u001b[0;34m.\u001b[0m\u001b[0mappend\u001b[0m\u001b[0;34m(\u001b[0m\u001b[0msuper\u001b[0m\u001b[0;34m(\u001b[0m\u001b[0mdocument\u001b[0m\u001b[0;34m,\u001b[0m \u001b[0mself\u001b[0m\u001b[0;34m)\u001b[0m\u001b[0;34m.\u001b[0m\u001b[0mrender\u001b[0m\u001b[0;34m(\u001b[0m\u001b[0;34m*\u001b[0m\u001b[0margs\u001b[0m\u001b[0;34m,\u001b[0m \u001b[0;34m**\u001b[0m\u001b[0mkwargs\u001b[0m\u001b[0;34m)\u001b[0m\u001b[0;34m)\u001b[0m\u001b[0;34m\u001b[0m\u001b[0m\n\u001b[0m\u001b[1;32m     70\u001b[0m \u001b[0;34m\u001b[0m\u001b[0m\n\u001b[1;32m     71\u001b[0m     \u001b[0;32mreturn\u001b[0m \u001b[0;34mu''\u001b[0m\u001b[0;34m.\u001b[0m\u001b[0mjoin\u001b[0m\u001b[0;34m(\u001b[0m\u001b[0mr\u001b[0m\u001b[0;34m)\u001b[0m\u001b[0;34m\u001b[0m\u001b[0m\n",
      "\u001b[0;32m/usr/local/lib/python2.7/site-packages/dominate/dom_tag.pyc\u001b[0m in \u001b[0;36mrender\u001b[0;34m(self, indent, pretty)\u001b[0m\n\u001b[1;32m    308\u001b[0m \u001b[0;34m\u001b[0m\u001b[0m\n\u001b[1;32m    309\u001b[0m   \u001b[0;32mdef\u001b[0m \u001b[0mrender\u001b[0m\u001b[0;34m(\u001b[0m\u001b[0mself\u001b[0m\u001b[0;34m,\u001b[0m \u001b[0mindent\u001b[0m\u001b[0;34m=\u001b[0m\u001b[0;34m'  '\u001b[0m\u001b[0;34m,\u001b[0m \u001b[0mpretty\u001b[0m\u001b[0;34m=\u001b[0m\u001b[0mTrue\u001b[0m\u001b[0;34m)\u001b[0m\u001b[0;34m:\u001b[0m\u001b[0;34m\u001b[0m\u001b[0m\n\u001b[0;32m--> 310\u001b[0;31m     \u001b[0mdata\u001b[0m \u001b[0;34m=\u001b[0m \u001b[0mself\u001b[0m\u001b[0;34m.\u001b[0m\u001b[0m_render\u001b[0m\u001b[0;34m(\u001b[0m\u001b[0;34m[\u001b[0m\u001b[0;34m]\u001b[0m\u001b[0;34m,\u001b[0m \u001b[0;36m0\u001b[0m\u001b[0;34m,\u001b[0m \u001b[0mindent\u001b[0m\u001b[0;34m,\u001b[0m \u001b[0mpretty\u001b[0m\u001b[0;34m)\u001b[0m\u001b[0;34m\u001b[0m\u001b[0m\n\u001b[0m\u001b[1;32m    311\u001b[0m     \u001b[0;32mreturn\u001b[0m \u001b[0;34mu''\u001b[0m\u001b[0;34m.\u001b[0m\u001b[0mjoin\u001b[0m\u001b[0;34m(\u001b[0m\u001b[0mdata\u001b[0m\u001b[0;34m)\u001b[0m\u001b[0;34m\u001b[0m\u001b[0m\n\u001b[1;32m    312\u001b[0m \u001b[0;34m\u001b[0m\u001b[0m\n",
      "\u001b[0;32m/usr/local/lib/python2.7/site-packages/dominate/dom_tag.pyc\u001b[0m in \u001b[0;36m_render\u001b[0;34m(self, sb, indent_level, indent_str, pretty)\u001b[0m\n\u001b[1;32m    332\u001b[0m \u001b[0;34m\u001b[0m\u001b[0m\n\u001b[1;32m    333\u001b[0m     \u001b[0;32mif\u001b[0m \u001b[0;32mnot\u001b[0m \u001b[0mself\u001b[0m\u001b[0;34m.\u001b[0m\u001b[0mis_single\u001b[0m\u001b[0;34m:\u001b[0m\u001b[0;34m\u001b[0m\u001b[0m\n\u001b[0;32m--> 334\u001b[0;31m       \u001b[0minline\u001b[0m \u001b[0;34m=\u001b[0m \u001b[0mself\u001b[0m\u001b[0;34m.\u001b[0m\u001b[0m_render_children\u001b[0m\u001b[0;34m(\u001b[0m\u001b[0msb\u001b[0m\u001b[0;34m,\u001b[0m \u001b[0mindent_level\u001b[0m \u001b[0;34m+\u001b[0m \u001b[0;36m1\u001b[0m\u001b[0;34m,\u001b[0m \u001b[0mindent_str\u001b[0m\u001b[0;34m,\u001b[0m \u001b[0mpretty\u001b[0m\u001b[0;34m)\u001b[0m\u001b[0;34m\u001b[0m\u001b[0m\n\u001b[0m\u001b[1;32m    335\u001b[0m \u001b[0;34m\u001b[0m\u001b[0m\n\u001b[1;32m    336\u001b[0m       \u001b[0;32mif\u001b[0m \u001b[0mpretty\u001b[0m \u001b[0;32mand\u001b[0m \u001b[0;32mnot\u001b[0m \u001b[0minline\u001b[0m\u001b[0;34m:\u001b[0m\u001b[0;34m\u001b[0m\u001b[0m\n",
      "\u001b[0;32m/usr/local/lib/python2.7/site-packages/dominate/dom_tag.pyc\u001b[0m in \u001b[0;36m_render_children\u001b[0;34m(self, sb, indent_level, indent_str, pretty)\u001b[0m\n\u001b[1;32m    353\u001b[0m           \u001b[0msb\u001b[0m\u001b[0;34m.\u001b[0m\u001b[0mappend\u001b[0m\u001b[0;34m(\u001b[0m\u001b[0;34m'\\n'\u001b[0m\u001b[0;34m)\u001b[0m\u001b[0;34m\u001b[0m\u001b[0m\n\u001b[1;32m    354\u001b[0m           \u001b[0msb\u001b[0m\u001b[0;34m.\u001b[0m\u001b[0mappend\u001b[0m\u001b[0;34m(\u001b[0m\u001b[0mindent_str\u001b[0m \u001b[0;34m*\u001b[0m \u001b[0mindent_level\u001b[0m\u001b[0;34m)\u001b[0m\u001b[0;34m\u001b[0m\u001b[0m\n\u001b[0;32m--> 355\u001b[0;31m         \u001b[0mchild\u001b[0m\u001b[0;34m.\u001b[0m\u001b[0m_render\u001b[0m\u001b[0;34m(\u001b[0m\u001b[0msb\u001b[0m\u001b[0;34m,\u001b[0m \u001b[0mindent_level\u001b[0m\u001b[0;34m,\u001b[0m \u001b[0mindent_str\u001b[0m\u001b[0;34m,\u001b[0m \u001b[0mpretty\u001b[0m\u001b[0;34m)\u001b[0m\u001b[0;34m\u001b[0m\u001b[0m\n\u001b[0m\u001b[1;32m    356\u001b[0m       \u001b[0;32melse\u001b[0m\u001b[0;34m:\u001b[0m\u001b[0;34m\u001b[0m\u001b[0m\n\u001b[1;32m    357\u001b[0m         \u001b[0msb\u001b[0m\u001b[0;34m.\u001b[0m\u001b[0mappend\u001b[0m\u001b[0;34m(\u001b[0m\u001b[0municode\u001b[0m\u001b[0;34m(\u001b[0m\u001b[0mchild\u001b[0m\u001b[0;34m)\u001b[0m\u001b[0;34m)\u001b[0m\u001b[0;34m\u001b[0m\u001b[0m\n",
      "\u001b[0;32m/usr/local/lib/python2.7/site-packages/dominate/dom_tag.pyc\u001b[0m in \u001b[0;36m_render\u001b[0;34m(self, sb, indent_level, indent_str, pretty)\u001b[0m\n\u001b[1;32m    332\u001b[0m \u001b[0;34m\u001b[0m\u001b[0m\n\u001b[1;32m    333\u001b[0m     \u001b[0;32mif\u001b[0m \u001b[0;32mnot\u001b[0m \u001b[0mself\u001b[0m\u001b[0;34m.\u001b[0m\u001b[0mis_single\u001b[0m\u001b[0;34m:\u001b[0m\u001b[0;34m\u001b[0m\u001b[0m\n\u001b[0;32m--> 334\u001b[0;31m       \u001b[0minline\u001b[0m \u001b[0;34m=\u001b[0m \u001b[0mself\u001b[0m\u001b[0;34m.\u001b[0m\u001b[0m_render_children\u001b[0m\u001b[0;34m(\u001b[0m\u001b[0msb\u001b[0m\u001b[0;34m,\u001b[0m \u001b[0mindent_level\u001b[0m \u001b[0;34m+\u001b[0m \u001b[0;36m1\u001b[0m\u001b[0;34m,\u001b[0m \u001b[0mindent_str\u001b[0m\u001b[0;34m,\u001b[0m \u001b[0mpretty\u001b[0m\u001b[0;34m)\u001b[0m\u001b[0;34m\u001b[0m\u001b[0m\n\u001b[0m\u001b[1;32m    335\u001b[0m \u001b[0;34m\u001b[0m\u001b[0m\n\u001b[1;32m    336\u001b[0m       \u001b[0;32mif\u001b[0m \u001b[0mpretty\u001b[0m \u001b[0;32mand\u001b[0m \u001b[0;32mnot\u001b[0m \u001b[0minline\u001b[0m\u001b[0;34m:\u001b[0m\u001b[0;34m\u001b[0m\u001b[0m\n",
      "\u001b[0;32m/usr/local/lib/python2.7/site-packages/dominate/dom_tag.pyc\u001b[0m in \u001b[0;36m_render_children\u001b[0;34m(self, sb, indent_level, indent_str, pretty)\u001b[0m\n\u001b[1;32m    353\u001b[0m           \u001b[0msb\u001b[0m\u001b[0;34m.\u001b[0m\u001b[0mappend\u001b[0m\u001b[0;34m(\u001b[0m\u001b[0;34m'\\n'\u001b[0m\u001b[0;34m)\u001b[0m\u001b[0;34m\u001b[0m\u001b[0m\n\u001b[1;32m    354\u001b[0m           \u001b[0msb\u001b[0m\u001b[0;34m.\u001b[0m\u001b[0mappend\u001b[0m\u001b[0;34m(\u001b[0m\u001b[0mindent_str\u001b[0m \u001b[0;34m*\u001b[0m \u001b[0mindent_level\u001b[0m\u001b[0;34m)\u001b[0m\u001b[0;34m\u001b[0m\u001b[0m\n\u001b[0;32m--> 355\u001b[0;31m         \u001b[0mchild\u001b[0m\u001b[0;34m.\u001b[0m\u001b[0m_render\u001b[0m\u001b[0;34m(\u001b[0m\u001b[0msb\u001b[0m\u001b[0;34m,\u001b[0m \u001b[0mindent_level\u001b[0m\u001b[0;34m,\u001b[0m \u001b[0mindent_str\u001b[0m\u001b[0;34m,\u001b[0m \u001b[0mpretty\u001b[0m\u001b[0;34m)\u001b[0m\u001b[0;34m\u001b[0m\u001b[0m\n\u001b[0m\u001b[1;32m    356\u001b[0m       \u001b[0;32melse\u001b[0m\u001b[0;34m:\u001b[0m\u001b[0;34m\u001b[0m\u001b[0m\n\u001b[1;32m    357\u001b[0m         \u001b[0msb\u001b[0m\u001b[0;34m.\u001b[0m\u001b[0mappend\u001b[0m\u001b[0;34m(\u001b[0m\u001b[0municode\u001b[0m\u001b[0;34m(\u001b[0m\u001b[0mchild\u001b[0m\u001b[0;34m)\u001b[0m\u001b[0;34m)\u001b[0m\u001b[0;34m\u001b[0m\u001b[0m\n",
      "\u001b[0;32m/usr/local/lib/python2.7/site-packages/dominate/dom_tag.pyc\u001b[0m in \u001b[0;36m_render\u001b[0;34m(self, sb, indent_level, indent_str, pretty)\u001b[0m\n\u001b[1;32m    332\u001b[0m \u001b[0;34m\u001b[0m\u001b[0m\n\u001b[1;32m    333\u001b[0m     \u001b[0;32mif\u001b[0m \u001b[0;32mnot\u001b[0m \u001b[0mself\u001b[0m\u001b[0;34m.\u001b[0m\u001b[0mis_single\u001b[0m\u001b[0;34m:\u001b[0m\u001b[0;34m\u001b[0m\u001b[0m\n\u001b[0;32m--> 334\u001b[0;31m       \u001b[0minline\u001b[0m \u001b[0;34m=\u001b[0m \u001b[0mself\u001b[0m\u001b[0;34m.\u001b[0m\u001b[0m_render_children\u001b[0m\u001b[0;34m(\u001b[0m\u001b[0msb\u001b[0m\u001b[0;34m,\u001b[0m \u001b[0mindent_level\u001b[0m \u001b[0;34m+\u001b[0m \u001b[0;36m1\u001b[0m\u001b[0;34m,\u001b[0m \u001b[0mindent_str\u001b[0m\u001b[0;34m,\u001b[0m \u001b[0mpretty\u001b[0m\u001b[0;34m)\u001b[0m\u001b[0;34m\u001b[0m\u001b[0m\n\u001b[0m\u001b[1;32m    335\u001b[0m \u001b[0;34m\u001b[0m\u001b[0m\n\u001b[1;32m    336\u001b[0m       \u001b[0;32mif\u001b[0m \u001b[0mpretty\u001b[0m \u001b[0;32mand\u001b[0m \u001b[0;32mnot\u001b[0m \u001b[0minline\u001b[0m\u001b[0;34m:\u001b[0m\u001b[0;34m\u001b[0m\u001b[0m\n",
      "\u001b[0;32m/usr/local/lib/python2.7/site-packages/dominate/dom_tag.pyc\u001b[0m in \u001b[0;36m_render_children\u001b[0;34m(self, sb, indent_level, indent_str, pretty)\u001b[0m\n\u001b[1;32m    353\u001b[0m           \u001b[0msb\u001b[0m\u001b[0;34m.\u001b[0m\u001b[0mappend\u001b[0m\u001b[0;34m(\u001b[0m\u001b[0;34m'\\n'\u001b[0m\u001b[0;34m)\u001b[0m\u001b[0;34m\u001b[0m\u001b[0m\n\u001b[1;32m    354\u001b[0m           \u001b[0msb\u001b[0m\u001b[0;34m.\u001b[0m\u001b[0mappend\u001b[0m\u001b[0;34m(\u001b[0m\u001b[0mindent_str\u001b[0m \u001b[0;34m*\u001b[0m \u001b[0mindent_level\u001b[0m\u001b[0;34m)\u001b[0m\u001b[0;34m\u001b[0m\u001b[0m\n\u001b[0;32m--> 355\u001b[0;31m         \u001b[0mchild\u001b[0m\u001b[0;34m.\u001b[0m\u001b[0m_render\u001b[0m\u001b[0;34m(\u001b[0m\u001b[0msb\u001b[0m\u001b[0;34m,\u001b[0m \u001b[0mindent_level\u001b[0m\u001b[0;34m,\u001b[0m \u001b[0mindent_str\u001b[0m\u001b[0;34m,\u001b[0m \u001b[0mpretty\u001b[0m\u001b[0;34m)\u001b[0m\u001b[0;34m\u001b[0m\u001b[0m\n\u001b[0m\u001b[1;32m    356\u001b[0m       \u001b[0;32melse\u001b[0m\u001b[0;34m:\u001b[0m\u001b[0;34m\u001b[0m\u001b[0m\n\u001b[1;32m    357\u001b[0m         \u001b[0msb\u001b[0m\u001b[0;34m.\u001b[0m\u001b[0mappend\u001b[0m\u001b[0;34m(\u001b[0m\u001b[0municode\u001b[0m\u001b[0;34m(\u001b[0m\u001b[0mchild\u001b[0m\u001b[0;34m)\u001b[0m\u001b[0;34m)\u001b[0m\u001b[0;34m\u001b[0m\u001b[0m\n",
      "\u001b[0;32m/usr/local/lib/python2.7/site-packages/dominate/dom_tag.pyc\u001b[0m in \u001b[0;36m_render\u001b[0;34m(self, sb, indent_level, indent_str, pretty)\u001b[0m\n\u001b[1;32m    332\u001b[0m \u001b[0;34m\u001b[0m\u001b[0m\n\u001b[1;32m    333\u001b[0m     \u001b[0;32mif\u001b[0m \u001b[0;32mnot\u001b[0m \u001b[0mself\u001b[0m\u001b[0;34m.\u001b[0m\u001b[0mis_single\u001b[0m\u001b[0;34m:\u001b[0m\u001b[0;34m\u001b[0m\u001b[0m\n\u001b[0;32m--> 334\u001b[0;31m       \u001b[0minline\u001b[0m \u001b[0;34m=\u001b[0m \u001b[0mself\u001b[0m\u001b[0;34m.\u001b[0m\u001b[0m_render_children\u001b[0m\u001b[0;34m(\u001b[0m\u001b[0msb\u001b[0m\u001b[0;34m,\u001b[0m \u001b[0mindent_level\u001b[0m \u001b[0;34m+\u001b[0m \u001b[0;36m1\u001b[0m\u001b[0;34m,\u001b[0m \u001b[0mindent_str\u001b[0m\u001b[0;34m,\u001b[0m \u001b[0mpretty\u001b[0m\u001b[0;34m)\u001b[0m\u001b[0;34m\u001b[0m\u001b[0m\n\u001b[0m\u001b[1;32m    335\u001b[0m \u001b[0;34m\u001b[0m\u001b[0m\n\u001b[1;32m    336\u001b[0m       \u001b[0;32mif\u001b[0m \u001b[0mpretty\u001b[0m \u001b[0;32mand\u001b[0m \u001b[0;32mnot\u001b[0m \u001b[0minline\u001b[0m\u001b[0;34m:\u001b[0m\u001b[0;34m\u001b[0m\u001b[0m\n",
      "\u001b[0;32m/usr/local/lib/python2.7/site-packages/dominate/dom_tag.pyc\u001b[0m in \u001b[0;36m_render_children\u001b[0;34m(self, sb, indent_level, indent_str, pretty)\u001b[0m\n\u001b[1;32m    355\u001b[0m         \u001b[0mchild\u001b[0m\u001b[0;34m.\u001b[0m\u001b[0m_render\u001b[0m\u001b[0;34m(\u001b[0m\u001b[0msb\u001b[0m\u001b[0;34m,\u001b[0m \u001b[0mindent_level\u001b[0m\u001b[0;34m,\u001b[0m \u001b[0mindent_str\u001b[0m\u001b[0;34m,\u001b[0m \u001b[0mpretty\u001b[0m\u001b[0;34m)\u001b[0m\u001b[0;34m\u001b[0m\u001b[0m\n\u001b[1;32m    356\u001b[0m       \u001b[0;32melse\u001b[0m\u001b[0;34m:\u001b[0m\u001b[0;34m\u001b[0m\u001b[0m\n\u001b[0;32m--> 357\u001b[0;31m         \u001b[0msb\u001b[0m\u001b[0;34m.\u001b[0m\u001b[0mappend\u001b[0m\u001b[0;34m(\u001b[0m\u001b[0municode\u001b[0m\u001b[0;34m(\u001b[0m\u001b[0mchild\u001b[0m\u001b[0;34m)\u001b[0m\u001b[0;34m)\u001b[0m\u001b[0;34m\u001b[0m\u001b[0m\n\u001b[0m\u001b[1;32m    358\u001b[0m \u001b[0;34m\u001b[0m\u001b[0m\n\u001b[1;32m    359\u001b[0m     \u001b[0;32mreturn\u001b[0m \u001b[0minline\u001b[0m\u001b[0;34m\u001b[0m\u001b[0m\n",
      "\u001b[0;31mUnicodeDecodeError\u001b[0m: 'ascii' codec can't decode byte 0xc2 in position 6: ordinal not in range(128)"
     ]
    }
   ],
   "source": [
    "dist_thresh = 0.5\n",
    "for user_id in user_ids:\n",
    "    df, mean_num_confirms = perform_incremental_clustering(user_id, dist_thresh=dist_thresh, save_htmls=True)\n",
    "    print_metrics(df, with_annot=False)"
   ]
  },
  {
   "cell_type": "code",
   "execution_count": null,
   "metadata": {
    "collapsed": true
   },
   "outputs": [],
   "source": [
    "user_id = 5626377\n",
    "plt.plot(range(1,len(num_tags_per_session)+1), num_tags_per_session, label='T = %.2f'%(dist_thresh))\n",
    "plt.xlabel('Session'); plt.ylabel('Number of user taggings')\n",
    "plt.title('Number of user taggings per session, Acc = %.2f%%, Num. omissions = %i'%(acc, num_omitted))\n",
    "plt.legend(loc='upper right')\n",
    "plt.show()"
   ]
  }
 ],
 "metadata": {
  "kernelspec": {
   "display_name": "Python 2",
   "language": "python",
   "name": "python2"
  },
  "language_info": {
   "codemirror_mode": {
    "name": "ipython",
    "version": 2
   },
   "file_extension": ".py",
   "mimetype": "text/x-python",
   "name": "python",
   "nbconvert_exporter": "python",
   "pygments_lexer": "ipython2",
   "version": "2.7.12"
  }
 },
 "nbformat": 4,
 "nbformat_minor": 0
}
