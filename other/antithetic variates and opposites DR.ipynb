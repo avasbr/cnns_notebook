{
 "cells": [
  {
   "cell_type": "code",
   "execution_count": 1,
   "metadata": {
    "collapsed": true
   },
   "outputs": [],
   "source": [
    "import numpy as np"
   ]
  },
  {
   "cell_type": "code",
   "execution_count": 89,
   "metadata": {
    "collapsed": false
   },
   "outputs": [],
   "source": [
    "def reduceDimentionality(deepFeatureVector, desiredLength):\n",
    "    # verify the desired reduction rate\n",
    "    if desiredLength>len(deepFeatureVector) or desiredLength<=0:\n",
    "        print 'Desired reduction rate not correct!'\n",
    "        return 0\n",
    "\n",
    "    # go through the features multiple times each time cutting its length in half\n",
    "    while len(deepFeatureVector) > desiredLength:\n",
    "        # get the length of the feature vector\n",
    "        L = len(deepFeatureVector)\n",
    "        # set the opposite index\n",
    "        j = L-1\n",
    "        # initialize the reduced feature vector\n",
    "        Vr = [0 for i in range(L / 2)]\n",
    "        # go through half the feature vector\n",
    "        for i in range(L/2):\n",
    "            # get the average of the current position and its opposite\n",
    "            Vr[i] = ( deepFeatureVector[i] + deepFeatureVector[j] ) /2\n",
    "            # update the oppsoite index\n",
    "            j = j - 1\n",
    "        # Replace the original feature vector with the reduced one\n",
    "        deepFeatureVector = Vr\n",
    "\n",
    "    return Vr\n",
    "\n",
    "def reduce_dim(X,l):\n",
    "    if len(X.shape) == 1: X = X[np.newaxis,:]\n",
    "    assert l > 0 and l < X.shape[1]\n",
    "    while X.shape[1] > l:\n",
    "        d = X.shape[1]\n",
    "        X = (X[:,:d/2] + X[:,d/2:][:,::-1])/2\n",
    "    return X[0] if X.shape[0] == 1 else X\n",
    "        \n"
   ]
  },
  {
   "cell_type": "code",
   "execution_count": 91,
   "metadata": {
    "collapsed": false
   },
   "outputs": [],
   "source": [
    "X = np.random.random((2,4096))\n",
    "X_ = np.empty((2,512))\n",
    "X_[0] = reduceDimentionality(X[0], 512)\n",
    "X_[1] = reduceDimentionality(X[1], 512)\n",
    "#X_ = reduceDimentionality(X, 512)\n",
    "Xx = reduce_dim(X, 512)"
   ]
  },
  {
   "cell_type": "code",
   "execution_count": 93,
   "metadata": {
    "collapsed": false
   },
   "outputs": [
    {
     "name": "stdout",
     "output_type": "stream",
     "text": [
      "[ 0.56821128  0.56987962  0.60219725  0.68331252  0.54709244  0.46427146\n",
      "  0.51421893  0.45200769  0.58736485  0.67554338]\n",
      "[ 0.56821128  0.56987962  0.60219725  0.68331252  0.54709244  0.46427146\n",
      "  0.51421893  0.45200769  0.58736485  0.67554338]\n"
     ]
    }
   ],
   "source": [
    "print X_[1,:10]\n",
    "print Xx[1,:10]"
   ]
  },
  {
   "cell_type": "code",
   "execution_count": 21,
   "metadata": {
    "collapsed": false
   },
   "outputs": [
    {
     "name": "stdout",
     "output_type": "stream",
     "text": [
      "[ 0.79583191  0.87925762  0.73440201 ...,  0.98264248  0.63059188\n",
      "  0.49450714]\n"
     ]
    }
   ],
   "source": [
    "print X"
   ]
  },
  {
   "cell_type": "code",
   "execution_count": 71,
   "metadata": {
    "collapsed": false
   },
   "outputs": [
    {
     "name": "stdout",
     "output_type": "stream",
     "text": [
      "[[10  9  5]]\n"
     ]
    }
   ],
   "source": [
    "y = np.array([1, 2, 4, 5, 9, 10])\n",
    "y = y[np.newaxis,:]\n",
    "d = y.shape[1]\n",
    "print y[:,d/2:][:,::-1]"
   ]
  },
  {
   "cell_type": "code",
   "execution_count": null,
   "metadata": {
    "collapsed": true
   },
   "outputs": [],
   "source": []
  }
 ],
 "metadata": {
  "kernelspec": {
   "display_name": "Python 2",
   "language": "python",
   "name": "python2"
  },
  "language_info": {
   "codemirror_mode": {
    "name": "ipython",
    "version": 2
   },
   "file_extension": ".py",
   "mimetype": "text/x-python",
   "name": "python",
   "nbconvert_exporter": "python",
   "pygments_lexer": "ipython2",
   "version": "2.7.12"
  }
 },
 "nbformat": 4,
 "nbformat_minor": 0
}
