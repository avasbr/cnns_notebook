{
 "cells": [
  {
   "cell_type": "code",
   "execution_count": 1,
   "metadata": {
    "collapsed": true
   },
   "outputs": [],
   "source": [
    "from cnns.utils import clustering_utils as clu\n",
    "from cnns.utils import cnn_utils as cu\n",
    "from cnns.core import RankOrderClusterer as roc\n",
    "from sklearn.metrics.cluster import homogeneity_completeness_v_measure\n",
    "import pandas as pd\n",
    "import pickle as pkl\n",
    "import numpy as np"
   ]
  },
  {
   "cell_type": "code",
   "execution_count": null,
   "metadata": {
    "collapsed": true
   },
   "outputs": [],
   "source": [
    "user_id = 1946418\n",
    "openface_dir = '/Users/babasarala/Desktop/face_clustering/openface_cnn_codes'\n",
    "cnn_codes_filepath = '%s/%i_cnn_codes.p'%(openface_dir, user_id)\n",
    "openface_results_dir = '/Users/babasarala/Desktop/'\n",
    "img_urls, X = pkl.load(open(cnn_codes_filepath, 'rb'))"
   ]
  }
 ],
 "metadata": {
  "kernelspec": {
   "display_name": "Python 2",
   "language": "python",
   "name": "python2"
  },
  "language_info": {
   "codemirror_mode": {
    "name": "ipython",
    "version": 2
   },
   "file_extension": ".py",
   "mimetype": "text/x-python",
   "name": "python",
   "nbconvert_exporter": "python",
   "pygments_lexer": "ipython2",
   "version": "2.7.12"
  }
 },
 "nbformat": 4,
 "nbformat_minor": 0
}
