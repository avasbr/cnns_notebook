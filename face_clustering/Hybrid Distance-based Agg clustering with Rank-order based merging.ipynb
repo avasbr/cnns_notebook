{
 "cells": [
  {
   "cell_type": "code",
   "execution_count": 76,
   "metadata": {
    "collapsed": false
   },
   "outputs": [],
   "source": [
    "from cnns.utils import clustering_utils as clu\n",
    "from cnns.utils import cnn_utils as cu\n",
    "from cnns.core import RankOrderClusterer as roc\n",
    "from cnns.core import AgglomerativeClusterer as agg\n",
    "from sklearn.metrics.cluster import homogeneity_completeness_v_measure\n",
    "from collections import defaultdict\n",
    "import pandas as pd\n",
    "import pickle as pkl\n",
    "import numpy as np"
   ]
  },
  {
   "cell_type": "code",
   "execution_count": 77,
   "metadata": {
    "collapsed": false
   },
   "outputs": [
    {
     "name": "stdout",
     "output_type": "stream",
     "text": [
      "The autoreload extension is already loaded. To reload it, use:\n",
      "  %reload_ext autoreload\n"
     ]
    }
   ],
   "source": [
    "%load_ext autoreload\n",
    "%autoreload 2"
   ]
  },
  {
   "cell_type": "code",
   "execution_count": 78,
   "metadata": {
    "collapsed": true
   },
   "outputs": [],
   "source": [
    "user_id = 1946418\n",
    "openface_dir = '/Users/babasarala/Desktop/face_clustering/openface_cnn_codes'\n",
    "cnn_codes_filepath = '%s/%i_cnn_codes.p'%(openface_dir, user_id)\n",
    "openface_results_dir = '/Users/babasarala/Desktop/OpenFace+Agg+RankOrder_testing'\n",
    "agg_settings_filepath = '/Users/babasarala/repos/cnns/config/agg_settings_v1.0.ini'\n",
    "img_urls, X = pkl.load(open(cnn_codes_filepath, 'rb'))"
   ]
  },
  {
   "cell_type": "code",
   "execution_count": 79,
   "metadata": {
    "collapsed": false
   },
   "outputs": [],
   "source": [
    "# first-pass - use Agglomerative clustering to find a reasonable, highly homogenous set of clusters\n",
    "\n",
    "# use agglomerative clustering to start and get an initial set of tight clusters\n",
    "agg_ = agg.AgglomerativeClusterer(dist_thresh = 0.6, method='average')\n",
    "agg_.load_data(img_urls, X)\n",
    "_, cluster_ids = agg_.agg_cluster_features()\n",
    "cluster_df = agg_.convert_to_dataframe(cluster_ids)\n",
    "cluster_map, _, _ = agg_.convert_to_maps(cluster_df)\n",
    "clu.visualize_clusters(cluster_map, '/Users/babasarala/Desktop/%i_clusters.html'%user_id)\n",
    "C = defaultdict(list)\n",
    "for idx, cluster_id in enumerate(cluster_ids):\n",
    "    C[cluster_id].append(idx)"
   ]
  },
  {
   "cell_type": "code",
   "execution_count": 80,
   "metadata": {
    "collapsed": false
   },
   "outputs": [],
   "source": [
    "roc_ = roc.RankOrderClusterer(t=16,K=9, num_merges=2)\n",
    "roc_.load_data(img_urls, X)\n",
    "roc_.load_preexisting_clusters(C) # start this off"
   ]
  },
  {
   "cell_type": "code",
   "execution_count": 81,
   "metadata": {
    "collapsed": false
   },
   "outputs": [
    {
     "data": {
      "text/plain": [
       "86"
      ]
     },
     "execution_count": 81,
     "metadata": {},
     "output_type": "execute_result"
    }
   ],
   "source": [
    "cluster_df = roc_.run()\n",
    "cluster_map, _, _ = roc_.convert_to_maps(cluster_df)\n",
    "clu.visualize_clusters(cluster_map, '/Users/babasarala/Desktop/%i_hybrid_clusters.html'%user_id)\n",
    "len(roc_.C)"
   ]
  },
  {
   "cell_type": "code",
   "execution_count": null,
   "metadata": {
    "collapsed": true
   },
   "outputs": [],
   "source": []
  }
 ],
 "metadata": {
  "kernelspec": {
   "display_name": "Python 2",
   "language": "python",
   "name": "python2"
  },
  "language_info": {
   "codemirror_mode": {
    "name": "ipython",
    "version": 2
   },
   "file_extension": ".py",
   "mimetype": "text/x-python",
   "name": "python",
   "nbconvert_exporter": "python",
   "pygments_lexer": "ipython2",
   "version": "2.7.12"
  }
 },
 "nbformat": 4,
 "nbformat_minor": 0
}
