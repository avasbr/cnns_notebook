{
 "cells": [
  {
   "cell_type": "code",
   "execution_count": 15,
   "metadata": {
    "collapsed": true
   },
   "outputs": [],
   "source": [
    "import matplotlib\n",
    "import cv2\n",
    "import numpy as np\n",
    "from cnns.utils import clustering_utils as clu\n",
    "from cnns.utils import cnn_utils as cu\n",
    "import pickle as pkl"
   ]
  },
  {
   "cell_type": "code",
   "execution_count": 5,
   "metadata": {
    "collapsed": true
   },
   "outputs": [],
   "source": [
    "%load_ext autoreload\n",
    "%autoreload 2"
   ]
  },
  {
   "cell_type": "code",
   "execution_count": 8,
   "metadata": {
    "collapsed": false
   },
   "outputs": [],
   "source": [
    "%matplotlib inline\n",
    "matplotlib.rcParams['figure.figsize'] = (16, 8)\n",
    "np.set_printoptions(precision=5, suppress=True)"
   ]
  },
  {
   "cell_type": "code",
   "execution_count": null,
   "metadata": {
    "collapsed": true
   },
   "outputs": [],
   "source": [
    "def load_face_detector(xml_filepath):\n",
    "    return cv2.CascadeClassifier(xml_filepath)\n",
    "\n",
    "def percent_non_face(face_detector, img_urls):\n",
    "    N = len(img_urls)\n",
    "    n_nonfaces = 0\n",
    "    for img_url in img_urls:\n",
    "        img = cv2.imread(img_url)\n",
    "        gray = cv2.cvtColor(img, cv2.COLOR_BGR2GRAY)\n",
    "        faces = face_detector.detectMultiScale(gray, 1.3, 5)\n",
    "        if len(faces) == 0:\n",
    "            n_nonfaces += 1\n",
    "    return 1.*n_nonfaces / N"
   ]
  },
  {
   "cell_type": "code",
   "execution_count": 17,
   "metadata": {
    "collapsed": false
   },
   "outputs": [
    {
     "name": "stderr",
     "output_type": "stream",
     "text": [
      "/usr/local/lib/python2.7/site-packages/pandas-0.16.2-py2.7-macosx-10.10-x86_64.egg/pandas/core/frame.py:2915: SettingWithCopyWarning: \n",
      "A value is trying to be set on a copy of a slice from a DataFrame\n",
      "\n",
      "See the the caveats in the documentation: http://pandas.pydata.org/pandas-docs/stable/indexing.html#indexing-view-versus-copy\n",
      "  inplace=inplace, kind=kind, na_position=na_position)\n"
     ]
    }
   ],
   "source": [
    "base_dir = '/Users/babasarala/Desktop/face_clustering_results'\n",
    "user_id = 5\n",
    "clustering_settings_filepath = '/Users/babasarala/repos/cnns/config/face_clustering_settings_v1.1.ini'\n",
    "config = cu.parse_settings_file_to_dict(clustering_settings_filepath)\n",
    "pickle_filepath = '%s/%i/%i_100_25_fc6_cnn_codes.p'%(base_dir, user_id, user_id)\n",
    "img_urls, X = pkl.load(open(pickle_filepath, 'rb'))\n",
    "cluster_map, best_clusters_map, cluster_stats_map = clu.run_clustering(img_urls, X, config)"
   ]
  },
  {
   "cell_type": "code",
   "execution_count": 41,
   "metadata": {
    "collapsed": false
   },
   "outputs": [],
   "source": [
    "reverse_clusters_map = {}\n",
    "for img_url, cluster_idx in cluster_map.iteritems():\n",
    "    if cluster_idx not in reverse_clusters_map:\n",
    "        reverse_clusters_map[cluster_idx] = []\n",
    "    reverse_clusters_map[cluster_idx].append(img_url)"
   ]
  },
  {
   "cell_type": "code",
   "execution_count": 40,
   "metadata": {
    "collapsed": true
   },
   "outputs": [],
   "source": [
    "clu.visualize_clusters(cluster_map, '/Users/babasarala/Desktop/test.html')"
   ]
  },
  {
   "cell_type": "code",
   "execution_count": 43,
   "metadata": {
    "collapsed": true
   },
   "outputs": [],
   "source": [
    "face_cascade = cv2.CascadeClassifier('haarcascade_frontalface_default.xml')"
   ]
  },
  {
   "cell_type": "code",
   "execution_count": null,
   "metadata": {
    "collapsed": true
   },
   "outputs": [],
   "source": [
    "clusters"
   ]
  },
  {
   "cell_type": "code",
   "execution_count": 55,
   "metadata": {
    "collapsed": false
   },
   "outputs": [
    {
     "name": "stdout",
     "output_type": "stream",
     "text": [
      "0.774436090226\n",
      "0.105263157895\n",
      "0.0375939849624\n",
      "0.00375939849624\n",
      "0.496240601504\n",
      "0.0263157894737\n",
      "0.0187969924812\n",
      "0.00375939849624\n",
      "0.12030075188\n",
      "0.0300751879699\n",
      "0.00751879699248\n",
      "0.330827067669\n",
      "0.0338345864662\n",
      "0.127819548872\n",
      "0.0187969924812\n",
      "0.0225563909774\n",
      "0.0375939849624\n",
      "0.0526315789474\n",
      "0.00751879699248\n",
      "0.0\n",
      "0.0187969924812\n",
      "0.015037593985\n",
      "0.0225563909774\n",
      "0.0338345864662\n",
      "0.00375939849624\n",
      "0.0225563909774\n",
      "0.00751879699248\n",
      "0.015037593985\n",
      "0.0\n",
      "0.0864661654135\n",
      "0.015037593985\n",
      "0.0\n",
      "0.289473684211\n",
      "0.0263157894737\n",
      "0.0\n",
      "0.00375939849624\n",
      "0.124060150376\n",
      "0.0413533834586\n",
      "0.191729323308\n",
      "0.0112781954887\n",
      "0.0526315789474\n",
      "0.00375939849624\n",
      "0.00751879699248\n",
      "0.00375939849624\n",
      "0.0112781954887\n",
      "0.00751879699248\n",
      "0.0112781954887\n",
      "0.00751879699248\n",
      "0.0563909774436\n",
      "0.00375939849624\n",
      "0.0\n",
      "0.0225563909774\n",
      "0.0\n",
      "0.0263157894737\n",
      "0.00375939849624\n",
      "0.0\n",
      "0.0263157894737\n",
      "0.0187969924812\n",
      "0.0112781954887\n",
      "0.221804511278\n",
      "0.0\n",
      "0.0\n",
      "0.00375939849624\n",
      "0.015037593985\n",
      "0.00751879699248\n",
      "0.00375939849624\n",
      "0.00751879699248\n",
      "0.0\n",
      "0.0\n",
      "0.0639097744361\n",
      "0.0\n",
      "0.0\n",
      "0.0451127819549\n",
      "0.0\n",
      "0.015037593985\n",
      "0.00751879699248\n",
      "0.0\n",
      "0.289473684211\n",
      "0.00375939849624\n",
      "0.00375939849624\n",
      "0.0263157894737\n",
      "0.0\n",
      "0.00751879699248\n",
      "0.00751879699248\n",
      "0.0375939849624\n",
      "0.0112781954887\n",
      "0.00751879699248\n",
      "0.015037593985\n",
      "0.00375939849624\n",
      "0.00375939849624\n",
      "0.00375939849624\n",
      "0.015037593985\n",
      "0.0187969924812\n",
      "0.00375939849624\n",
      "0.00751879699248\n",
      "0.0112781954887\n",
      "0.0\n",
      "0.00751879699248\n",
      "0.00751879699248\n",
      "0.0\n",
      "0.00375939849624\n",
      "0.00375939849624\n",
      "0.0187969924812\n",
      "0.0\n",
      "0.0413533834586\n",
      "0.0112781954887\n",
      "0.0112781954887\n",
      "0.015037593985\n",
      "0.00375939849624\n",
      "0.0300751879699\n",
      "0.00375939849624\n",
      "0.00751879699248\n",
      "0.00375939849624\n",
      "0.00375939849624\n",
      "0.00751879699248\n",
      "0.0112781954887\n",
      "0.0\n",
      "0.0\n",
      "0.0112781954887\n",
      "0.00375939849624\n",
      "0.00375939849624\n",
      "0.0112781954887\n",
      "0.0\n",
      "0.0\n",
      "0.00751879699248\n",
      "0.0\n",
      "0.0\n",
      "0.0\n",
      "0.0\n",
      "0.00375939849624\n",
      "0.0\n",
      "0.0\n",
      "0.00375939849624\n",
      "0.0\n",
      "0.0\n",
      "0.0\n",
      "0.0\n",
      "0.0\n",
      "0.00375939849624\n",
      "0.0187969924812\n",
      "0.0\n",
      "0.0\n",
      "0.00375939849624\n",
      "0.00375939849624\n",
      "0.015037593985\n",
      "0.0187969924812\n",
      "0.0112781954887\n",
      "0.0\n",
      "0.0112781954887\n",
      "0.0\n",
      "0.00375939849624\n",
      "0.00375939849624\n",
      "0.015037593985\n",
      "0.0187969924812\n",
      "0.00375939849624\n",
      "0.00375939849624\n",
      "0.00751879699248\n",
      "0.00375939849624\n",
      "0.00375939849624\n",
      "0.0\n",
      "0.0\n",
      "0.0\n",
      "0.0\n",
      "0.00375939849624\n",
      "0.00375939849624\n",
      "0.0\n",
      "0.00375939849624\n",
      "0.0\n",
      "0.00375939849624\n",
      "0.00375939849624\n",
      "0.0\n",
      "0.0112781954887\n",
      "0.00375939849624\n",
      "0.015037593985\n",
      "0.0\n",
      "0.0\n",
      "0.0112781954887\n",
      "0.0\n",
      "0.00375939849624\n",
      "0.0\n",
      "0.0112781954887\n",
      "0.0\n",
      "0.00375939849624\n",
      "0.00751879699248\n",
      "0.00375939849624\n",
      "0.0\n",
      "0.0\n",
      "0.0\n",
      "0.0\n",
      "0.0\n",
      "0.0\n",
      "0.00375939849624\n",
      "0.0\n",
      "0.00375939849624\n",
      "0.0\n",
      "0.0\n",
      "0.00375939849624\n",
      "0.00751879699248\n",
      "0.0\n",
      "0.0\n",
      "0.00375939849624\n",
      "0.0\n",
      "0.0\n",
      "0.00375939849624\n",
      "0.0\n",
      "0.0\n",
      "0.0\n",
      "0.00375939849624\n",
      "0.0\n",
      "0.0\n",
      "0.00375939849624\n",
      "0.0\n",
      "0.00375939849624\n",
      "0.0\n",
      "0.0\n",
      "0.0\n",
      "0.0\n",
      "0.0\n",
      "0.00375939849624\n",
      "0.00751879699248\n",
      "0.0\n",
      "0.0\n",
      "0.00375939849624\n",
      "0.0\n",
      "0.0\n",
      "0.0\n",
      "0.0\n",
      "0.00375939849624\n",
      "0.00375939849624\n",
      "0.0\n",
      "0.0\n",
      "0.0\n",
      "0.00375939849624\n",
      "0.0\n",
      "0.0\n",
      "0.00751879699248\n",
      "0.0\n",
      "0.00375939849624\n",
      "0.0\n",
      "0.00375939849624\n",
      "0.00751879699248\n",
      "0.00375939849624\n",
      "0.0\n",
      "0.00375939849624\n",
      "0.00375939849624\n",
      "0.0\n",
      "0.0\n",
      "0.0\n",
      "0.0\n",
      "0.0\n",
      "0.0\n",
      "0.0\n",
      "0.0\n",
      "0.00375939849624\n",
      "0.00375939849624\n",
      "0.00375939849624\n",
      "0.0\n",
      "0.0\n",
      "0.0\n",
      "0.0\n",
      "0.00375939849624\n",
      "0.0\n",
      "0.0\n",
      "0.0\n",
      "0.0\n",
      "0.0\n"
     ]
    }
   ],
   "source": [
    "face_cascade = cv2.CascadeClassifier(xml_filepath)\n",
    "for cluster_idx in reverse_clusters_map:\n",
    "    "
   ]
  },
  {
   "cell_type": "code",
   "execution_count": 56,
   "metadata": {
    "collapsed": false
   },
   "outputs": [],
   "source": [
    "def percent_non_face(face_cascade, img_urls):\n",
    "    N = len(img_urls)\n",
    "    n_nonfaces = 0\n",
    "    for img_url in img_urls:\n",
    "        img = cv2.imread(img_url)\n",
    "        gray = cv2.cvtColor(img, cv2.COLOR_BGR2GRAY)\n",
    "        faces = face_cascade.detectMultiScale(gray, 1.3, 5)\n",
    "        if len(faces) == 0:\n",
    "            n_nonfaces += 1\n",
    "    return 1.*n_nonfaces / N"
   ]
  },
  {
   "cell_type": "code",
   "execution_count": 38,
   "metadata": {
    "collapsed": false
   },
   "outputs": [
    {
     "data": {
      "text/plain": [
       "array([[ 16,  40, 190, 190]], dtype=int32)"
      ]
     },
     "execution_count": 38,
     "metadata": {},
     "output_type": "execute_result"
    }
   ],
   "source": [
    "faces"
   ]
  },
  {
   "cell_type": "code",
   "execution_count": null,
   "metadata": {
    "collapsed": true
   },
   "outputs": [],
   "source": []
  }
 ],
 "metadata": {
  "kernelspec": {
   "display_name": "Python 2",
   "language": "python",
   "name": "python2"
  },
  "language_info": {
   "codemirror_mode": {
    "name": "ipython",
    "version": 2
   },
   "file_extension": ".py",
   "mimetype": "text/x-python",
   "name": "python",
   "nbconvert_exporter": "python",
   "pygments_lexer": "ipython2",
   "version": "2.7.12"
  }
 },
 "nbformat": 4,
 "nbformat_minor": 0
}
