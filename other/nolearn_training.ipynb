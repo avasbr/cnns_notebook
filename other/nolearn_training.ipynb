{
 "cells": [
  {
   "cell_type": "code",
   "execution_count": 4,
   "metadata": {
    "collapsed": false
   },
   "outputs": [],
   "source": [
    "import os\n",
    "import matplotlib.pyplot as plt\n",
    "%matplotlib inline\n",
    "import numpy as np\n",
    "from lasagne.layers import DenseLayer, InputLayer, DropoutLayer, Conv2DLayer, MaxPool2DLayer, get_all_params\n",
    "from lasagne.nonlinearities import softmax\n",
    "from lasagne.updates import adam\n",
    "from nolearn.lasagne import NeuralNet\n",
    "from nolearn.lasagne import TrainSplit\n",
    "from nolearn.lasagne import objective"
   ]
  },
  {
   "cell_type": "code",
   "execution_count": 5,
   "metadata": {
    "collapsed": true
   },
   "outputs": [],
   "source": [
    "%load_ext autoreload\n",
    "%autoreload 2"
   ]
  },
  {
   "cell_type": "code",
   "execution_count": 6,
   "metadata": {
    "collapsed": true
   },
   "outputs": [],
   "source": [
    "%matplotlib inline"
   ]
  },
  {
   "cell_type": "code",
   "execution_count": 7,
   "metadata": {
    "collapsed": true
   },
   "outputs": [],
   "source": [
    "home_dir = '/Users/babasarala/Desktop'"
   ]
  },
  {
   "cell_type": "code",
   "execution_count": 8,
   "metadata": {
    "collapsed": true
   },
   "outputs": [],
   "source": [
    "def load_mnist(path):\n",
    "    X = []\n",
    "    y = []\n",
    "    with open(path, 'rb') as f:\n",
    "        next(f) # skip header\n",
    "        for line in f:\n",
    "            yi, xi = line.split(',', 1)\n",
    "            y.append(yi)\n",
    "            X.append(xi.split(','))\n",
    "        \n",
    "        # Theano works with fp32 precision\n",
    "        X = np.array(X).astype(np.float32)\n",
    "        y = np.array(y).astype(np.int32)\n",
    "        \n",
    "        # apply some very simple normalization to the data\n",
    "        X -= X.mean()\n",
    "        X /= X.std()\n",
    "        \n",
    "        # For convolutional layers, the default shape of data is bc01,\n",
    "        # i.e. batch size x color channels x image dimension 1 x image dimension 2.\n",
    "        # Therefore, we reshape the X data to -1, 1, 28, 28.\n",
    "        X = X.reshape(\n",
    "            -1,  # number of samples, -1 makes it so that this number is determined automatically\n",
    "            1,   # 1 color channel, since images are only black and white\n",
    "            28,  # first image dimension (vertical)\n",
    "            28,  # second image dimension (horizontal)\n",
    "        )\n",
    "\n",
    "    return X, y"
   ]
  },
  {
   "cell_type": "code",
   "execution_count": 9,
   "metadata": {
    "collapsed": true
   },
   "outputs": [],
   "source": [
    "path = os.path.join(os.path.expanduser('~'), '%s/lasagne_nns/data/train.csv'%home_dir)"
   ]
  },
  {
   "cell_type": "code",
   "execution_count": 10,
   "metadata": {
    "collapsed": false
   },
   "outputs": [],
   "source": [
    "X, y = load_mnist(path)"
   ]
  },
  {
   "cell_type": "code",
   "execution_count": 11,
   "metadata": {
    "collapsed": false
   },
   "outputs": [
    {
     "data": {
      "image/png": "[encoded data removed]",
      "text/plain": [
       "<matplotlib.figure.Figure at 0x10cd53d10>"
      ]
     },
     "metadata": {},
     "output_type": "display_data"
    }
   ],
   "source": [
    "figs, axes = plt.subplots(4, 4, figsize=(6, 6))\n",
    "for i in range(4):\n",
    "    for j in range(4):\n",
    "        axes[i, j].imshow(-X[i + 4 * j].reshape(28, 28), cmap='gray', interpolation='none')\n",
    "        axes[i, j].set_xticks([])\n",
    "        axes[i, j].set_yticks([])\n",
    "        axes[i, j].set_title(\"Label: {}\".format(y[i + 4 * j]))\n",
    "        axes[i, j].axis('off')"
   ]
  },
  {
   "cell_type": "code",
   "execution_count": 12,
   "metadata": {
    "collapsed": false
   },
   "outputs": [
    {
     "data": {
      "text/plain": [
       "(42000, 1, 28, 28)"
      ]
     },
     "execution_count": 12,
     "metadata": {},
     "output_type": "execute_result"
    }
   ],
   "source": [
    "X.shape"
   ]
  },
  {
   "cell_type": "code",
   "execution_count": 14,
   "metadata": {
    "collapsed": true
   },
   "outputs": [],
   "source": [
    "layers0 = [\n",
    "    # layer dealing with the input data\n",
    "    (InputLayer, {'shape': (None, X.shape[1], X.shape[2], X.shape[3])}),\n",
    "    \n",
    "    # first stage of our convolutional layers\n",
    "    (Conv2DLayer, {'num_filters': 96, 'filter_size': 5}),\n",
    "    (Conv2DLayer, {'num_filters': 96, 'filter_size': 3}),\n",
    "    (Conv2DLayer, {'num_filters': 96, 'filter_size': 3}),\n",
    "    (Conv2DLayer, {'num_filters': 96, 'filter_size': 3}),\n",
    "    (Conv2DLayer, {'num_filters': 96, 'filter_size': 3}),\n",
    "    (MaxPool2DLayer, {'pool_size': 2}),\n",
    "    \n",
    "    # second stage of our convolutional layers\n",
    "    (Conv2DLayer, {'num_filters': 128, 'filter_size': 3}),\n",
    "    (Conv2DLayer, {'num_filters': 128, 'filter_size': 3}),\n",
    "    (Conv2DLayer, {'num_filters': 128, 'filter_size': 3}),\n",
    "    (MaxPool2DLayer, {'pool_size': 2}),\n",
    "    \n",
    "    # two dense layers with dropout\n",
    "    (DenseLayer, {'num_units': 64}),\n",
    "    (DropoutLayer, {}),\n",
    "    (DenseLayer, {'num_units':64}),\n",
    "    \n",
    "    # output layer\n",
    "    (DenseLayer, {'num_units': 10, 'nonlinearity': softmax})\n",
    "]"
   ]
  },
  {
   "cell_type": "code",
   "execution_count": 15,
   "metadata": {
    "collapsed": true
   },
   "outputs": [],
   "source": [
    "def regularization_objective(layers, lambda1=0., lambda2=0., *args, **kwargs):\n",
    "    # default loss\n",
    "    losses = objective(layers, *args, **kwargs)\n",
    "    \n",
    "    # get the layers' weights, but only those that should be regularized (i.e. not the biases)\n",
    "    weights = get_all_params(layers[-1], regularizable=True)\n",
    "    \n",
    "    # sum of absolute weights for L1\n",
    "    sum_abs_weights = sum([abs(w).sum() for w in weights])\n",
    "    \n",
    "    # sum of squared weights\n",
    "    sum_squared_weights = sum([(w ** 2).sum() for w in weights])\n",
    "    \n",
    "    # add weights to regular loss\n",
    "    losses += lambda1 * sum_abs_weights + lambda2 * sum_squared_weights\n",
    "    \n",
    "    return losses"
   ]
  },
  {
   "cell_type": "code",
   "execution_count": 16,
   "metadata": {
    "collapsed": false
   },
   "outputs": [],
   "source": [
    "net0 = NeuralNet(\n",
    "        layers=layers0,\n",
    "        max_epochs=10,\n",
    "\n",
    "        update=adam,\n",
    "        update_learning_rate=0.0002,\n",
    "\n",
    "        objective=regularization_objective,\n",
    "        objective_lambda2=0.0025,\n",
    "\n",
    "        train_split=TrainSplit(eval_size=0.25),\n",
    "        verbose=1)"
   ]
  },
  {
   "cell_type": "code",
   "execution_count": null,
   "metadata": {
    "collapsed": true
   },
   "outputs": [],
   "source": [
    "net0."
   ]
  },
  {
   "cell_type": "code",
   "execution_count": 27,
   "metadata": {
    "collapsed": false
   },
   "outputs": [
    {
     "name": "stdout",
     "output_type": "stream",
     "text": [
      "# Neural Network with 753610 learnable parameters\n",
      "\n",
      "## Layer information\n",
      "\n",
      "  #  name         size\n",
      "---  -----------  --------\n",
      "  0  input0       1x28x28\n",
      "  1  conv2d1      96x24x24\n",
      "  2  conv2d2      96x22x22\n",
      "  3  conv2d3      96x20x20\n",
      "  4  conv2d4      96x18x18\n",
      "  5  conv2d5      96x16x16\n",
      "  6  maxpool2d6   96x8x8\n",
      "  7  conv2d7      128x6x6\n",
      "  8  conv2d8      128x4x4\n",
      "  9  conv2d9      128x2x2\n",
      " 10  maxpool2d10  128x1x1\n",
      " 11  dense11      64\n",
      " 12  dropout12    64\n",
      " 13  dense13      64\n",
      " 14  dense14      10\n",
      "\n"
     ]
    },
    {
     "data": {
      "text/plain": [
       "NeuralNet(X_tensor_type=None,\n",
       "     batch_iterator_test=<nolearn.lasagne.base.BatchIterator object at 0x10da90e10>,\n",
       "     batch_iterator_train=<nolearn.lasagne.base.BatchIterator object at 0x10da90cd0>,\n",
       "     check_input=True, custom_scores=None,\n",
       "     layers=[(<class 'lasagne.layers.input.InputLayer'>, {'shape': (None, 1, 28, 28)}), (<class 'lasagne.layers.conv.Conv2DLayer'>, {'filter_size': 5, 'num_filters': 96}), (<class 'lasagne.layers.conv.Conv2DLayer'>, {'filter_size': 3, 'num_filters': 96}), (<class 'lasagne.layers.conv.Conv2DLayer'>, {'fil...ne.layers.dense.DenseLayer'>, {'num_units': 10, 'nonlinearity': <function softmax at 0x10d648938>})],\n",
       "     loss=None, max_epochs=10, more_params={},\n",
       "     objective=<function regularization_objective at 0x10eb2a398>,\n",
       "     objective_lambda2=0.0025,\n",
       "     objective_loss_function=<function categorical_crossentropy at 0x10d7e00c8>,\n",
       "     on_batch_finished=[],\n",
       "     on_epoch_finished=[<nolearn.lasagne.handlers.PrintLog instance at 0x10eb0db48>],\n",
       "     on_training_finished=[],\n",
       "     on_training_started=[<nolearn.lasagne.handlers.PrintLayerInfo instance at 0x10eb0dc20>],\n",
       "     regression=False,\n",
       "     train_split=<nolearn.lasagne.base.TrainSplit object at 0x10ea6ecd0>,\n",
       "     update=<function adam at 0x10d7e0c08>, update_learning_rate=0.0002,\n",
       "     use_label_encoder=False, verbose=1,\n",
       "     y_tensor_type=TensorType(int32, vector))"
      ]
     },
     "execution_count": 27,
     "metadata": {},
     "output_type": "execute_result"
    }
   ],
   "source": [
    "net0.fit(X, y)"
   ]
  },
  {
   "cell_type": "code",
   "execution_count": 31,
   "metadata": {
    "collapsed": false
   },
   "outputs": [
    {
     "data": {
      "text/plain": [
       "<lasagne.layers.conv.Conv2DLayer at 0x10eb78b50>"
      ]
     },
     "execution_count": 31,
     "metadata": {},
     "output_type": "execute_result"
    }
   ],
   "source": [
    "net0.get_all_layers()[1]"
   ]
  },
  {
   "cell_type": "code",
   "execution_count": null,
   "metadata": {
    "collapsed": true
   },
   "outputs": [],
   "source": []
  }
 ],
 "metadata": {
  "kernelspec": {
   "display_name": "Python 2",
   "language": "python",
   "name": "python2"
  },
  "language_info": {
   "codemirror_mode": {
    "name": "ipython",
    "version": 2
   },
   "file_extension": ".py",
   "mimetype": "text/x-python",
   "name": "python",
   "nbconvert_exporter": "python",
   "pygments_lexer": "ipython2",
   "version": "2.7.10"
  }
 },
 "nbformat": 4,
 "nbformat_minor": 0
}
