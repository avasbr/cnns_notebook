{
 "cells": [
  {
   "cell_type": "code",
   "execution_count": 12,
   "metadata": {
    "collapsed": false
   },
   "outputs": [],
   "source": [
    "import urllib2\n",
    "from skimage import img_as_float\n",
    "from PIL import Image\n",
    "import StringIO\n",
    "import skimage.io as io\n",
    "import numpy as np\n",
    "from cnns.utils import classify_utils as clu\n",
    "from cnns.utils import cnn_utils as cu"
   ]
  },
  {
   "cell_type": "code",
   "execution_count": 5,
   "metadata": {
    "collapsed": false
   },
   "outputs": [],
   "source": [
    "%load_ext autoreload\n",
    "%autoreload 2"
   ]
  },
  {
   "cell_type": "code",
   "execution_count": 7,
   "metadata": {
    "collapsed": false
   },
   "outputs": [
    {
     "name": "stdout",
     "output_type": "stream",
     "text": [
      "/Users/babasarala/repos/cnns/scripts\n"
     ]
    }
   ],
   "source": [
    "cd ../scripts"
   ]
  },
  {
   "cell_type": "markdown",
   "metadata": {},
   "source": [
    "# Process a single image with the \"classify_script\""
   ]
  },
  {
   "cell_type": "markdown",
   "metadata": {},
   "source": [
    "Sample images (filepaths and URLs)"
   ]
  },
  {
   "cell_type": "code",
   "execution_count": 6,
   "metadata": {
    "collapsed": false
   },
   "outputs": [],
   "source": [
    "test_images_dirpath = '/Users/babasarala/Desktop/evaluation/raw_images/test_images'\n",
    "\n",
    "# a slew of test images to test\n",
    "\n",
    "# Furry friend - dog\n",
    "dog_url = 'https://www.cesarsway.com/sites/newcesarsway/files/styles/large_article_preview/public/\\\n",
    "Common-dog-behaviors-explained.jpg?itok=FSzwbBoi'\n",
    "dog_filepath = '%s/common_dog.jpg'%(test_images_dirpath)\n",
    "\n",
    "# Furry friend - cat\n",
    "cat_url = 'http://25.media.tumblr.com/tumblr_m4963s0AWt1qz5dg8o1_1280.jpg'\n",
    "cat_filepath = '%s/cat_1.jpg'%(test_images_dirpath)\n",
    "\n",
    "# Wildlife - snake\n",
    "snake_url = 'https://upload.wikimedia.org/wikipedia/commons/2/21/Bull_snake.jpg'\n",
    "snake_filepath = '%s/Bull_snake.jpg'%(test_images_dirpath)\n",
    "\n",
    "# Screenshots\n",
    "# screenshot_img_url = ''\n",
    "# screenshot_img_filepath = ''\n",
    "\n",
    "# Devices\n",
    "# device_img_url = ''\n",
    "# device_img_filepath = ''\n",
    "\n",
    "# Food\n",
    "halal_guys_url = 'http://insidescoopsf.sfgate.com/files/2016/04/The-Halal-Guys-for-Caviar-SF.jpg'\n",
    "halal_guys_filepath = '%s/halal_guys.jpg'%test_images_dirpath\n",
    "\n",
    "# PNG image\n",
    "dog_png_filepath = '%s/bow_dog.png'%test_images_dirpath\n",
    "png_url = 'https://download-dot-maestro-staging.appspot.com/1034671?\\\n",
    "auth_token=wqGuritcSCX1V7Bh6XNx&width=256&height=256'\n",
    "\n",
    "# grayscale image\n",
    "grayscale_img_filepath = '%s/gray_happy_dog.jpg'%test_images_dirpath\n",
    "\n",
    "grayscale_img_url =  'http://res.cloudinary.com/demo/image/upload/e_grayscale/happy_dog.jpg'\n",
    "\n",
    "# GIF\n",
    "gif_img_filepath = '%s/random_dog.gif'%test_images_dirpath"
   ]
  },
  {
   "cell_type": "code",
   "execution_count": 13,
   "metadata": {
    "collapsed": false
   },
   "outputs": [],
   "source": [
    "config_dirpath = '/Users/babasarala/repos/cnns/config'\n",
    "settings_filename = 'settings_v1.6.ini'\n",
    "model_dirpath = '/Users/babasarala/repos/cnns/models'\n",
    "main_model, fe_model, custom_model, config = clu.init_model_and_config(config_dirpath, \n",
    "                                                                       settings_filename, \n",
    "                                                                       model_dirpath)"
   ]
  },
  {
   "cell_type": "code",
   "execution_count": 17,
   "metadata": {
    "collapsed": false
   },
   "outputs": [
    {
     "data": {
      "text/plain": [
       "{'/Users/babasarala/Desktop/evaluation/raw_images/test_images/halal_guys.jpg': u'food'}"
      ]
     },
     "execution_count": 17,
     "metadata": {},
     "output_type": "execute_result"
    }
   ],
   "source": [
    "# Testing a local image\n",
    "img_map = {halal_guys_filepath: cu.load_image(halal_guys_filepath, src='local')}\n",
    "clu.classify(img_map=img_map, main_model=main_model, fe_model=fe_model, custom_model=custom_model, config=config)"
   ]
  },
  {
   "cell_type": "markdown",
   "metadata": {},
   "source": [
    "# Misc"
   ]
  },
  {
   "cell_type": "code",
   "execution_count": 135,
   "metadata": {
    "collapsed": false
   },
   "outputs": [],
   "source": [
    "def load_image(img_filepath_or_url=None, src='url'):\n",
    "    try:\n",
    "        if src == 'url':\n",
    "            url_response = urllib2.urlopen(img_filepath_or_url, timeout=10)\n",
    "            img = Image.open(StringIO.StringIO(url_response.read()))\n",
    "        elif src == 'local':\n",
    "            img = Image.open(img_filepath_or_url)\n",
    "        img_format = img.format\n",
    "        if img_format == 'GIF':\n",
    "            new_img = Image.new('RGBA', img.size)\n",
    "            new_img.paste(img)\n",
    "            img = new_img\n",
    "        return cu.check_ndim_and_format(np.asarray(img))\n",
    "    except:\n",
    "        print 'Image did not load'"
   ]
  },
  {
   "cell_type": "code",
   "execution_count": 101,
   "metadata": {
    "collapsed": false
   },
   "outputs": [],
   "source": [
    "img_dog_local = load_image(dog_filepath, src='local')\n",
    "img_dog_url = load_image(dog_url, src='url')\n",
    "png_img_local = load_image(png_url, src='url')"
   ]
  },
  {
   "cell_type": "code",
   "execution_count": 123,
   "metadata": {
    "collapsed": false
   },
   "outputs": [],
   "source": [
    "gray_img_local = load_image(grayscale_img_filepath, src='local')\n",
    "gray_img_url = load_image(grayscale_img_url, src='url')"
   ]
  },
  {
   "cell_type": "code",
   "execution_count": 136,
   "metadata": {
    "collapsed": false
   },
   "outputs": [],
   "source": [
    "gif_local = load_image(gif_img_filepath, src='local')"
   ]
  },
  {
   "cell_type": "code",
   "execution_count": 124,
   "metadata": {
    "collapsed": false
   },
   "outputs": [],
   "source": [
    "np.testing.assert_almost_equal(gray_img_url, gray_img_local)"
   ]
  },
  {
   "cell_type": "code",
   "execution_count": 137,
   "metadata": {
    "collapsed": false
   },
   "outputs": [
    {
     "data": {
      "text/plain": [
       "[('Brabancon griffon', 0.41403514),\n",
       " ('pug, pug-dog', 0.37635177),\n",
       " ('seat belt, seatbelt', 0.075135842),\n",
       " ('Pekinese, Pekingese, Peke', 0.0060620476),\n",
       " ('Chihuahua', 0.0060201348)]"
      ]
     },
     "execution_count": 137,
     "metadata": {},
     "output_type": "execute_result"
    }
   ],
   "source": [
    "main_model.compute_category_probability(gif_local)[:5]"
   ]
  },
  {
   "cell_type": "code",
   "execution_count": 85,
   "metadata": {
    "collapsed": false
   },
   "outputs": [
    {
     "data": {
      "text/plain": [
       "[u'furry_friends']"
      ]
     },
     "execution_count": 85,
     "metadata": {},
     "output_type": "execute_result"
    }
   ],
   "source": [
    "# Testing a local image\n",
    "cs.classify(main_model=main_model, fe_model=fe_model, custom_model=custom_model, config=config,\n",
    "            img_filepath_or_url=dog_filepath, src='local')"
   ]
  },
  {
   "cell_type": "code",
   "execution_count": 113,
   "metadata": {
    "collapsed": true
   },
   "outputs": [],
   "source": [
    "def load_image(img_filepath_or_url=None, src='local', model_lib='caffe'):\n",
    "    try:\n",
    "        import pdb; pdb.set_trace()\n",
    "        # currently, GIF processing only supported for src type \"url\"\n",
    "        if src == 'url':\n",
    "            url_response = urllib2.urlopen(img_filepath_or_url, timeout=10)\n",
    "            assert img_filepath_or_url is not None\n",
    "            if model_lib == 'caffe':\n",
    "                img = Image.open(StringIO.StringIO(url_response.read()))\n",
    "                if img.format == 'GIF':\n",
    "                    # extract first frame from gif and use that for processing\n",
    "                    new_img = Image.new('RGBA', img.size)\n",
    "                    new_img.paste(img)\n",
    "                    img = new_img\n",
    "                return check_ndim_and_format(img_as_float(np.asarray(img)).astype(np.float32))\n",
    "            elif model_lib == 'lasagne':\n",
    "                img = io.imread(img_filepath_or_url)\n",
    "\n",
    "                if (img.ndim == 4) or (img.ndim == 3 and img.shape[2] > 3):\n",
    "                    img = img[1, :, :, ]\n",
    "                elif img.ndim == 2:\n",
    "                    img = img[:, :, np.newaxis]\n",
    "                    return np.repeat(img, 3, axis=2)\n",
    "                return img\n",
    "        elif src == 'local':\n",
    "            if model_lib == 'caffe':\n",
    "                img = img_as_float(\n",
    "                    io.imread(img_filepath_or_url, as_grey=False)).astype(np.float32)\n",
    "                return check_ndim_and_format(img)\n",
    "            # currently, lasagne only supports local images\n",
    "            elif model_lib == 'lasagne':\n",
    "                img = io.imread(img_filepath_or_url)\n",
    "                if img.ndim == 2:\n",
    "                    img = img[:, :, np.newaxis]\n",
    "                    return np.repeat(img, 3, axis=2)\n",
    "                return img\n",
    "    except:\n",
    "        print 'Image failed to load'"
   ]
  },
  {
   "cell_type": "code",
   "execution_count": 15,
   "metadata": {
    "collapsed": false
   },
   "outputs": [
    {
     "data": {
      "text/plain": [
       "array([[[ 0.09411765,  0.22352941,  0.19607843],\n",
       "        [ 0.09411765,  0.22352941,  0.19607843],\n",
       "        [ 0.09411765,  0.22352941,  0.19607843],\n",
       "        ..., \n",
       "        [ 0.19607843,  0.36470589,  0.15294118],\n",
       "        [ 0.20392157,  0.37254903,  0.16078432],\n",
       "        [ 0.20784314,  0.3764706 ,  0.16470589]],\n",
       "\n",
       "       [[ 0.09411765,  0.22352941,  0.19607843],\n",
       "        [ 0.09411765,  0.22352941,  0.19607843],\n",
       "        [ 0.09411765,  0.22352941,  0.19607843],\n",
       "        ..., \n",
       "        [ 0.19215687,  0.36078432,  0.14901961],\n",
       "        [ 0.19607843,  0.36470589,  0.15294118],\n",
       "        [ 0.19607843,  0.37254903,  0.15686275]],\n",
       "\n",
       "       [[ 0.09411765,  0.22352941,  0.19607843],\n",
       "        [ 0.09411765,  0.22352941,  0.19607843],\n",
       "        [ 0.09411765,  0.22352941,  0.19607843],\n",
       "        ..., \n",
       "        [ 0.1882353 ,  0.35686275,  0.14509805],\n",
       "        [ 0.19607843,  0.36470589,  0.14509805],\n",
       "        [ 0.19215687,  0.36862746,  0.14509805]],\n",
       "\n",
       "       ..., \n",
       "       [[ 0.16470589,  0.23529412,  0.07843138],\n",
       "        [ 0.15294118,  0.22352941,  0.06666667],\n",
       "        [ 0.15294118,  0.22352941,  0.06666667],\n",
       "        ..., \n",
       "        [ 0.72549021,  0.69803923,  0.62352943],\n",
       "        [ 0.76078433,  0.73333335,  0.65882355],\n",
       "        [ 0.78039217,  0.75294119,  0.67843139]],\n",
       "\n",
       "       [[ 0.16470589,  0.23529412,  0.07843138],\n",
       "        [ 0.14901961,  0.21960784,  0.0627451 ],\n",
       "        [ 0.15294118,  0.22352941,  0.05882353],\n",
       "        ..., \n",
       "        [ 0.72941178,  0.7019608 ,  0.627451  ],\n",
       "        [ 0.75686276,  0.72941178,  0.65490198],\n",
       "        [ 0.77254903,  0.74509805,  0.67058825]],\n",
       "\n",
       "       [[ 0.16078432,  0.23137255,  0.06666667],\n",
       "        [ 0.14901961,  0.21960784,  0.05490196],\n",
       "        [ 0.15294118,  0.22352941,  0.05882353],\n",
       "        ..., \n",
       "        [ 0.6901961 ,  0.66274512,  0.58823532],\n",
       "        [ 0.69803923,  0.67058825,  0.59607846],\n",
       "        [ 0.7019608 ,  0.67450982,  0.60000002]]], dtype=float32)"
      ]
     },
     "execution_count": 15,
     "metadata": {},
     "output_type": "execute_result"
    }
   ],
   "source": [
    "img"
   ]
  },
  {
   "cell_type": "code",
   "execution_count": 81,
   "metadata": {
    "collapsed": true
   },
   "outputs": [],
   "source": [
    "import urllib2\n",
    "from PIL import Image\n",
    "import skimage\n",
    "from skimage import img_as_float\n",
    "import numpy as np\n",
    "import StringIO\n",
    "\n",
    "def check_ndim_and_format(img):\n",
    "    if img.ndim == 2:\n",
    "        img = img[:, :, np.newaxis]\n",
    "        img = np.tile(img, (1, 1, 3))\n",
    "    elif img.shape[2] == 4:\n",
    "        img = img[:, :, :3]\n",
    "    return img\n",
    "    \n",
    "\n",
    "def load_image(img_filepath_or_url=None, src='local', model_type='caffe'):\n",
    "    try:\n",
    "        # currently, GIF processing only supported for src type \"url\"\n",
    "        if src == \"url\":\n",
    "            assert img_filepath_or_url is not None\n",
    "            url_response = urllib2.urlopen(img_filepath_or_url)\n",
    "            img = Image.open(StringIO.StringIO(url_response.read()))\n",
    "            if img.format == \"GIF\":\n",
    "                # extract first frame from gif and use that for processing\n",
    "                new_img = Image.new(\"RGBA\", img.size)\n",
    "                new_img.paste(img)\n",
    "                img = new_img\n",
    "            return check_ndim_and_format(img_as_float(np.asarray(img)).astype(np.float32))\n",
    "        elif src == \"local\":\n",
    "            if model_type == 'caffe':\n",
    "                img = img_as_float(skimage.io.imread(img_filepath_or_url, as_grey=False)).astype(np.float32)\n",
    "                return check_ndim_and_format(img)\n",
    "            # currently, lasagne only supports local images\n",
    "            elif model_type == 'lasagne':\n",
    "                img = io.imread(img_filepath)\n",
    "                if img.ndim == 2:\n",
    "                    img = img[:, :, np.newaxis]\n",
    "                    return np.repeat(img, 3, axis=2)\n",
    "                return img\n",
    "    except:\n",
    "        print \"Image failed to load\""
   ]
  },
  {
   "cell_type": "code",
   "execution_count": 78,
   "metadata": {
    "collapsed": false
   },
   "outputs": [],
   "source": [
    "img1 = load_image(grayscale_img_filepath, 'local')\n",
    "img2 = load_image(grayscale_img_url, 'url')"
   ]
  },
  {
   "cell_type": "code",
   "execution_count": 56,
   "metadata": {
    "collapsed": false
   },
   "outputs": [
    {
     "name": "stdout",
     "output_type": "stream",
     "text": [
      "{u'animal.n.01:cat.n.01': 0.00033124185106458981, u'electronic_device.n.01': 4.4831154899505066e-07, u'animal.n.01:dog.n.01': 0.66249136596510549, u'animal.n.01:other': 0.0038015159138059876, u'other': 0.33337204465534381, u'computer.n.01:other': 1.8084234229553964e-07, u'computer.n.01:web_site.n.01': 2.2094056362220726e-08, u'electronic_equipment.n.01': 3.1322026114999346e-06}\n"
     ]
    },
    {
     "data": {
      "text/plain": [
       "['other']"
      ]
     },
     "execution_count": 56,
     "metadata": {},
     "output_type": "execute_result"
    }
   ],
   "source": [
    "sample_local_img = '/Users/babasarala/Downloads/wedding_dress_photo.jpg'\n",
    "cs.classify(main_model=main_model, fe_model=fe_model, custom_model=custom_model, mappings=mappings, \n",
    "            img_filepath=sample_local_img, use_url=False)"
   ]
  },
  {
   "cell_type": "code",
   "execution_count": null,
   "metadata": {
    "collapsed": true
   },
   "outputs": [],
   "source": [
    "http://res.cloudinary.com/demo/image/upload/e_grayscale/happy_dog.jpg"
   ]
  }
 ],
 "metadata": {
  "kernelspec": {
   "display_name": "Python 2",
   "language": "python",
   "name": "python2"
  },
  "language_info": {
   "codemirror_mode": {
    "name": "ipython",
    "version": 2
   },
   "file_extension": ".py",
   "mimetype": "text/x-python",
   "name": "python",
   "nbconvert_exporter": "python",
   "pygments_lexer": "ipython2",
   "version": "2.7.12"
  }
 },
 "nbformat": 4,
 "nbformat_minor": 0
}
