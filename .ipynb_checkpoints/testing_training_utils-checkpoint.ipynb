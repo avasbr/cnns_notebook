{
 "cells": [
  {
   "cell_type": "code",
   "execution_count": 17,
   "metadata": {
    "collapsed": true
   },
   "outputs": [],
   "source": [
    "from cnns.utils import cnn_utils as cu\n",
    "from cnns.utils import training_utils as tu\n",
    "from cnns.utils import imagenet_utils as iu\n",
    "import csv"
   ]
  },
  {
   "cell_type": "code",
   "execution_count": 18,
   "metadata": {
    "collapsed": false
   },
   "outputs": [
    {
     "name": "stdout",
     "output_type": "stream",
     "text": [
      "The autoreload extension is already loaded. To reload it, use:\n",
      "  %reload_ext autoreload\n"
     ]
    }
   ],
   "source": [
    "%load_ext autoreload\n",
    "%autoreload 2"
   ]
  },
  {
   "cell_type": "code",
   "execution_count": 8,
   "metadata": {
    "collapsed": false
   },
   "outputs": [],
   "source": [
    "cur = tu.start_psycon()\n",
    "records = tu.get_image_urls_for_category(cur, 'documents')"
   ]
  },
  {
   "cell_type": "code",
   "execution_count": 28,
   "metadata": {
    "collapsed": true
   },
   "outputs": [],
   "source": [
    "def get_img_urls_from_wnid(wnid):\n",
    "    url = 'http://www.image-net.org/api/text/imagenet.synset.geturls?wnid=%s' % (\n",
    "        wnid)\n",
    "    f = urllib.urlopen(url)\n",
    "    contents = f.read().split('\\n')\n",
    "    img_urls = []\n",
    "    for line in contents:\n",
    "        line = line.replace('\\r', '').strip()\n",
    "        if line:\n",
    "            img_urls.append(line)\n",
    "\n",
    "    return img_urls"
   ]
  },
  {
   "cell_type": "markdown",
   "metadata": {},
   "source": [
    "CSV of a single wnid"
   ]
  },
  {
   "cell_type": "code",
   "execution_count": 43,
   "metadata": {
    "collapsed": false
   },
   "outputs": [
    {
     "name": "stdout",
     "output_type": "stream",
     "text": [
      "papillon : n07565259 has less than 1000 instances (758)\n"
     ]
    }
   ],
   "source": [
    "wnid = 'n07565259'\n",
    "imagenet_cat = 'board, table'\n",
    "internal_cat = 'food'\n",
    "csv_filepath = '/Users/babasarala/Desktop/evaluation/image_url_files/imagenets_board.csv'\n",
    "\n",
    "img_urls = get_img_urls_from_wnid(wnid)\n",
    "with open(csv_filepath, 'w') as csvfile:\n",
    "    header = ['img_url', 'wnid', 'category', 'internal_category']\n",
    "    writer = csv.DictWriter(csvfile, fieldnames=header)\n",
    "    writer.writeheader()\n",
    "    try:\n",
    "        img_urls = get_img_urls_from_wnid(wnid)\n",
    "        if len(img_urls) < 1000:\n",
    "            cats_to_investigate.append(category)\n",
    "            print '%s : %s has less than 1000 instances (%i)'%(category, wnid, len(img_urls))\n",
    "        for img_url in img_urls:\n",
    "            if ',' not in img_url:\n",
    "                writer.writerow({'img_url': img_url, \n",
    "                                 'wnid':wnid, \n",
    "                                 'category':imagenet_cat, \n",
    "                                 'internal_category':internal_cat})\n",
    "    except:\n",
    "        print 'Something went wrong when processing category %s : %s'%(category, wnid)"
   ]
  },
  {
   "cell_type": "code",
   "execution_count": 37,
   "metadata": {
    "collapsed": false
   },
   "outputs": [],
   "source": [
    "cats_filepath = '/Users/babasarala/technologies/caffe/data/ilsvrc12/synset_words.txt'\n",
    "collapse_filepath = '/Users/babasarala/repos/cnns/config/image_net_categories_animals_screenshots_devices_2016_05_04.json'\n",
    "csv_imagenet_data_filepath = '/Users/babasarala/Desktop/evaluation/image_url_files/imagenet_ilsvrc_category_image_urls.csv'\n",
    "\n",
    "tfm_fcn = cu.get_tfm_fcn_from_json(collapse_filepath)\n",
    "cat_ids = iu.load_imagenet_cats_ids(cats_filepath)"
   ]
  },
  {
   "cell_type": "code",
   "execution_count": 39,
   "metadata": {
    "collapsed": false
   },
   "outputs": [
    {
     "name": "stdout",
     "output_type": "stream",
     "text": [
      "scuba diver : n010565667 has less than 1000 categories\n",
      "mud turtle : n01667114 has less than 1000 categories\n",
      "thunder snake, worm snake, Carphophis amoenus : n01728572 has less than 1000 categories\n",
      "hair slide : n03476684 has less than 1000 categories\n",
      "Loafer : n03680355 has less than 1000 categories\n",
      "kit fox, Vulpes macrotis : n02119789 has less than 1000 categories\n",
      "black-and-tan coonhound : n02089078 has less than 1000 categories\n",
      "toy terrier : n02087046 has less than 1000 categories\n",
      "eggnog : n07932039 has less than 1000 categories\n",
      "isopod : n01990800 has less than 1000 categories\n",
      "muzzle : n03803284 has less than 1000 categories\n",
      "acorn : n012267677 has less than 1000 categories\n",
      "agaric : n012998815 has less than 1000 categories\n",
      "komondor : n02105505 has less than 1000 categories\n",
      "miniature poodle : n02113712 has less than 1000 categories\n",
      "groom, bridegroom : n010148035 has less than 1000 categories\n",
      "bolo tie, bolo, bola tie, bola : n02865351 has less than 1000 categories\n",
      "patio, terrace : n03899768 has less than 1000 categories\n",
      "wire-haired fox terrier : n02095314 has less than 1000 categories\n",
      "alligator lizard : n01689811 has less than 1000 categories\n",
      "black-footed ferret, ferret, Mustela nigripes : n02443484 has less than 1000 categories\n",
      "teddy, teddy bear : n04399382 has less than 1000 categories\n",
      "Egyptian cat : n02124075 has less than 1000 categories\n",
      "whiptail, whiptail lizard : n01685808 has less than 1000 categories\n",
      "water snake : n01737021 has less than 1000 categories\n",
      "Tibetan terrier, chrysanthemum dog : n02097474 has less than 1000 categories\n",
      "prairie chicken, prairie grouse, prairie fowl : n01798484 has less than 1000 categories\n",
      "cleaver, meat cleaver, chopper : n03041632 has less than 1000 categories\n",
      "rapeseed : n011879895 has less than 1000 categories\n",
      "butternut squash : n07717556 has less than 1000 categories\n",
      "sturgeon : n02640242 has less than 1000 categories\n",
      "horned viper, cerastes, sand viper, horned asp, Cerastes cornutus : n01753488 has less than 1000 categories\n",
      "ringneck snake, ring-necked snake, ring snake : n01728920 has less than 1000 categories\n",
      "ping-pong ball : n03942813 has less than 1000 categories\n",
      "thresher, thrasher, threshing machine : n04428191 has less than 1000 categories\n",
      "Petri dish : n03920288 has less than 1000 categories\n",
      "matchstick : n03729826 has less than 1000 categories\n",
      "boathouse : n02859443 has less than 1000 categories\n",
      "Mexican hairless : n02113978 has less than 1000 categories\n",
      "book jacket, dust cover, dust jacket, dust wrapper : n07248320 has less than 1000 categories\n",
      "banded gecko : n01675722 has less than 1000 categories\n",
      "chime, bell, gong : n03017168 has less than 1000 categories\n",
      "prison, prison house : n04005630 has less than 1000 categories\n",
      "pickelhaube : n03929855 has less than 1000 categories\n",
      "leatherback turtle, leatherback, leathery turtle, Dermochelys coriacea : n01665541 has less than 1000 categories\n",
      "window shade : n04590129 has less than 1000 categories\n",
      "passenger car, coach, carriage : n03895866 has less than 1000 categories\n",
      "bulletproof vest : n02916936 has less than 1000 categories\n",
      "Bedlington terrier : n02093647 has less than 1000 categories\n",
      "toilet tissue, toilet paper, bathroom tissue : n015075141 has less than 1000 categories\n",
      "fire screen, fireguard : n03347037 has less than 1000 categories\n",
      "EntleBucher : n02108000 has less than 1000 categories\n",
      "otterhound, otter hound : n02091635 has less than 1000 categories\n",
      "vine snake : n01739381 has less than 1000 categories\n",
      "yellow lady's slipper, yellow lady-slipper, Cypripedium calceolus, Cypripedium parviflorum : n012057211 has less than 1000 categories\n",
      "monastery : n03781244 has less than 1000 categories\n",
      "ear, spike, capitulum : n013133613 has less than 1000 categories\n",
      "stinkhorn, carrion fungus : n013040303 has less than 1000 categories\n",
      "frilled lizard, Chlamydosaurus kingi : n01688243 has less than 1000 categories\n",
      "space bar : n04264628 has less than 1000 categories\n",
      "guenon, guenon monkey : n02484975 has less than 1000 categories\n",
      "plastic bag : n03958227 has less than 1000 categories\n",
      "chambered nautilus, pearly nautilus, nautilus : n01968897 has less than 1000 categories\n",
      "hip, rose hip, rosehip : n012620546 has less than 1000 categories\n",
      "Sealyham terrier, Sealyham : n02095889 has less than 1000 categories\n",
      "hen-of-the-woods, hen of the woods, Polyporus frondosus, Grifola frondosa : n013052670 has less than 1000 categories\n",
      "Kerry blue terrier : n02093859 has less than 1000 categories\n",
      "hamper : n03482405 has less than 1000 categories\n",
      "proboscis monkey, Nasalis larvatus : n02489166 has less than 1000 categories\n",
      "plate rack : n03961711 has less than 1000 categories\n",
      "cardoon : n07730033 has less than 1000 categories\n",
      "corn : n012144580 has less than 1000 categories\n",
      "nematode, nematode worm, roundworm : n01930112 has less than 1000 categories\n",
      "Walker hound, Walker foxhound : n02089867 has less than 1000 categories\n",
      "Japanese spaniel : n02085782 has less than 1000 categories\n",
      "eel : n02526121 has less than 1000 categories\n",
      "rock beauty, Holocanthus tricolor : n02606052 has less than 1000 categories\n",
      "velvet : n04525038 has less than 1000 categories\n",
      "white wolf, Arctic wolf, Canis lupus tundrarum : n02114548 has less than 1000 categories\n",
      "English foxhound : n02089973 has less than 1000 categories\n",
      "milk can : n03764736 has less than 1000 categories\n",
      "German short-haired pointer : n02100236 has less than 1000 categories\n",
      "earthstar : n013044778 has less than 1000 categories\n",
      "titi, titi monkey : n02493509 has less than 1000 categories\n",
      "plunger, plumber's helper : n03970156 has less than 1000 categories\n",
      "home theater, home theatre : n03529860 has less than 1000 categories\n",
      "partridge : n01807496 has less than 1000 categories\n",
      "tobacco shop, tobacconist shop, tobacconist : n04443257 has less than 1000 categories\n",
      "academic gown, academic robe, judge's robe : n02669723 has less than 1000 categories\n",
      "affenpinscher, monkey pinscher, monkey dog : n02110627 has less than 1000 categories\n",
      "Brabancon griffon : n02112706 has less than 1000 categories\n",
      "electric ray, crampfish, numbfish, torpedo : n01496331 has less than 1000 categories\n",
      "chiton, coat-of-mail shell, sea cradle, polyplacophore : n01955084 has less than 1000 categories\n",
      "croquet ball : n03134739 has less than 1000 categories\n",
      "hot pot, hotpot : n07590611 has less than 1000 categories\n",
      "American chameleon, anole, Anolis carolinensis : n01682714 has less than 1000 categories\n",
      "breastplate, aegis, egis : n02895154 has less than 1000 categories\n",
      "Dandie Dinmont, Dandie Dinmont terrier : n02096437 has less than 1000 categories\n",
      "space heater : n04265275 has less than 1000 categories\n",
      "curly-coated retriever : n02099429 has less than 1000 categories\n",
      "night snake, Hypsiglena torquata : n01740131 has less than 1000 categories\n",
      "pirate, pirate ship : n03947888 has less than 1000 categories\n",
      "magnetic compass : n03706229 has less than 1000 categories\n",
      "redbone : n02090379 has less than 1000 categories\n",
      "buckeye, horse chestnut, conker : n012768682 has less than 1000 categories\n",
      "moving van : n03796401 has less than 1000 categories\n",
      "dock, dockage, docking facility : n03216828 has less than 1000 categories\n",
      "planetarium : n03956157 has less than 1000 categories\n",
      "black grouse : n01795545 has less than 1000 categories\n",
      "spaghetti squash : n07716906 has less than 1000 categories\n",
      "baseball : n02799071 has less than 1000 categories\n",
      "overskirt : n03866082 has less than 1000 categories\n",
      "bearskin, busby, shako : n02817516 has less than 1000 categories\n",
      "gong, tam-tam : n03447721 has less than 1000 categories\n",
      "coral fungus : n012985857 has less than 1000 categories\n",
      "apiary, bee house : n02727426 has less than 1000 categories\n",
      "bolete : n013054560 has less than 1000 categories\n",
      "window screen : n04589890 has less than 1000 categories\n",
      "rock python, rock snake, Python sebae : n01744401 has less than 1000 categories\n",
      "green mamba : n01749939 has less than 1000 categories\n",
      "Windsor tie : n04591157 has less than 1000 categories\n",
      "throne : n04429376 has less than 1000 categories\n",
      "mink : n02442845 has less than 1000 categories\n",
      "toyshop : n04462240 has less than 1000 categories\n",
      "daisy : n011939491 has less than 1000 categories\n",
      "indri, indris, Indri indri, Indri brevicaudatus : n02500267 has less than 1000 categories\n",
      "bluetick : n02088632 has less than 1000 categories\n",
      "Irish water spaniel : n02102973 has less than 1000 categories\n",
      "hand-held computer, hand-held microcomputer : n03485407 has less than 1000 categories\n",
      "hatchet : n03498962 has less than 1000 categories\n",
      "hoopskirt, crinoline : n03534580 has less than 1000 categories\n",
      "Blenheim spaniel : n02086646 has less than 1000 categories\n",
      "maillot, tank suit : n03710721 has less than 1000 categories\n",
      "head cabbage : n07714571 has less than 1000 categories\n",
      "mousetrap : n03794056 has less than 1000 categories\n",
      "potpie : n07875152 has less than 1000 categories\n",
      "flatworm, platyhelminth : n01924916 has less than 1000 categories\n",
      "guillotine : n03467068 has less than 1000 categories\n",
      "hair spray : n03476991 has less than 1000 categories\n",
      "whiskey jug : n04579145 has less than 1000 categories\n",
      "African chameleon, Chamaeleo chamaeleon : n01694178 has less than 1000 categories\n",
      "beaker : n02815834 has less than 1000 categories\n",
      "gyromitra : n013037406 has less than 1000 categories\n",
      "barn spider, Araneus cavaticus : n01773549 has less than 1000 categories\n",
      "pinwheel : n03944341 has less than 1000 categories\n",
      "dhole, Cuon alpinus : n02115913 has less than 1000 categories\n",
      "patas, hussar monkey, Erythrocebus patas : n02486261 has less than 1000 categories\n"
     ]
    }
   ],
   "source": [
    "with open(csv_imagenet_data_filepath, 'w') as csvfile:\n",
    "    header = ['img_url', 'wnid', 'category', 'internal_category']\n",
    "    writer = csv.DictWriter(csvfile, fieldnames=header)\n",
    "    writer.writeheader()\n",
    "    cats_to_investigate = []\n",
    "    for synset, category in cat_ids.iteritems():\n",
    "        wnid = 'n0%s'%(str(synset))\n",
    "        try:\n",
    "            img_urls = get_img_urls_from_wnid(wnid)\n",
    "            if len(img_urls) < 1000:\n",
    "                cats_to_investigate.append(category)\n",
    "                print '%s : %s has less than 1000 instances (%i)'%(category, wnid, len(img_urls))\n",
    "            for img_url in img_urls:\n",
    "                if ',' not in img_url:\n",
    "                    writer.writerow({'img_url': img_url, \n",
    "                                     'wnid':wnid, \n",
    "                                     'category':category, \n",
    "                                     'internal_category':tfm_fcn(category)})\n",
    "        except:\n",
    "            print 'Something went wrong when processing category %s : %s'%(category, wnid)"
   ]
  },
  {
   "cell_type": "code",
   "execution_count": null,
   "metadata": {
    "collapsed": true
   },
   "outputs": [],
   "source": []
  }
 ],
 "metadata": {
  "kernelspec": {
   "display_name": "Python 2",
   "language": "python",
   "name": "python2"
  },
  "language_info": {
   "codemirror_mode": {
    "name": "ipython",
    "version": 2
   },
   "file_extension": ".py",
   "mimetype": "text/x-python",
   "name": "python",
   "nbconvert_exporter": "python",
   "pygments_lexer": "ipython2",
   "version": "2.7.12"
  }
 },
 "nbformat": 4,
 "nbformat_minor": 0
}
