{
 "cells": [
  {
   "cell_type": "code",
   "execution_count": 81,
   "metadata": {
    "collapsed": false
   },
   "outputs": [],
   "source": [
    "import pandas as pd\n",
    "import numpy as np\n",
    "import pickle as pkl\n",
    "from cnns.utils import clustering_utils as clu\n",
    "from cnns.core import SOMClusterer as scl\n",
    "from sklearn.metrics.cluster import homogeneity_completeness_v_measure\n",
    "from cnns.core import FaceClustererFactory as fcf"
   ]
  },
  {
   "cell_type": "code",
   "execution_count": 3,
   "metadata": {
    "collapsed": false
   },
   "outputs": [],
   "source": [
    "%load_ext autoreload\n",
    "%autoreload 2"
   ]
  },
  {
   "cell_type": "code",
   "execution_count": 91,
   "metadata": {
    "collapsed": false
   },
   "outputs": [],
   "source": [
    "def shuffle(df, n=1, axis=0):     \n",
    "    df = df.copy()\n",
    "    for _ in range(n):\n",
    "        df.apply(np.random.shuffle, axis=axis)\n",
    "    return df\n",
    "\n",
    "def sample_faces(csv_filepath, p=0.1, shuffle_flag=True):\n",
    "    df = pd.read_csv(csv_filepath)\n",
    "    if shuffle_flag:\n",
    "        df = shuffle(df)\n",
    "    m = int(p*len(df))\n",
    "    return df.ix[:m-1]\n",
    "\n",
    "def get_sample_img_urls_X_by_tstamp(user_id, n=50, fv_type='openface'):\n",
    "    base_dirpath = '/Users/babasarala/Desktop/face_clustering_full_data'\n",
    "    url_csv_filepath = '%s/%i/%i_prod_fb_tags_img_urls_1.2_None.csv'%(base_dirpath, user_id, user_id)\n",
    "    orig_csv_filepath = '%s/%i/%i_prod_fb_tags_1.2.csv'%(base_dirpath, user_id, user_id)\n",
    "    cnn_codes_filepath = '/Users/babasarala/Desktop/face_clustering/%s_cnn_codes/%i_cnn_codes.p'\\\n",
    "    %(fv_type, user_id)\n",
    "    \n",
    "    img_urls, X = pkl.load(open(cnn_codes_filepath, 'rb'))\n",
    "    orig_df = pd.read_csv(open(orig_csv_filepath, 'rb'))\n",
    "    url_df = pd.read_csv(open(url_csv_filepath, 'rb'))\n",
    "    url_with_tstamp_df = pd.merge(url_df, orig_df, on=['face_id'])\n",
    "    url_with_tstamp_df = url_with_tstamp_df[['face_id', 'img_url', 'captured_at']]\n",
    "    url_with_tstamp_df.drop_duplicates(inplace=True)\n",
    "    feat_cols = ['f%i' % i for i in range(X.shape[1])]\n",
    "    img_url_x_df = pd.DataFrame(data=X, columns=feat_cols)\n",
    "    img_url_x_df['img_url'] = img_urls\n",
    "    full_df = pd.merge(url_with_tstamp_df, img_url_x_df, on='img_url')\n",
    "    sorted_df = full_df.sort('captured_at')\n",
    "    n = min(n, len(sorted_df))\n",
    "    sample_data = sorted_df.head(n)\n",
    "    return list(sample_data['img_url'].values), sample_data[feat_cols].values\n",
    "\n",
    "def run_clustering_on_samples(user_id, fv_type='openface', model='dbscan', version='1.0'):\n",
    "    if fv_type == 'openface':\n",
    "        fv_type_fmt = 'OpenFace'\n",
    "    elif fv_type == 'vgg':\n",
    "        fv_type_fmt = 'VGG'\n",
    "    \n",
    "    if model == 'dbscan':\n",
    "        model_fmt = 'DBSCAN'\n",
    "    elif model == 'agg':\n",
    "        model_fmt = 'Agg'\n",
    "\n",
    "    samp_img_urls, samp_X = get_sample_img_urls_X_by_tstamp(user_id)\n",
    "    clusterer = fcf.FaceClustererFactory.from_config_file('/Users/babasarala/repos/cnns/config/%s_settings_v%s.ini'\\\n",
    "                                                          %(model, version))\n",
    "    clusterer.load_data(samp_img_urls, samp_X)\n",
    "    cluster_df = clusterer.run()\n",
    "    cluster_map = clusterer.convert_to_maps(cluster_df)\n",
    "    clu.visualize_clusters(cluster_map, '/Users/babasarala/Desktop/%s+%s_%s_samples/%i_clusters.html'\\\n",
    "                           %(fv_type_fmt, model_fmt, version, user_id))"
   ]
  },
  {
   "cell_type": "code",
   "execution_count": 92,
   "metadata": {
    "collapsed": false
   },
   "outputs": [],
   "source": [
    "fv_type = 'openface'\n",
    "model = 'dbscan'\n",
    "version = '1.1'\n",
    "user_ids = [1946418, 8657185, 5626377, 5, 5692777, 3473194, 3928074, 4619758, 2685009, 1496616, 1341, 8, 34, 6007945]\n",
    "for user_id in user_ids:\n",
    "    try:\n",
    "        run_clustering_on_samples(user_id, fv_type, model, version)\n",
    "    except:\n",
    "        print \"uhh..%i didnt' work...\"%(user_id)"
   ]
  }
 ],
 "metadata": {
  "kernelspec": {
   "display_name": "Python 2",
   "language": "python",
   "name": "python2"
  },
  "language_info": {
   "codemirror_mode": {
    "name": "ipython",
    "version": 2
   },
   "file_extension": ".py",
   "mimetype": "text/x-python",
   "name": "python",
   "nbconvert_exporter": "python",
   "pygments_lexer": "ipython2",
   "version": "2.7.12"
  }
 },
 "nbformat": 4,
 "nbformat_minor": 0
}
