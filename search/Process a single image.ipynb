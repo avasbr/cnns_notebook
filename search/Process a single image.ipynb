{
 "cells": [
  {
   "cell_type": "code",
   "execution_count": 1,
   "metadata": {
    "collapsed": false
   },
   "outputs": [],
   "source": [
    "%load_ext autoreload\n",
    "%autoreload 2"
   ]
  },
  {
   "cell_type": "code",
   "execution_count": 2,
   "metadata": {
    "collapsed": false
   },
   "outputs": [
    {
     "name": "stdout",
     "output_type": "stream",
     "text": [
      "/Users/babasarala/repos/cnns/scripts\n"
     ]
    }
   ],
   "source": [
    "cd ../scripts"
   ]
  },
  {
   "cell_type": "code",
   "execution_count": 1,
   "metadata": {
    "collapsed": true
   },
   "outputs": [],
   "source": [
    "import urllib2\n",
    "from skimage import img_as_float\n",
    "from PIL import Image\n",
    "import StringIO\n",
    "import skimage.io as io\n",
    "import numpy as np\n",
    "from cnns.utils import classify_utils as clu\n",
    "from cnns.utils import cnn_utils as cu"
   ]
  },
  {
   "cell_type": "markdown",
   "metadata": {},
   "source": [
    "# Process a single image with the \"classify_script\""
   ]
  },
  {
   "cell_type": "markdown",
   "metadata": {},
   "source": [
    "Sample images (filepaths and URLs)"
   ]
  },
  {
   "cell_type": "code",
   "execution_count": 3,
   "metadata": {
    "collapsed": false
   },
   "outputs": [],
   "source": [
    "test_images_dirpath = '/Users/babasarala/Desktop/evaluation/raw_images/test_images'\n",
    "\n",
    "# a slew of test images to test\n",
    "# Furry friend - dog\n",
    "dog_url = 'https://www.cesarsway.com/sites/newcesarsway/files/styles/large_article_preview/public/\\\n",
    "Common-dog-behaviors-explained.jpg?itok=FSzwbBoi'\n",
    "dog_filepath = '%s/common_dog.jpg'%(test_images_dirpath)\n",
    "\n",
    "# Furry friend - cat\n",
    "cat_url = 'http://25.media.tumblr.com/tumblr_m4963s0AWt1qz5dg8o1_1280.jpg'\n",
    "cat_filepath = '%s/cat_1.jpg'%(test_images_dirpath)\n",
    "\n",
    "# Wildlife - snake\n",
    "snake_url = 'https://upload.wikimedia.org/wikipedia/commons/2/21/Bull_snake.jpg'\n",
    "snake_filepath = '%s/Bull_snake.jpg'%(test_images_dirpath)\n",
    "\n",
    "# Screenshots\n",
    "# screenshot_img_url = ''\n",
    "# screenshot_img_filepath = ''\n",
    "\n",
    "# Devices\n",
    "# device_img_url = ''\n",
    "# device_img_filepath = ''\n",
    "\n",
    "# Food\n",
    "halal_guys_url = 'http://insidescoopsf.sfgate.com/files/2016/04/The-Halal-Guys-for-Caviar-SF.jpg'\n",
    "halal_guys_filepath = '%s/halal_guys.jpg'%test_images_dirpath\n",
    "\n",
    "# PNG image\n",
    "dog_png_filepath = '%s/bow_dog.png'%test_images_dirpath\n",
    "png_url = 'https://download-dot-maestro-staging.appspot.com/1034671?\\\n",
    "auth_token=wqGuritcSCX1V7Bh6XNx&width=256&height=256'\n",
    "\n",
    "# grayscale image\n",
    "grayscale_img_filepath = '%s/gray_happy_dog.jpg'%test_images_dirpath\n",
    "\n",
    "grayscale_img_url =  'http://res.cloudinary.com/demo/image/upload/e_grayscale/happy_dog.jpg'\n",
    "\n",
    "# GIF\n",
    "gif_img_filepath = '%s/random_dog.gif'%test_images_dirpath"
   ]
  },
  {
   "cell_type": "code",
   "execution_count": 7,
   "metadata": {
    "collapsed": false
   },
   "outputs": [],
   "source": [
    "config_dirpath = '/Users/babasarala/repos/cnns/config'\n",
    "settings_filename = 'settings_v1.7.ini'\n",
    "model_dirpath = '/Users/babasarala/repos/cnns/models'\n",
    "main_model, fe_model, custom_model, config = clu.init_model_and_config(config_dirpath, settings_filename, \n",
    "                                                                       model_dirpath)"
   ]
  },
  {
   "cell_type": "code",
   "execution_count": 9,
   "metadata": {
    "collapsed": false
   },
   "outputs": [
    {
     "data": {
      "text/plain": [
       "{'https://www.cesarsway.com/sites/newcesarsway/files/styles/large_article_preview/public/Common-dog-behaviors-explained.jpg?itok=FSzwbBoi': [(u'wildlife',\n",
       "   0.027334926591720432),\n",
       "  (u'food', 0.003246379186748527),\n",
       "  (u'devices', 0.0015310214839701075),\n",
       "  (u'other', 0.066816862277846667),\n",
       "  (u'furry_friends', 0.90036160264480714),\n",
       "  (u'screenshots', 0.00015788695600349456)]}"
      ]
     },
     "execution_count": 9,
     "metadata": {},
     "output_type": "execute_result"
    }
   ],
   "source": [
    "# Testing a local image\n",
    "dog_image_map = {dog_url: cu.load_image(dog_url, src='url')}\n",
    "clu.classify(dog_image_map,\n",
    "            main_model=main_model,\n",
    "            fe_model=fe_model,\n",
    "            custom_model=custom_model,\n",
    "            config=config,\n",
    "            return_type='prob')"
   ]
  }
 ],
 "metadata": {
  "kernelspec": {
   "display_name": "Python 2",
   "language": "python",
   "name": "python2"
  },
  "language_info": {
   "codemirror_mode": {
    "name": "ipython",
    "version": 2
   },
   "file_extension": ".py",
   "mimetype": "text/x-python",
   "name": "python",
   "nbconvert_exporter": "python",
   "pygments_lexer": "ipython2",
   "version": "2.7.12"
  }
 },
 "nbformat": 4,
 "nbformat_minor": 0
}
