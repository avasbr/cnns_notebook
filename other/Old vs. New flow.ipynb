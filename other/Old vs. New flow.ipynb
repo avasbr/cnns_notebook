{
 "cells": [
  {
   "cell_type": "code",
   "execution_count": 3,
   "metadata": {
    "collapsed": true
   },
   "outputs": [],
   "source": [
    "from cnns.utils import clustering_utils as clu\n",
    "from cnns.utils import cnn_utils as cu\n",
    "from cnns.core import SOMClusterer as scl\n",
    "import pickle as pkl\n",
    "import numpy as np"
   ]
  },
  {
   "cell_type": "code",
   "execution_count": 4,
   "metadata": {
    "collapsed": false
   },
   "outputs": [
    {
     "name": "stdout",
     "output_type": "stream",
     "text": [
      "The autoreload extension is already loaded. To reload it, use:\n",
      "  %reload_ext autoreload\n"
     ]
    }
   ],
   "source": [
    "%load_ext autoreload\n",
    "%autoreload 2"
   ]
  },
  {
   "cell_type": "code",
   "execution_count": 33,
   "metadata": {
    "collapsed": true
   },
   "outputs": [],
   "source": [
    "pkl_filepath = '/Users/babasarala/Desktop/face_clustering_full_data/5626377/5626377_prod_1.2_None_cnn_codes.p'\n",
    "img_urls, X = pkl.load(open(pkl_filepath, 'rb'))"
   ]
  },
  {
   "cell_type": "code",
   "execution_count": 5,
   "metadata": {
    "collapsed": true
   },
   "outputs": [],
   "source": [
    "pkl_filepath = '/Users/babasarala/Desktop/face_clustering_full_data/5626377/5626377_prod_1.2_None_cnn_codes.p'\n",
    "img_urls, X = pkl.load(open(pkl_filepath, 'rb'))"
   ]
  },
  {
   "cell_type": "code",
   "execution_count": 8,
   "metadata": {
    "collapsed": false
   },
   "outputs": [],
   "source": [
    "config_filepath = '/Users/babasarala/repos/cnns/config/som_settings_v1.0.ini'\n",
    "scl_ = scl.SOMClusterer.from_config_file(img_urls, X, config_filepath)\n",
    "cluster_df = scl_.run()\n",
    "cluster_map, best_cluster_map, cluster_stats_map = scl_.convert_to_maps(cluster_df)\n",
    "clu.visualize_clusters(cluster_map, '/Users/babasarala/Desktop/new_doug.html')"
   ]
  },
  {
   "cell_type": "code",
   "execution_count": 9,
   "metadata": {
    "collapsed": false
   },
   "outputs": [],
   "source": [
    "old_config_filepath = '/Users/babasarala/repos/cnns/config/face_clustering_settings_v1.0.ini'\n",
    "config = cu.parse_settings_file_to_dict(old_config_filepath)\n",
    "old_cluster_map, old_best_cluster_map, old_cluster_stats_map = clu.run_clustering(img_urls, X, config)\n",
    "clu.visualize_clusters(old_cluster_map, '/Users/babasarala/Desktop/old_doug.html')"
   ]
  },
  {
   "cell_type": "code",
   "execution_count": 10,
   "metadata": {
    "collapsed": false
   },
   "outputs": [
    {
     "data": {
      "text/plain": [
       "{'clustering': {'bad_cluster_thresh': '80',\n",
       "  'cluster_algo': 'multi',\n",
       "  'metric': 'euclidean',\n",
       "  'normalize': 'True',\n",
       "  'num_components': '50',\n",
       "  'num_iter': '1000',\n",
       "  'num_trials': '10',\n",
       "  'remove_duplicates': 'True',\n",
       "  'run_face_detect': 'False',\n",
       "  'use_pca': 'False'},\n",
       " 'scoring': {'lambda': '0.0', 'min_size': '5', 'num_clusters': '5'}}"
      ]
     },
     "execution_count": 10,
     "metadata": {},
     "output_type": "execute_result"
    }
   ],
   "source": [
    "config"
   ]
  },
  {
   "cell_type": "code",
   "execution_count": null,
   "metadata": {
    "collapsed": true
   },
   "outputs": [],
   "source": []
  }
 ],
 "metadata": {
  "kernelspec": {
   "display_name": "Python 2",
   "language": "python",
   "name": "python2"
  },
  "language_info": {
   "codemirror_mode": {
    "name": "ipython",
    "version": 2
   },
   "file_extension": ".py",
   "mimetype": "text/x-python",
   "name": "python",
   "nbconvert_exporter": "python",
   "pygments_lexer": "ipython2",
   "version": "2.7.12"
  }
 },
 "nbformat": 4,
 "nbformat_minor": 0
}
