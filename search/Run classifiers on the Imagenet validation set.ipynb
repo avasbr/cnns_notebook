{
 "cells": [
  {
   "cell_type": "code",
   "execution_count": 1,
   "metadata": {
    "collapsed": true,
    "scrolled": true
   },
   "outputs": [],
   "source": [
    "import pandas as pd\n",
    "import os\n",
    "from scipy.io import loadmat\n",
    "from cnns.utils import cnn_utils as cu\n",
    "from cnns.utils import imagenet_utils as imu\n",
    "import numpy as np\n",
    "import json"
   ]
  },
  {
   "cell_type": "code",
   "execution_count": 2,
   "metadata": {
    "collapsed": false,
    "scrolled": true
   },
   "outputs": [],
   "source": [
    "%load_ext autoreload\n",
    "%autoreload 2"
   ]
  },
  {
   "cell_type": "code",
   "execution_count": 3,
   "metadata": {
    "collapsed": true,
    "scrolled": true
   },
   "outputs": [],
   "source": [
    "%matplotlib inline"
   ]
  },
  {
   "cell_type": "code",
   "execution_count": 13,
   "metadata": {
    "collapsed": false,
    "scrolled": true
   },
   "outputs": [],
   "source": [
    "evaluation_dir = '/Users/babasarala/Desktop/evaluation'\n",
    "cnn_dir = '/Users/babasarala/repos/cnns'\n",
    "image_url_files_dir = os.path.join(evaluation_dir, 'image_url_files')\n",
    "mat_filepath = '%s/ILSVRC2013_devkit/data/meta_clsloc.mat'% evaluation_dir\n",
    "ground_truth_filepath = os.path.join(evaluation_dir, 'raw_images/ILSVRC2013_clsloc_validation_ground_truth.txt')\n",
    "results_dirpath = os.path.join(evaluation_dir, 'ILSVRC2012_val')\n",
    "collapse_filepath = os.path.join(cnn_dir, 'config/imagenet_cats_2016_12_07.json')"
   ]
  },
  {
   "cell_type": "code",
   "execution_count": 7,
   "metadata": {
    "collapsed": false,
    "scrolled": true
   },
   "outputs": [],
   "source": [
    "# recover the label names\n",
    "mappings = json.load(open(collapse_filepath, 'rb'))\n",
    "cat_names = set([])\n",
    "for imagenet_label, collapsed_cat in mappings.iteritems():\n",
    "    cat_names.add(collapsed_cat)\n",
    "cat_names = list(cat_names)"
   ]
  },
  {
   "cell_type": "markdown",
   "metadata": {},
   "source": [
    "# Analyzing the ILSVR2012 Validation set with the different Neural Networks"
   ]
  },
  {
   "cell_type": "code",
   "execution_count": 11,
   "metadata": {
    "collapsed": true
   },
   "outputs": [],
   "source": [
    "def load_validation_ground_truth(ground_truth_filepath, mat_filepath, collapse_filepath=None):\n",
    "    ground_truth_idxs = []\n",
    "    img_urls = []\n",
    "    with open(ground_truth_filepath, 'rb') as f:\n",
    "        cnt = 0\n",
    "        for idx, lines in enumerate(f):\n",
    "            num_zeros = 8 - len(str(idx))\n",
    "            img_urls.append('ILSVRC2012_val_%s%i.JPEG'%(''.join(['0']*num_zeros), idx+1))\n",
    "            ground_truth_idxs.append(int(lines))\n",
    "    ilsvrc_id_cats = imu.load_imagenet_cats_from_mat(mat_filepath)\n",
    "    # k->v : image idx -> v\n",
    "    ground_truth_cats = {img_url: ilsvrc_id_cats[img_idx]\n",
    "                           for img_idx, img_url in zip(ground_truth_idxs, img_urls)}\n",
    "    if collapse_filepath:\n",
    "        tfm_fcn = cu.get_tfm_fcn_from_json(collapse_filepath)\n",
    "        return {img_idx: tfm_fcn(ground_truth_cat)\n",
    "                for img_idx, ground_truth_cat in ground_truth_cats.iteritems()}\n",
    "\n",
    "    return ground_truth_cats"
   ]
  },
  {
   "cell_type": "code",
   "execution_count": 14,
   "metadata": {
    "collapsed": false,
    "scrolled": false
   },
   "outputs": [],
   "source": [
    "ground_truth_labels = load_validation_ground_truth(ground_truth_filepath, \n",
    "                                                   mat_filepath, \n",
    "                                                   collapse_filepath=None)"
   ]
  },
  {
   "cell_type": "code",
   "execution_count": null,
   "metadata": {
    "collapsed": true
   },
   "outputs": [],
   "source": []
  },
  {
   "cell_type": "code",
   "execution_count": null,
   "metadata": {
    "collapsed": true,
    "scrolled": true
   },
   "outputs": [],
   "source": [
    "alexnet_results_dirpath = os.path.join(results_dirpath, 'AlexNet_full')\n",
    "vgg_results_dirpath = os.path.join(results_dirpath, 'VGG_full')\n",
    "googlenet_results_dirpath = os.path.join(results_dirpath, 'GoogLeNet_full')\n",
    "\n",
    "all_pred_labels = {'AlexNet': imu.combine_checkpoint_results(alexnet_results_dirpath),\n",
    "               'VGG': imu.combine_checkpoint_results(vgg_results_dirpath),\n",
    "               'GoogLeNet': imu.combine_checkpoint_results(googlenet_results_dirpath)}"
   ]
  },
  {
   "cell_type": "code",
   "execution_count": 10,
   "metadata": {
    "collapsed": false,
    "scrolled": true
   },
   "outputs": [
    {
     "name": "stdout",
     "output_type": "stream",
     "text": [
      "Top-1 Accuracy for AlexNet: 56.03%\n",
      "Top-5 Accuracy for AlexNet: 79.39%\n"
     ]
    }
   ],
   "source": [
    "model_type = 'AlexNet'\n",
    "pred_labels = all_pred_labels[model_type]\n",
    "print 'Top-1 Accuracy for %s: %.2f%%'%(model_type, 100.*imu.compute_top_k_acc(ground_truth_labels, \n",
    "                                                                              pred_labels, \n",
    "                                                                              k=1))\n",
    "print 'Top-5 Accuracy for %s: %.2f%%'%(model_type, 100.*imu.compute_top_k_acc(ground_truth_labels, \n",
    "                                                                              pred_labels, \n",
    "                                                                              k=5))"
   ]
  },
  {
   "cell_type": "code",
   "execution_count": 7,
   "metadata": {
    "collapsed": true,
    "scrolled": true
   },
   "outputs": [],
   "source": [
    "inception_v3_results_dirpath = os.path.join(results_dirpath, 'GoogLeNetv3_full')\n",
    "pred_labels = imu.combine_checkpoint_results(inception_v3_results_dirpath)"
   ]
  },
  {
   "cell_type": "code",
   "execution_count": 8,
   "metadata": {
    "collapsed": false,
    "scrolled": true
   },
   "outputs": [
    {
     "name": "stdout",
     "output_type": "stream",
     "text": [
      "Top-1 Accuracy for GoogLeNet inception v3: 1.43%\n",
      "Top-5 Accuracy for GoogLeNet inception v3: 7.32%\n"
     ]
    }
   ],
   "source": [
    "model_type = 'GoogLeNet inception v3'\n",
    "print 'Top-1 Accuracy for %s: %.2f%%'%(model_type, 100.*imu.compute_top_k_acc(ground_truth_labels, \n",
    "                                                                              pred_labels, \n",
    "                                                                              k=1))\n",
    "print 'Top-5 Accuracy for %s: %.2f%%'%(model_type, 100.*imu.compute_top_k_acc(ground_truth_labels, \n",
    "                                                                              pred_labels, \n",
    "                                                                              k=5))"
   ]
  },
  {
   "cell_type": "code",
   "execution_count": 14,
   "metadata": {
    "collapsed": false,
    "scrolled": true
   },
   "outputs": [],
   "source": [
    "import pickle as pkl\n",
    "d = pkl.load(open('/Users/babasarala/Desktop/results/ILSVRC2012_GoogLeNetv3_id_100.p', 'rb'))"
   ]
  },
  {
   "cell_type": "code",
   "execution_count": 16,
   "metadata": {
    "collapsed": false,
    "scrolled": true
   },
   "outputs": [],
   "source": [
    "d1 = pkl.load(open('/Users/babasarala/Desktop/evaluation/ILSVRC2012_val/GoogLeNetv3_full/ILSVRC2012_GoogLeNetv3_id_100.p'))"
   ]
  },
  {
   "cell_type": "markdown",
   "metadata": {},
   "source": [
    "# Analyzing the ILSVR2012 Validation set with refactored classes"
   ]
  },
  {
   "cell_type": "code",
   "execution_count": 12,
   "metadata": {
    "collapsed": false,
    "scrolled": true
   },
   "outputs": [],
   "source": [
    "prune_filepath = os.path.join(cnn_dir, 'config/image_net_categories_animals_screenshots_devices_2016_05_04.json')\n",
    "ground_truth_labels = imu.load_validation_ground_truth(ground_truth_filepath, \n",
    "                                                       mat_filepath, \n",
    "                                                       prune_filepath=prune_filepath)"
   ]
  },
  {
   "cell_type": "code",
   "execution_count": null,
   "metadata": {
    "collapsed": false,
    "scrolled": true
   },
   "outputs": [],
   "source": [
    "alexnet_results_dirpath = os.path.join(results_dirpath, 'AlexNet_pruned_custom')\n",
    "vgg_results_dirpath = os.path.join(results_dirpath, 'VGG_pruned_custom')\n",
    "googlenet_results_dirpath = os.path.join(results_dirpath, 'GoogLeNet_pruned_custom')\n",
    "\n",
    "all_pred_labels = {'AlexNet': imu.combine_checkpoint_results(alexnet_results_dirpath),\n",
    "               'VGG': imu.combine_checkpoint_results(vgg_results_dirpath),\n",
    "               'GoogLeNet': imu.combine_checkpoint_results(googlenet_results_dirpath)}"
   ]
  },
  {
   "cell_type": "code",
   "execution_count": 15,
   "metadata": {
    "collapsed": true,
    "scrolled": true
   },
   "outputs": [],
   "source": [
    "# recover the label names\n",
    "prune_mappings = json.load(open(prune_filepath, 'rb'))\n",
    "label_names = set([])\n",
    "for imagenet_label, pruned_label in prune_mappings.iteritems():\n",
    "    label_names.add(pruned_label)\n",
    "label_names = list(label_names)"
   ]
  },
  {
   "cell_type": "code",
   "execution_count": 13,
   "metadata": {
    "collapsed": false,
    "scrolled": true
   },
   "outputs": [
    {
     "ename": "NameError",
     "evalue": "name 'all_pred_labels' is not defined",
     "output_type": "error",
     "traceback": [
      "\u001b[0;31m---------------------------------------------------------------------------\u001b[0m",
      "\u001b[0;31mNameError\u001b[0m                                 Traceback (most recent call last)",
      "\u001b[0;32m<ipython-input-13-1d9c573d37eb>\u001b[0m in \u001b[0;36m<module>\u001b[0;34m()\u001b[0m\n\u001b[1;32m      1\u001b[0m \u001b[0mmodel_type\u001b[0m \u001b[0;34m=\u001b[0m \u001b[0;34m'GoogLeNet'\u001b[0m\u001b[0;34m\u001b[0m\u001b[0m\n\u001b[0;32m----> 2\u001b[0;31m \u001b[0mpred_labels\u001b[0m \u001b[0;34m=\u001b[0m \u001b[0mall_pred_labels\u001b[0m\u001b[0;34m[\u001b[0m\u001b[0mmodel_type\u001b[0m\u001b[0;34m]\u001b[0m\u001b[0;34m\u001b[0m\u001b[0m\n\u001b[0m\u001b[1;32m      3\u001b[0m print 'Accuracy for %s on custom classes: %.2f%%'%(model_type, \n\u001b[1;32m      4\u001b[0m                                                    100.*imu.compute_top_k_acc(ground_truth_labels, \n\u001b[1;32m      5\u001b[0m                                                                               \u001b[0mpred_labels\u001b[0m\u001b[0;34m,\u001b[0m\u001b[0;34m\u001b[0m\u001b[0m\n",
      "\u001b[0;31mNameError\u001b[0m: name 'all_pred_labels' is not defined"
     ]
    }
   ],
   "source": [
    "model_type = 'GoogLeNet'\n",
    "pred_labels = all_pred_labels[model_type]\n",
    "print 'Accuracy for %s on custom classes: %.2f%%'%(model_type, \n",
    "                                                   100.*imu.compute_top_k_acc(ground_truth_labels, \n",
    "                                                                              pred_labels, \n",
    "                                                                              k=1))"
   ]
  },
  {
   "cell_type": "code",
   "execution_count": 20,
   "metadata": {
    "collapsed": false,
    "scrolled": true
   },
   "outputs": [
    {
     "name": "stdout",
     "output_type": "stream",
     "text": [
      "[u'wildlife', u'other', u'screenshots', u'devices', u'furry_friends']\n",
      "             precision    recall  f1-score   support\n",
      "\n",
      "   wildlife       0.97      0.96      0.97     13600\n",
      "      other       0.97      0.98      0.98     29100\n",
      "screenshots       0.84      0.86      0.85        50\n",
      "    devices       0.80      0.73      0.76      1000\n",
      "furry_friends       0.96      0.98      0.97      6250\n",
      "\n",
      "avg / total       0.97      0.97      0.97     50000\n",
      "\n"
     ]
    }
   ],
   "source": [
    "conf_mat, clf_report = imu.compute_metrics(ground_truth_labels, pred_labels, labels=label_names)\n",
    "print label_names\n",
    "print clf_report"
   ]
  },
  {
   "cell_type": "code",
   "execution_count": 29,
   "metadata": {
    "collapsed": false,
    "scrolled": true
   },
   "outputs": [],
   "source": [
    "mappings = {}\n",
    "for idx, label in enumerate(label_names):\n",
    "    mappings[idx] = label\n",
    "    mappings[label] = idx"
   ]
  },
  {
   "cell_type": "code",
   "execution_count": 30,
   "metadata": {
    "collapsed": false,
    "scrolled": true
   },
   "outputs": [
    {
     "data": {
      "text/plain": [
       "{0: u'wildlife',\n",
       " 1: u'other',\n",
       " 2: u'screenshots',\n",
       " 3: u'devices',\n",
       " 4: u'furry_friends',\n",
       " u'devices': 3,\n",
       " u'furry_friends': 4,\n",
       " u'other': 1,\n",
       " u'screenshots': 2,\n",
       " u'wildlife': 0}"
      ]
     },
     "execution_count": 30,
     "metadata": {},
     "output_type": "execute_result"
    }
   ],
   "source": [
    "mappings"
   ]
  },
  {
   "cell_type": "code",
   "execution_count": 31,
   "metadata": {
    "collapsed": false,
    "scrolled": true
   },
   "outputs": [
    {
     "data": {
      "text/plain": [
       "[(u'wildlife', 0.92914779542479664),\n",
       " (u'other', 0.054843743978835846),\n",
       " (u'screenshots', 0.0001346807403024286),\n",
       " (u'devices', 0.0016641851275380759),\n",
       " (u'furry_friends', 0.013655060049131862)]"
      ]
     },
     "execution_count": 31,
     "metadata": {},
     "output_type": "execute_result"
    }
   ],
   "source": [
    "pred_labels[1]"
   ]
  },
  {
   "cell_type": "code",
   "execution_count": 32,
   "metadata": {
    "collapsed": false,
    "scrolled": true
   },
   "outputs": [],
   "source": [
    "y_true = np.zeros((len(mappings)/2, len(ground_truth_labels)))\n",
    "for idx, ground_truth_label in ground_truth_labels.iteritems():\n",
    "    y_true[mappings[ground_truth_label], idx-1] = 1\n",
    "y_true = y_true.T"
   ]
  },
  {
   "cell_type": "code",
   "execution_count": 33,
   "metadata": {
    "collapsed": false,
    "scrolled": true
   },
   "outputs": [],
   "source": [
    "y_prob = np.zeros((len(mappings)/2, len(pred_labels)))\n",
    "for idx, pred_label in pred_labels.iteritems():\n",
    "    for tup in pred_label:\n",
    "        y_prob[mappings[tup[0]],idx-1] = tup[1]\n",
    "y_prob = y_prob.T"
   ]
  },
  {
   "cell_type": "code",
   "execution_count": 34,
   "metadata": {
    "collapsed": false,
    "scrolled": true
   },
   "outputs": [
    {
     "data": {
      "text/plain": [
       "(50000, 5)"
      ]
     },
     "execution_count": 34,
     "metadata": {},
     "output_type": "execute_result"
    }
   ],
   "source": [
    "y_true.shape"
   ]
  },
  {
   "cell_type": "code",
   "execution_count": 35,
   "metadata": {
    "collapsed": false,
    "scrolled": false
   },
   "outputs": [
    {
     "data": {
      "image/png": "[encoded data removed]",
      "text/plain": [
       "<matplotlib.figure.Figure at 0x119f81d50>"
      ]
     },
     "metadata": {},
     "output_type": "display_data"
    }
   ],
   "source": [
    "# Compute Precision-Recall and plot curve\n",
    "from sklearn.metrics import precision_recall_curve\n",
    "from sklearn.metrics import average_precision_score\n",
    "import matplotlib.pyplot as plt\n",
    "\n",
    "precision = dict()\n",
    "recall = dict()\n",
    "average_precision = dict()\n",
    "n_classes = len(label_names)\n",
    "for i in range(n_classes):\n",
    "    precision[i], recall[i], threshs = precision_recall_curve(y_true[:, i],\n",
    "                                                        y_prob[:, i])\n",
    "    average_precision[i] = average_precision_score(y_true[:, i], y_prob[:, i])\n",
    "\n",
    "# Plot Precision-Recall curve for each class\n",
    "f = plt.figure(figsize=(12,10))\n",
    "plt.clf()\n",
    "for i in range(n_classes):\n",
    "    plt.plot(recall[i], precision[i],\n",
    "             label='Precision-recall curve of class: {0} (area = {1:0.2f})'\n",
    "                   ''.format(mappings[i], average_precision[i]))\n",
    "\n",
    "plt.xlim([0.0, 1.0])\n",
    "plt.ylim([0.0, 1.05])\n",
    "plt.xlabel('Recall')\n",
    "plt.ylabel('Precision')\n",
    "plt.title('Precision-Recall curve for ImageNet categories')\n",
    "plt.legend(loc=\"lower left\")\n",
    "plt.show()"
   ]
  },
  {
   "cell_type": "code",
   "execution_count": 27,
   "metadata": {
    "collapsed": false,
    "scrolled": true
   },
   "outputs": [
    {
     "name": "stdout",
     "output_type": "stream",
     "text": [
      "Accuracy for GoogLeNet on custom classes: 98.05%\n"
     ]
    }
   ],
   "source": [
    "inception_v3_results_dirpath = os.path.join(results_dirpath, 'GoogLeNetv3_pruned_custom')\n",
    "pred_labels = imu.combine_checkpoint_results(inception_v3_results_dirpath)\n",
    "print 'Accuracy for %s on custom classes: %.2f%%'%(model_type, \n",
    "                                                   100.*imu.compute_top_k_acc(ground_truth_labels, \n",
    "                                                                              pred_labels, \n",
    "                                                                              k=1))"
   ]
  },
  {
   "cell_type": "code",
   "execution_count": 28,
   "metadata": {
    "collapsed": false
   },
   "outputs": [
    {
     "name": "stdout",
     "output_type": "stream",
     "text": [
      "[u'wildlife', u'other', u'screenshots', u'devices', u'furry_friends']\n",
      "             precision    recall  f1-score   support\n",
      "\n",
      "   wildlife       0.99      0.98      0.98     13600\n",
      "      other       0.98      0.99      0.98     29100\n",
      "screenshots       0.80      0.96      0.87        50\n",
      "    devices       0.88      0.78      0.83      1000\n",
      "furry_friends       0.98      0.98      0.98      6250\n",
      "\n",
      "avg / total       0.98      0.98      0.98     50000\n",
      "\n"
     ]
    }
   ],
   "source": [
    "conf_mat, clf_report = imu.compute_metrics(ground_truth_labels, pred_labels, labels=label_names)\n",
    "print label_names\n",
    "print clf_report"
   ]
  },
  {
   "cell_type": "code",
   "execution_count": null,
   "metadata": {
    "collapsed": true
   },
   "outputs": [],
   "source": []
  }
 ],
 "metadata": {
  "kernelspec": {
   "display_name": "Python 2",
   "language": "python",
   "name": "python2"
  },
  "language_info": {
   "codemirror_mode": {
    "name": "ipython",
    "version": 2
   },
   "file_extension": ".py",
   "mimetype": "text/x-python",
   "name": "python",
   "nbconvert_exporter": "python",
   "pygments_lexer": "ipython2",
   "version": "2.7.12"
  }
 },
 "nbformat": 4,
 "nbformat_minor": 0
}
