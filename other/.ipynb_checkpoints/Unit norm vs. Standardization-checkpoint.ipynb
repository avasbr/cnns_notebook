{
 "cells": [
  {
   "cell_type": "markdown",
   "metadata": {},
   "source": [
    "How does scaling data points by unit norm compare with scaling with zero-mean / unit variance?"
   ]
  },
  {
   "cell_type": "code",
   "execution_count": 3,
   "metadata": {
    "collapsed": true
   },
   "outputs": [],
   "source": [
    "from sklearn import preprocessing\n",
    "import numpy as np"
   ]
  },
  {
   "cell_type": "code",
   "execution_count": 4,
   "metadata": {
    "collapsed": true
   },
   "outputs": [],
   "source": [
    "%matplotlib inline"
   ]
  },
  {
   "cell_type": "code",
   "execution_count": 7,
   "metadata": {
    "collapsed": true
   },
   "outputs": [],
   "source": [
    "N = 1000\n",
    "mu = [5, 2]\n",
    "cov = [[5,.3], [.3,2]] \n",
    "X = np.random.multivariate_normal(mu, cov, 1000)"
   ]
  },
  {
   "cell_type": "code",
   "execution_count": 8,
   "metadata": {
    "collapsed": false
   },
   "outputs": [
    {
     "data": {
      "text/plain": [
       "array([[ 2.72125099,  1.20958684],\n",
       "       [ 0.81478226,  1.05092646],\n",
       "       [ 3.72393994,  1.95081932],\n",
       "       [ 7.72706379, -0.19776491],\n",
       "       [ 7.38975437,  1.32256579],\n",
       "       [ 5.05546677,  2.82827951],\n",
       "       [ 3.61233776,  2.57560421],\n",
       "       [ 3.56853642,  2.38269442],\n",
       "       [ 7.29981113,  0.92980821],\n",
       "       [ 6.18068182,  5.13259797]])"
      ]
     },
     "execution_count": 8,
     "metadata": {},
     "output_type": "execute_result"
    }
   ],
   "source": []
  },
  {
   "cell_type": "code",
   "execution_count": null,
   "metadata": {
    "collapsed": true
   },
   "outputs": [],
   "source": []
  }
 ],
 "metadata": {
  "kernelspec": {
   "display_name": "Python 2",
   "language": "python",
   "name": "python2"
  },
  "language_info": {
   "codemirror_mode": {
    "name": "ipython",
    "version": 2
   },
   "file_extension": ".py",
   "mimetype": "text/x-python",
   "name": "python",
   "nbconvert_exporter": "python",
   "pygments_lexer": "ipython2",
   "version": "2.7.12"
  }
 },
 "nbformat": 4,
 "nbformat_minor": 0
}
