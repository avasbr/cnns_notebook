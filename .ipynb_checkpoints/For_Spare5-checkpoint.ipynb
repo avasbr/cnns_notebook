{
 "cells": [
  {
   "cell_type": "code",
   "execution_count": 6,
   "metadata": {
    "collapsed": false
   },
   "outputs": [],
   "source": [
    "from cnns.utils import cnn_utils as cu\n",
    "from cnns.utils import write_utils as wu\n",
    "import pandas as pd"
   ]
  },
  {
   "cell_type": "code",
   "execution_count": 4,
   "metadata": {
    "collapsed": true
   },
   "outputs": [],
   "source": [
    "example_csv_filepath = '/Users/babasarala/Desktop/Example_keywords_and_tags.csv'\n",
    "example_img_dirpath = '/Users/babasarala/Desktop/example_images'"
   ]
  },
  {
   "cell_type": "code",
   "execution_count": 7,
   "metadata": {
    "collapsed": false
   },
   "outputs": [],
   "source": [
    "img_urls = list(pd.read_csv(example_csv_filepath)['img_url'].values)"
   ]
  },
  {
   "cell_type": "code",
   "execution_count": 9,
   "metadata": {
    "collapsed": false
   },
   "outputs": [],
   "source": [
    "img_url_to_idx = {}\n",
    "for idx, img_url in enumerate(img_urls):\n",
    "    try:\n",
    "        img = cu.load_image(img_url, src='url')\n",
    "        img.save('%s/%i' %(example_img_dirpath, idx), img.format)\n",
    "        img_url_to_idx[img_url] = idx\n",
    "    except:\n",
    "        print 'Something went wrong'"
   ]
  },
  {
   "cell_type": "code",
   "execution_count": null,
   "metadata": {
    "collapsed": true
   },
   "outputs": [],
   "source": []
  }
 ],
 "metadata": {
  "kernelspec": {
   "display_name": "Python 2",
   "language": "python",
   "name": "python2"
  },
  "language_info": {
   "codemirror_mode": {
    "name": "ipython",
    "version": 2
   },
   "file_extension": ".py",
   "mimetype": "text/x-python",
   "name": "python",
   "nbconvert_exporter": "python",
   "pygments_lexer": "ipython2",
   "version": "2.7.12"
  }
 },
 "nbformat": 4,
 "nbformat_minor": 0
}
