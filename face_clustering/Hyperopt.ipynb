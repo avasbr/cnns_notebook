{
 "cells": [
  {
   "cell_type": "code",
   "execution_count": 7,
   "metadata": {
    "collapsed": true
   },
   "outputs": [],
   "source": [
    "from hyperopt import fmin, tpe, hp\n",
    "import hyperopt.pyll.stochastic\n",
    "import numpy as np"
   ]
  },
  {
   "cell_type": "code",
   "execution_count": 25,
   "metadata": {
    "collapsed": false
   },
   "outputs": [
    {
     "name": "stdout",
     "output_type": "stream",
     "text": [
      "(<hyperopt.pyll.base.Apply object at 0x10f0b4ad0>, <hyperopt.pyll.base.Apply object at 0x10f0b4b90>, <hyperopt.pyll.base.Apply object at 0x10f0b4dd0>, <hyperopt.pyll.base.Apply object at 0x10f0c4dd0>, <hyperopt.pyll.base.Apply object at 0x10f0c4e90>, <hyperopt.pyll.base.Apply object at 0x10f070ad0>)\n"
     ]
    }
   ],
   "source": [
    "# define the space\n",
    "clustering_space = (\n",
    "    hp.loguniform('learning_rate', np.log(1e-4), np.log(100)),\n",
    "    hp.quniform('grid_size', 2, 50, 1),\n",
    "    hp.qloguniform('num_iter', np.log(1), np.log(1e5), 1),\n",
    "    hp.quniform('num_trials', 1, 20, 1),\n",
    "    hp.loguniform('sigma', np.log(1.0), np.log(1e4)),\n",
    "    hp.choice('reduce_dim', [\n",
    "        False,\n",
    "        {\n",
    "            'num_dim_pwr': hp.quniform('num_dim_pwr', 2, 12, 1)\n",
    "        }\n",
    "    ]))\n",
    "\n",
    "print clustering_space"
   ]
  },
  {
   "cell_type": "code",
   "execution_count": 28,
   "metadata": {
    "collapsed": false
   },
   "outputs": [
    {
     "name": "stdout",
     "output_type": "stream",
     "text": [
      "(24.054592817249542, 9.0, 8672.0, 19.0, 1079.823057754661, {'num_dim_pwr': 8.0})\n"
     ]
    }
   ],
   "source": [
    "s = hyperopt.pyll.stochastic.sample(clustering_space)\n",
    "print s"
   ]
  },
  {
   "cell_type": "code",
   "execution_count": 32,
   "metadata": {
    "collapsed": false
   },
   "outputs": [
    {
     "data": {
      "text/plain": [
       "inf"
      ]
     },
     "execution_count": 32,
     "metadata": {},
     "output_type": "execute_result"
    }
   ],
   "source": [
    "np.inf"
   ]
  },
  {
   "cell_type": "code",
   "execution_count": null,
   "metadata": {
    "collapsed": true
   },
   "outputs": [],
   "source": []
  }
 ],
 "metadata": {
  "kernelspec": {
   "display_name": "Python 2",
   "language": "python",
   "name": "python2"
  },
  "language_info": {
   "codemirror_mode": {
    "name": "ipython",
    "version": 2
   },
   "file_extension": ".py",
   "mimetype": "text/x-python",
   "name": "python",
   "nbconvert_exporter": "python",
   "pygments_lexer": "ipython2",
   "version": "2.7.12"
  }
 },
 "nbformat": 4,
 "nbformat_minor": 0
}
