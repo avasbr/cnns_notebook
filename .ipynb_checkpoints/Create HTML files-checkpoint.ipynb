{
 "cells": [
  {
   "cell_type": "code",
   "execution_count": 66,
   "metadata": {
    "collapsed": true
   },
   "outputs": [],
   "source": [
    "from cnns.utils import cnn_utils as cu\n",
    "from cnns.utils import process_utils as pu\n",
    "import pandas as pd\n",
    "import numpy as np"
   ]
  },
  {
   "cell_type": "code",
   "execution_count": null,
   "metadata": {
    "collapsed": false
   },
   "outputs": [],
   "source": [
    "%load_ext autoreload\n",
    "%autoreload 2"
   ]
  },
  {
   "cell_type": "code",
   "execution_count": 3,
   "metadata": {
    "collapsed": true
   },
   "outputs": [],
   "source": [
    "evaluation_dir = '/Users/babasarala/Desktop/evaluation'\n",
    "results_dirpath = '%s/results'%evaluation_dir"
   ]
  },
  {
   "cell_type": "markdown",
   "metadata": {},
   "source": [
    "Don's account, processed with settings_v1.8.ini"
   ]
  },
  {
   "cell_type": "code",
   "execution_count": 23,
   "metadata": {
    "collapsed": false
   },
   "outputs": [
    {
     "name": "stdout",
     "output_type": "stream",
     "text": [
      "/Users/babasarala/Desktop/evaluation/results/EA_accounts/1341_1.6_redo\n"
     ]
    }
   ],
   "source": [
    "user_id = 1341\n",
    "don_dirpath = '%s/EA_accounts/1341_1.6_redo'%results_dirpath # Don's account, processed with settings_v1.7.ini\n",
    "print don_dirpath"
   ]
  },
  {
   "cell_type": "code",
   "execution_count": 24,
   "metadata": {
    "collapsed": false
   },
   "outputs": [],
   "source": [
    "d = pu.combine_checkpoint_results(don_dirpath)"
   ]
  },
  {
   "cell_type": "code",
   "execution_count": 28,
   "metadata": {
    "collapsed": false
   },
   "outputs": [
    {
     "name": "stdout",
     "output_type": "stream",
     "text": [
      "389\n",
      "2092\n",
      "694\n",
      "1071\n",
      "1030\n",
      "405\n",
      "7\n"
     ]
    }
   ],
   "source": [
    "categories = ['furry_friends', 'devices', 'screenshots', 'food', 'documents', 'whiteboards', 'sketches']\n",
    "url_lists = {}\n",
    "for category in categories:\n",
    "    url_lists[category] = [url for url, pred_cat in d.iteritems() if pred_cat==category]\n",
    "    print len(url_lists[category])"
   ]
  },
  {
   "cell_type": "code",
   "execution_count": 14,
   "metadata": {
    "collapsed": false
   },
   "outputs": [
    {
     "name": "stdout",
     "output_type": "stream",
     "text": [
      "1055\n",
      "1655\n",
      "435\n",
      "7\n"
     ]
    }
   ],
   "source": [
    "categories = ['food', 'documents', 'whiteboards', 'sketches']\n",
    "url_lists = {}\n",
    "for category in categories:\n",
    "    url_lists[category] = [url for url, cat_probs in d.iteritems() \n",
    "                     if max(cat_probs, key=lambda x: x[1])[0] == category]\n",
    "    print len(url_lists[category])"
   ]
  },
  {
   "cell_type": "code",
   "execution_count": 30,
   "metadata": {
    "collapsed": false
   },
   "outputs": [],
   "source": [
    "for category, url_list in url_lists.iteritems():\n",
    "    cu.write_html_file(url_list, user_id, '/Users/babasarala/Desktop/%i_%s.html'%(user_id, category))"
   ]
  },
  {
   "cell_type": "markdown",
   "metadata": {},
   "source": [
    "Don, Andrew, Fai, and Tabatha's prod accounts using settings_v1.6.ini"
   ]
  },
  {
   "cell_type": "code",
   "execution_count": 5,
   "metadata": {
    "collapsed": false
   },
   "outputs": [],
   "source": [
    "user_ids = [1341, 2685009, 5577597]\n",
    "categories = ['documents', 'whiteboards', 'sketches', 'food']\n",
    "checkpoint_results_dirpaths = ['%s/EA_accounts/%i_1.6'%(results_dirpath, user_id) for user_id in user_ids]\n",
    "for user_id in user_ids:\n",
    "    checkpoint_results_dirpath = '%s/EA_accounts/%i_1.6'%(results_dirpath, user_id)\n",
    "    d = cu.combine_checkpoint_results(checkpoint_results_dirpath)\n",
    "    mem_lists = {}\n",
    "    for category in categories:\n",
    "        cat_list = [mem_id for mem_id, cat_probs in d.iteritems() \\\n",
    "                    if max(cat_probs, key=lambda x:x[1])[0] == category]\n",
    "        cu.write_html_file(cat_list, user_id, '/Users/babasarala/Desktop/evaluation/%i_%s_1.6'%(user_id, category))"
   ]
  },
  {
   "cell_type": "markdown",
   "metadata": {
    "collapsed": true
   },
   "source": [
    "Little bit of analysis on the overlap between classifiers..."
   ]
  },
  {
   "cell_type": "code",
   "execution_count": 49,
   "metadata": {
    "collapsed": false
   },
   "outputs": [],
   "source": [
    "user_id = 1341\n",
    "clf_results_1 = '%s/EA_accounts/1341_1.6_redo'%results_dirpath\n",
    "clf_results_2 = '%s/EA_accounts/1341_1.7'%results_dirpath\n",
    "\n",
    "# combine all results\n",
    "d1 = pu.combine_checkpoint_results(clf_results_1)\n",
    "d2 = pu.combine_checkpoint_results(clf_results_2)\n",
    "\n",
    "# combine \n",
    "urls_1 = set([url for url, category in d1.iteritems() if category == 'food'])\n",
    "urls_2 = set([url for url, categories in d2.iteritems() if max(categories, key=lambda x: x[1])[0] == 'food'])"
   ]
  },
  {
   "cell_type": "code",
   "execution_count": 52,
   "metadata": {
    "collapsed": false
   },
   "outputs": [],
   "source": [
    "common_urls = urls_1.intersection(urls_2)"
   ]
  },
  {
   "cell_type": "code",
   "execution_count": 55,
   "metadata": {
    "collapsed": false
   },
   "outputs": [],
   "source": [
    "in_6_but_not_7 = urls_1.difference(urls_2)\n",
    "in_7_but_not_6 = urls_2.difference(urls_1)"
   ]
  },
  {
   "cell_type": "code",
   "execution_count": 57,
   "metadata": {
    "collapsed": true
   },
   "outputs": [],
   "source": [
    "cu.write_html_file(in_6_but_not_7, 1341, '/Users/babasarala/Desktop/1341_in_6_not_7.html')\n",
    "cu.write_html_file(in_7_but_not_6, 1341, '/Users/babasarala/Desktop/1341_in_7_not_6.html')"
   ]
  },
  {
   "cell_type": "markdown",
   "metadata": {},
   "source": [
    "What does \"Other\" even look like??"
   ]
  },
  {
   "cell_type": "code",
   "execution_count": 64,
   "metadata": {
    "collapsed": false
   },
   "outputs": [],
   "source": [
    "dataset_csv = '/Users/babasarala/Desktop/evaluation/dataset/productivity_food_dataset_v1.2/\\\n",
    "productivity_food_dataset_v1.2.csv'\n",
    "df = pd.read_csv(dataset_csv)\n",
    "img_urls = list(df[df['category'] == 'other']['img_url'].values)"
   ]
  },
  {
   "cell_type": "code",
   "execution_count": 68,
   "metadata": {
    "collapsed": false
   },
   "outputs": [],
   "source": [
    "random_other_img_urls = [img_urls[idx] for idx in np.random.permutation(len(img_urls))[:1000]]"
   ]
  },
  {
   "cell_type": "code",
   "execution_count": 72,
   "metadata": {
    "collapsed": false
   },
   "outputs": [],
   "source": [
    "write_html_file(random_other_img_urls, '/Users/babasarala/Desktop/random_other.html')"
   ]
  },
  {
   "cell_type": "code",
   "execution_count": 71,
   "metadata": {
    "collapsed": false
   },
   "outputs": [],
   "source": [
    "def write_html_file(mem_list, html_filepath):\n",
    "\n",
    "    head = '<head>' \\\n",
    "        '\\n\\t<title>Photo Categories</title>' \\\n",
    "        '\\n\\t<link rel=\"stylesheet\" type=\"text/css\" href=\"https://cdnjs.cloudflare.com/ajax/libs/\\\n",
    "        twitter-bootstrap/4.0.0-alpha/css/bootstrap.css\">' \\\n",
    "        '\\n\\t<style type=\"text/css\">' \\\n",
    "        '\\n\\t.img-custom {' \\\n",
    "        '\\n\\t\\twidth: 200px;' \\\n",
    "        '\\n\\t}' \\\n",
    "        '\\n\\t</style>' \\\n",
    "        '\\n</head>'\n",
    "\n",
    "    pre_images = '<body>' \\\n",
    "                 '\\n\\t<div class=\"container\">' \\\n",
    "                 '\\n\\t\\t<div class=\"row\" style=\"margin-top: 20px\">'\n",
    "    images = ''\n",
    "    for m in mem_list:\n",
    "        images += '\\n\\t\\t\\t<div class\"col-md-3\">\\n\\t\\t\\t\\t<img class=\"img_custom\" src=\"%s\">'%(m)\n",
    "\n",
    "    post_images = '\\n\\t\\t\\t</div>' \\\n",
    "                  '\\n\\t</div>' \\\n",
    "                  '\\n</body>' \\\n",
    "                  '\\n</html>'\n",
    "\n",
    "    with open(html_filepath, 'wb') as f:\n",
    "        f.write(head + pre_images + images + post_images)"
   ]
  },
  {
   "cell_type": "code",
   "execution_count": null,
   "metadata": {
    "collapsed": true
   },
   "outputs": [],
   "source": []
  }
 ],
 "metadata": {
  "kernelspec": {
   "display_name": "Python 2",
   "language": "python",
   "name": "python2"
  },
  "language_info": {
   "codemirror_mode": {
    "name": "ipython",
    "version": 2
   },
   "file_extension": ".py",
   "mimetype": "text/x-python",
   "name": "python",
   "nbconvert_exporter": "python",
   "pygments_lexer": "ipython2",
   "version": "2.7.12"
  }
 },
 "nbformat": 4,
 "nbformat_minor": 0
}
