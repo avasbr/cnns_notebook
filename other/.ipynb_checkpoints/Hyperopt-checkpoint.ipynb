{
 "cells": [
  {
   "cell_type": "code",
   "execution_count": 1,
   "metadata": {
    "collapsed": true
   },
   "outputs": [],
   "source": [
    "from hyperopt import fmin, tpe, hp"
   ]
  },
  {
   "cell_type": "code",
   "execution_count": 2,
   "metadata": {
    "collapsed": false
   },
   "outputs": [
    {
     "ename": "SyntaxError",
     "evalue": "invalid syntax (<ipython-input-2-67597de5fe9c>, line 15)",
     "output_type": "error",
     "traceback": [
      "\u001b[0;36m  File \u001b[0;32m\"<ipython-input-2-67597de5fe9c>\"\u001b[0;36m, line \u001b[0;32m15\u001b[0m\n\u001b[0;31m    print clustering_space\u001b[0m\n\u001b[0m        ^\u001b[0m\n\u001b[0;31mSyntaxError\u001b[0m\u001b[0;31m:\u001b[0m invalid syntax\n"
     ]
    }
   ],
   "source": [
    "# define the space\n",
    "clustering_space = (\n",
    "    hp.loguniform('learning_rate', log(1e-4), log(100)),\n",
    "    hp.quniform('grid_size', 2, 50),\n",
    "    hp.qloguniform('num_iter', log(1), log(1e5)),\n",
    "    hp.quniform('num_trials', 1, 20),\n",
    "    hp.loguniform('sigma', log(1.0), log(1e4)),\n",
    "    hp.choice('reduce_dim', [\n",
    "        False,\n",
    "        {\n",
    "            'num_dim_pwr': hp.quniform(2, 12)\n",
    "        }\n",
    "    ]))\n",
    "\n",
    "print clustering_space"
   ]
  },
  {
   "cell_type": "code",
   "execution_count": null,
   "metadata": {
    "collapsed": true
   },
   "outputs": [],
   "source": []
  }
 ],
 "metadata": {
  "kernelspec": {
   "display_name": "Python 2",
   "language": "python",
   "name": "python2"
  },
  "language_info": {
   "codemirror_mode": {
    "name": "ipython",
    "version": 2
   },
   "file_extension": ".py",
   "mimetype": "text/x-python",
   "name": "python",
   "nbconvert_exporter": "python",
   "pygments_lexer": "ipython2",
   "version": "2.7.12"
  }
 },
 "nbformat": 4,
 "nbformat_minor": 0
}
