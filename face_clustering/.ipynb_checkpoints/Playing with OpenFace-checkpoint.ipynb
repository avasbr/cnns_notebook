{
 "cells": [
  {
   "cell_type": "code",
   "execution_count": 25,
   "metadata": {
    "collapsed": true
   },
   "outputs": [],
   "source": [
    "from cnns.core import TorchOpenFace as tof\n",
    "from cnns.utils import cnn_utils as cu\n",
    "import cv2\n",
    "import numpy as np\n",
    "import pandas as pd\n",
    "from cnns.core import SOMClusterer as scl\n",
    "from sklearn.metrics.cluster import homogeneity_completeness_v_measure\n",
    "from cnns.utils import clustering_utils as clu\n",
    "import pickle as pkl"
   ]
  },
  {
   "cell_type": "markdown",
   "metadata": {},
   "source": [
    "Load OpenFace"
   ]
  },
  {
   "cell_type": "code",
   "execution_count": 26,
   "metadata": {
    "collapsed": false
   },
   "outputs": [
    {
     "name": "stdout",
     "output_type": "stream",
     "text": [
      "The autoreload extension is already loaded. To reload it, use:\n",
      "  %reload_ext autoreload\n"
     ]
    }
   ],
   "source": [
    "%load_ext autoreload\n",
    "%autoreload 2"
   ]
  },
  {
   "cell_type": "code",
   "execution_count": 28,
   "metadata": {
    "collapsed": false
   },
   "outputs": [],
   "source": [
    "def compute_hcv_metrics(img_urls, X, proc_settings_ver, user_id, cluster_html,\n",
    "                        grid_size=15, sigma=1.0, learning_rate=0.25, num_trials=5, num_iter=100, \n",
    "                        reduce_dim=False, num_dim=512):\n",
    "    \n",
    "    # keep these hard-coded for the time being...\n",
    "    base_dirpath = '/Users/babasarala/Desktop/face_clustering_full_data'\n",
    "    comp_type = 'None'\n",
    "    tagged_csv_filepath = '%s/%i_clusters.csv'%(base_dirpath, user_id)\n",
    "    tagged_df = pd.read_csv(open(tagged_csv_filepath, 'rb'))\n",
    "    \n",
    "    # combine with the CSV file\n",
    "    url_csv_filepath = '%s/%i/%i_prod_fb_tags_img_urls_%.1f_%s.csv'\\\n",
    "                       %(base_dirpath, user_id, user_id, proc_settings_ver,comp_type)\n",
    "    url_df = pd.read_csv(open(url_csv_filepath, 'rb'))\n",
    "    \n",
    "    #pkl_filepath = '%s/%i/%i_prod_1.2_None_cnn_codes.p'%(base_dirpath, user_id, user_id)\n",
    "    #img_urls, X = pkl.load(open(pkl_filepath, 'rb'))\n",
    "    scl_ = scl.SOMClusterer(img_urls, X, grid_size=grid_size, sigma=sigma, learning_rate=learning_rate, \n",
    "                            num_trials=num_trials, reduce_dim=reduce_dim, num_dim=num_dim, num_iter=num_iter)\n",
    "    cluster_df = scl_.run()\n",
    "    \n",
    "    gt_df = pd.merge(cluster_df, url_df, left_on='face_url', right_on='img_url')\n",
    "    cols = ['face_id', 'tag', 'memorable_id', 'cluster_idx', 'face_url']\n",
    "\n",
    "    merged_df = pd.merge(gt_df, tagged_df, on=['face_id', 'memorable_id', 'user_id'])[cols]\n",
    "    true_labels = list(merged_df['tag'].values)\n",
    "    cluster_labels = list(merged_df['cluster_idx'].values)\n",
    "    h, c, v = homogeneity_completeness_v_measure(true_labels, cluster_labels)\n",
    "    \n",
    "    # visualize!\n",
    "    cluster_map, _, _ = scl_.convert_to_maps(cluster_df)\n",
    "    clu.visualize_clusters(cluster_map, cluster_html)\n",
    "    return h, c, v"
   ]
  },
  {
   "cell_type": "markdown",
   "metadata": {},
   "source": [
    "Single image"
   ]
  },
  {
   "cell_type": "code",
   "execution_count": 7,
   "metadata": {
    "collapsed": false
   },
   "outputs": [],
   "source": [
    "img_filepath = '/Users/babasarala/Desktop/face_clustering_full_data/1341/1341_prod_1.2_None_images/9915939467_212664635.jpg'\n",
    "image = cu.torch_load_image(img_filepath)"
   ]
  },
  {
   "cell_type": "code",
   "execution_count": 8,
   "metadata": {
    "collapsed": false
   },
   "outputs": [
    {
     "data": {
      "text/plain": [
       "array([-0.06915157,  0.08261652, -0.06482871, -0.11739713,  0.01845421,\n",
       "        0.12255683, -0.15433681, -0.00676398, -0.15175544,  0.04406863,\n",
       "       -0.02034096, -0.09826448,  0.06080227, -0.0373427 ,  0.05672698,\n",
       "        0.07125273,  0.01132244, -0.03724903,  0.14132334, -0.05332252,\n",
       "        0.09322547, -0.04973346,  0.12671643, -0.09877689,  0.08428668,\n",
       "        0.13102978,  0.01476111, -0.17729791,  0.11381032, -0.0809738 ,\n",
       "        0.20732866, -0.04312443, -0.0412151 , -0.0863544 ,  0.06930441,\n",
       "        0.0469732 , -0.03583637,  0.11210234,  0.19080943,  0.03834464,\n",
       "       -0.03698236,  0.0155298 , -0.06165396,  0.10500638, -0.02497769,\n",
       "       -0.00165782,  0.12768404,  0.02512852, -0.10675585, -0.16037175,\n",
       "       -0.06120317,  0.01363889,  0.03641329, -0.06257543, -0.14291508,\n",
       "        0.00700344,  0.14858468,  0.10453454,  0.03000544, -0.13513629,\n",
       "       -0.03007873,  0.00392263,  0.12632875, -0.05850722,  0.11616812,\n",
       "       -0.03469099,  0.03010117,  0.10044143,  0.11211664,  0.02619037,\n",
       "       -0.04058791,  0.11765558, -0.09402136, -0.06027136,  0.01517315,\n",
       "       -0.12395433, -0.16415387,  0.08792255,  0.0172248 ,  0.14933603,\n",
       "       -0.10105265,  0.02295426,  0.04786211,  0.02385533, -0.07805072,\n",
       "       -0.0759523 ,  0.05608336,  0.05115628,  0.01129483, -0.20892906,\n",
       "       -0.00182348,  0.08811834,  0.03162576,  0.01932699,  0.06740545,\n",
       "       -0.10171191,  0.05982101,  0.22140037, -0.15504469, -0.0204829 ,\n",
       "       -0.10666474, -0.00773369, -0.06599732,  0.08617002, -0.00871625,\n",
       "        0.01859524,  0.01572778,  0.04052873,  0.15403958, -0.05222543,\n",
       "       -0.04190291,  0.02404669, -0.08660308,  0.02231082,  0.07475787,\n",
       "        0.03340436, -0.17360009, -0.11634662,  0.00530208,  0.01321263,\n",
       "        0.00696909, -0.01601484, -0.02937224, -0.05390639, -0.09958443,\n",
       "       -0.02579354, -0.094584  ,  0.0875833 ])"
      ]
     },
     "execution_count": 8,
     "metadata": {},
     "output_type": "execute_result"
    }
   ],
   "source": [
    "tof_.compute_intermediate_output(image)"
   ]
  },
  {
   "cell_type": "markdown",
   "metadata": {},
   "source": [
    "Images from CSV file"
   ]
  },
  {
   "cell_type": "code",
   "execution_count": 12,
   "metadata": {
    "collapsed": true
   },
   "outputs": [],
   "source": [
    "user_ids = [1946418, 8657185, 5626377, 5, 5692777, 3473194, 3928074, 4619758, 2685009, 1496616, 1341, 8, 34, 6007945]\n",
    "proc_settings_ver = 1.2\n",
    "network_model_filename = 'nn4.small2.v1.t7'\n",
    "\n",
    "# these won't really change..\n",
    "models_dirpath = '/Users/babasarala/repos/cnns/models'\n",
    "dlib_face_predictor = 'shape_predictor_68_face_landmarks.dat'\n",
    "network_model_filepath = '%s/openface/%s' % (\n",
    "    models_dirpath, network_model_filename)\n",
    "dlib_model_filepath = '%s/dlib/%s' % (models_dirpath, dlib_face_predictor)\n",
    "img_dim = 96\n",
    "tof_ = tof.TorchClassifier(dlib_model_filepath=dlib_model_filepath, \n",
    "                          network_model_filepath=network_model_filepath,\n",
    "                          img_dim=img_dim)\n",
    "results_dirpath = '/Users/babasarala/Desktop/openface_experiments'\n",
    "html_dirpath = '/Users/babasarala/Desktop/openface_experiments/cluster_htmls'"
   ]
  },
  {
   "cell_type": "code",
   "execution_count": 8,
   "metadata": {
    "collapsed": false
   },
   "outputs": [
    {
     "name": "stdout",
     "output_type": "stream",
     "text": [
      "Currently processing user_id: 1946418\n",
      "Currently processing user_id: 8657185\n",
      "Currently processing user_id: 5626377\n",
      "Currently processing user_id: 5\n",
      "Currently processing user_id: 5692777\n",
      "Currently processing user_id: 3473194\n",
      "Currently processing user_id: 3928074\n",
      "Currently processing user_id: 4619758\n",
      "Currently processing user_id: 2685009\n",
      "Currently processing user_id: 1496616\n",
      "Currently processing user_id: 1341\n",
      "Currently processing user_id: 8\n",
      "Currently processing user_id: 34\n",
      "Currently processing user_id: 6007945\n"
     ]
    }
   ],
   "source": [
    "for user_id in user_ids:\n",
    "    print 'Currently processing user_id: %i'%(user_id)\n",
    "    csv_filepath = '/Users/babasarala/Desktop/face_clustering_full_data/%i/%i_prod_fb_tags_img_urls_%.1f_None.csv' \\\n",
    "    %(user_id, user_id, proc_settings_ver)\n",
    "    df = pd.read_csv(csv_filepath)\n",
    "\n",
    "    img_urls = list(df['img_url'].values)\n",
    "    X = np.empty((len(img_urls), tof_.get_layer_output_size()))\n",
    "    valid_img_urls = []\n",
    "    cnt = 0\n",
    "    for idx, img_url in enumerate(img_urls):\n",
    "        image = cu.torch_load_image(img_url)\n",
    "        try:\n",
    "            x = tof_.compute_intermediate_output(image)\n",
    "            X[cnt] = x\n",
    "            valid_img_urls.append(img_url)\n",
    "            cnt += 1\n",
    "        except:\n",
    "            pass\n",
    "    X = X[:cnt]\n",
    "\n",
    "    assert X.shape[0] == len(valid_img_urls)\n",
    "    pkl.dump((valid_img_urls, X), open('%s/%i_cnn_codes.p'%(results_dirpath, user_id), 'wb'))"
   ]
  },
  {
   "cell_type": "markdown",
   "metadata": {},
   "source": [
    "Clustering"
   ]
  },
  {
   "cell_type": "code",
   "execution_count": 29,
   "metadata": {
    "collapsed": false
   },
   "outputs": [
    {
     "name": "stdout",
     "output_type": "stream",
     "text": [
      "0.856007437744 0.640948679279 0.733029953832\n",
      "0.702304131195 0.536095015063 0.608045871042\n",
      "0.684424888725 0.444187959273 0.538737965172\n",
      "0.694771461344 0.515331572595 0.591747412786\n",
      "0.962576499481 0.48539120443 0.645354402832\n",
      "0.873437903787 0.412379804174 0.560247614404\n",
      "0.722742142064 0.532565364832 0.613248037557\n",
      "0.983354120872 0.580133902408 0.729749195512\n",
      "0.765909425446 0.538003661923 0.632039174363\n",
      "0.628903692751 0.479115107424 0.543884743226\n",
      "0.746414735658 0.359002311587 0.484820848696\n",
      "0.617543600595 0.509146136627 0.558130473819\n",
      "0.956316955086 0.67728686745 0.792971840375\n",
      "0.765202506883 0.758162638962 0.761666306389\n"
     ]
    }
   ],
   "source": [
    "for user_id in user_ids:\n",
    "    #print 'Clustering photos for user_id: %i'%(user_id)\n",
    "    img_urls, X = pkl.load(open('%s/%i_cnn_codes.p'%(results_dirpath, user_id), 'rb'))\n",
    "    cluster_html = '%s/%i_Openface_default.html'%(html_dirpath, user_id)\n",
    "    h, c, v = compute_hcv_metrics(img_urls, X, proc_settings_ver, user_id, cluster_html)\n",
    "    print h, c, v"
   ]
  },
  {
   "cell_type": "code",
   "execution_count": null,
   "metadata": {
    "collapsed": true
   },
   "outputs": [],
   "source": []
  }
 ],
 "metadata": {
  "kernelspec": {
   "display_name": "Python 2",
   "language": "python",
   "name": "python2"
  },
  "language_info": {
   "codemirror_mode": {
    "name": "ipython",
    "version": 2
   },
   "file_extension": ".py",
   "mimetype": "text/x-python",
   "name": "python",
   "nbconvert_exporter": "python",
   "pygments_lexer": "ipython2",
   "version": "2.7.12"
  }
 },
 "nbformat": 4,
 "nbformat_minor": 0
}
