{
 "cells": [
  {
   "cell_type": "markdown",
   "metadata": {},
   "source": [
    "Testing a slew of clustering algorithms"
   ]
  },
  {
   "cell_type": "code",
   "execution_count": 2,
   "metadata": {
    "collapsed": true
   },
   "outputs": [],
   "source": [
    "import pickle as pkl\n",
    "from cnns.core import SOMClusterer as som\n",
    "from cnns.core import APClusterer as ap\n",
    "from cnns.utils import clustering_utils as clu"
   ]
  },
  {
   "cell_type": "code",
   "execution_count": 3,
   "metadata": {
    "collapsed": true
   },
   "outputs": [],
   "source": [
    "def combine_clustering_algos(face_ids, X, clusterer_config_map):\n",
    "    num_models = len(cluster_config_map)\n",
    "    cluster_id_map = np.empty((X.shape[0], num_models + 1))\n",
    "    cluster_id_map[:, -1] = -1\n",
    "    dfs = []\n",
    "    for clusterer, config in clusterer_config_map.iteritems():\n",
    "        c_ = clusterer(face_ids, X, **config)\n",
    "        df = c_.run()\n",
    "        df = df[['face_id', 'cluster_idx']]\n",
    "        dfs.append(df)\n",
    "    return dfs\n",
    "\n",
    "def merge_multi_cluster_labels(self, cluster_id_map):\n",
    "    unmerged_set = set(range(cluster_id_map.shape[0]))\n",
    "    thresh = (cluster_id_map.shape[1] - 1)/2\n",
    "    global_cluster_idx = 0\n",
    "    while len(unmerged_set) > 0:\n",
    "        curr_cluster = set([])\n",
    "        i = list(unmerged_set)[0]\n",
    "        cluster_id_map[i, -1] = global_cluster_idx\n",
    "        curr_cluster.add(i)\n",
    "        for j in unmerged_set:\n",
    "            if i != j:\n",
    "                num_same_cluster_id = len(\n",
    "                    np.where((cluster_id_map[i, :-1] - cluster_id_map[j, :-1]) == 0)[0])\n",
    "\n",
    "                # take the majority vote\n",
    "                if num_same_cluster_id > thresh:\n",
    "                    cluster_id_map[j, -1] = global_cluster_idx\n",
    "                    curr_cluster.add(j)\n",
    "        global_cluster_idx += 1\n",
    "        unmerged_set = unmerged_set.difference(curr_cluster)"
   ]
  },
  {
   "cell_type": "code",
   "execution_count": 7,
   "metadata": {
    "collapsed": true
   },
   "outputs": [],
   "source": [
    "user_id = 2685009\n",
    "base_dirpath = '/Users/babasarala/Desktop/face_clustering_full_data'\n",
    "settings_ver = 1.2\n",
    "comp_type = None\n",
    "pickle_filepath = '%s/%i/%i_prod_%.1f_%s_cnn_codes.p'%(base_dirpath, user_id, user_id, settings_ver, comp_type)"
   ]
  },
  {
   "cell_type": "code",
   "execution_count": 7,
   "metadata": {
    "collapsed": false
   },
   "outputs": [
    {
     "ename": "NameError",
     "evalue": "name 'pickle_filepath' is not defined",
     "output_type": "error",
     "traceback": [
      "\u001b[0;31m---------------------------------------------------------------------------\u001b[0m",
      "\u001b[0;31mNameError\u001b[0m                                 Traceback (most recent call last)",
      "\u001b[0;32m<ipython-input-7-8e1809b40055>\u001b[0m in \u001b[0;36m<module>\u001b[0;34m()\u001b[0m\n\u001b[0;32m----> 1\u001b[0;31m \u001b[0mimg_urls\u001b[0m\u001b[0;34m,\u001b[0m \u001b[0mX\u001b[0m \u001b[0;34m=\u001b[0m \u001b[0mpkl\u001b[0m\u001b[0;34m.\u001b[0m\u001b[0mload\u001b[0m\u001b[0;34m(\u001b[0m\u001b[0mopen\u001b[0m\u001b[0;34m(\u001b[0m\u001b[0mpickle_filepath\u001b[0m\u001b[0;34m,\u001b[0m \u001b[0;34m'rb'\u001b[0m\u001b[0;34m)\u001b[0m\u001b[0;34m)\u001b[0m\u001b[0;34m\u001b[0m\u001b[0m\n\u001b[0m",
      "\u001b[0;31mNameError\u001b[0m: name 'pickle_filepath' is not defined"
     ]
    }
   ],
   "source": [
    "img_urls, X = pkl.load(open(pickle_filepath, 'rb'))"
   ]
  },
  {
   "cell_type": "code",
   "execution_count": 5,
   "metadata": {
    "collapsed": true
   },
   "outputs": [],
   "source": [
    "som_config = {'grid_size':15, 'sigma':1.0, 'learning_rate':0.25, 'num_trials':3, 'num_iter':100, 'normalize':True}\n",
    "ap_config = {'damping':0.5, 'convergence_iter':15, 'max_iter':200, 'affinity':'euclidean'}\n",
    "clusterer_config_map = {som.SOMClusterer:som_config, ap.APClusterer:ap_config}"
   ]
  },
  {
   "cell_type": "code",
   "execution_count": 6,
   "metadata": {
    "collapsed": false
   },
   "outputs": [
    {
     "ename": "NameError",
     "evalue": "name 'img_urls' is not defined",
     "output_type": "error",
     "traceback": [
      "\u001b[0;31m---------------------------------------------------------------------------\u001b[0m",
      "\u001b[0;31mNameError\u001b[0m                                 Traceback (most recent call last)",
      "\u001b[0;32m<ipython-input-6-c386aa8b7399>\u001b[0m in \u001b[0;36m<module>\u001b[0;34m()\u001b[0m\n\u001b[0;32m----> 1\u001b[0;31m \u001b[0mdfs\u001b[0m \u001b[0;34m=\u001b[0m \u001b[0mcombine_clustering_algos\u001b[0m\u001b[0;34m(\u001b[0m\u001b[0mimg_urls\u001b[0m\u001b[0;34m,\u001b[0m \u001b[0mX\u001b[0m\u001b[0;34m,\u001b[0m \u001b[0mclusterer_config_map\u001b[0m\u001b[0;34m)\u001b[0m\u001b[0;34m\u001b[0m\u001b[0m\n\u001b[0m",
      "\u001b[0;31mNameError\u001b[0m: name 'img_urls' is not defined"
     ]
    }
   ],
   "source": [
    "dfs = combine_clustering_algos(img_urls, X, clusterer_config_map)"
   ]
  },
  {
   "cell_type": "code",
   "execution_count": null,
   "metadata": {
    "collapsed": true
   },
   "outputs": [],
   "source": []
  }
 ],
 "metadata": {
  "kernelspec": {
   "display_name": "Python 2",
   "language": "python",
   "name": "python2"
  },
  "language_info": {
   "codemirror_mode": {
    "name": "ipython",
    "version": 2
   },
   "file_extension": ".py",
   "mimetype": "text/x-python",
   "name": "python",
   "nbconvert_exporter": "python",
   "pygments_lexer": "ipython2",
   "version": "2.7.12"
  }
 },
 "nbformat": 4,
 "nbformat_minor": 0
}
